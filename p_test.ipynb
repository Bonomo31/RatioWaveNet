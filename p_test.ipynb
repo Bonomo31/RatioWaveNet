{
 "cells": [
  {
   "cell_type": "markdown",
   "id": "148f28dc",
   "metadata": {},
   "source": [
    "## P-Value"
   ]
  },
  {
   "cell_type": "code",
   "execution_count": 4,
   "id": "158f72de",
   "metadata": {},
   "outputs": [
    {
     "name": "stdout",
     "output_type": "stream",
     "text": [
      "Confronto con: RatioWaveNet\n",
      "EEGNet           -> p-value: 0.0702 (non significativo)\n",
      "ShallowConvNet   -> p-value: 0.0315 (significativo)\n",
      "MBEEG_SENet      -> p-value: 0.1104 (non significativo)\n",
      "EEGTCNet         -> p-value: 0.0093 (significativo)\n",
      "ATCNet           -> p-value: 0.9289 (non significativo)\n"
     ]
    }
   ],
   "source": [
    "# ttest for bci2a\n",
    "from scipy.stats import ttest_ind\n",
    "\n",
    "accuracies = {\n",
    "    'EEGNet':         [77.78, 52.43, 88.54, 61.46, 62.85, 58.33, 85.07, 74.65, 76.04],\n",
    "    'ShallowConvNet': [72.92, 46.88, 83.68, 47.92, 63.19, 40.97, 81.94, 78.82, 75.35],\n",
    "    'MBEEG_SENet':    [82.29, 53.82, 92.36, 65.62, 44.79, 57.64, 86.46, 79.51, 71.88],\n",
    "    'EEGTCNet':       [63.19, 49.65, 81.25, 50.69, 62.50, 46.18, 80.90, 68.75, 76.04],\n",
    "    'ATCNet':         [86.11, 64.93, 92.01, 80.56, 71.53, 68.75, 95.14, 82.99, 87.85],\n",
    "    'RatioWaveNet':   [88.54, 65.97, 95.14, 80.56, 68.40, 70.83, 92.01, 81.94, 90.62]\n",
    "}\n",
    "\n",
    "reference = accuracies['RatioWaveNet']\n",
    "\n",
    "print(\"Confronto con: RatioWaveNet\")\n",
    "for model, values in accuracies.items():\n",
    "    if model != 'RatioWaveNet':\n",
    "        t_stat, p_val = ttest_ind(reference, values, equal_var=False)\n",
    "        significato = \"(significativo)\" if p_val < 0.05 else \"(non significativo)\"\n",
    "        print(f\"{model:16} -> p-value: {p_val:.4f} {significato}\")\n",
    "\n"
   ]
  },
  {
   "cell_type": "code",
   "execution_count": 5,
   "id": "fa2f8289",
   "metadata": {},
   "outputs": [
    {
     "name": "stdout",
     "output_type": "stream",
     "text": [
      "Confronto con: RatioWaveNet\n",
      "EEGNet           -> p-value: 0.3807 (non significativo)\n",
      "ShallowConvNet   -> p-value: 0.4214 (non significativo)\n",
      "MBEEG_SENet      -> p-value: 0.7329 (non significativo)\n",
      "EEGTCNet         -> p-value: 0.3801 (non significativo)\n",
      "ATCNet           -> p-value: 0.6869 (non significativo)\n"
     ]
    }
   ],
   "source": [
    "#ttest for bci2b\n",
    "accuracies = {\n",
    "    'EEGNet':         [98.58,99.10,98.19,84.44,92.95,99.53,97.41,98.91,93.51],\n",
    "    'ShallowConvNet': [99.29,99.10,97.10,86.67,91.67,98.59,95.19,99.28,98.27],\n",
    "    'MBEEG_SENet':    [100.00,100.00,99.64,84.44,92.95,100.00,96.67,99.28,99.57],\n",
    "    'EEGTCNet':       [98.23,99.10,97.10,84.44,90.38,100.00,97.41,98.19,97.40],\n",
    "    'ATCNet':         [99.65,99.10,98.55,86.67,92.31,100.00,98.15,98.55,99.13],\n",
    "    'RatioWaveNet':   [98.94,99.10,99.64,88.89,94.87,100.00,98.15,99.64,100.00]\n",
    "}\n",
    "\n",
    "reference = accuracies['RatioWaveNet']\n",
    "\n",
    "print(\"Confronto con: RatioWaveNet\")\n",
    "for model, values in accuracies.items():\n",
    "    if model != 'RatioWaveNet':\n",
    "        t_stat, p_val = ttest_ind(reference, values, equal_var=False)\n",
    "        significato = \"(significativo)\" if p_val < 0.05 else \"(non significativo)\"\n",
    "        print(f\"{model:16} -> p-value: {p_val:.4f} {significato}\")"
   ]
  },
  {
   "cell_type": "code",
   "execution_count": 6,
   "id": "21c4c687",
   "metadata": {},
   "outputs": [
    {
     "name": "stdout",
     "output_type": "stream",
     "text": [
      "Confronto con: RatioWaveNet\n",
      "EEGNet           -> p-value: 0.0920 (non significativo)\n",
      "ShallowConvNet   -> p-value: 0.0334 (significativo)\n",
      "MBEEG_SENet      -> p-value: 0.4044 (non significativo)\n",
      "EEGTCNet         -> p-value: 0.0366 (significativo)\n",
      "ATCNet           -> p-value: 0.0795 (non significativo)\n"
     ]
    }
   ],
   "source": [
    "#ttest for hgd\n",
    "accuracies = {\n",
    "    'EEGNet':         [89.38,81.25,97.50,95.62,90.00,94.38,91.19,87.50,95.62,86.25,76.88,93.12,86.25,57.50],\n",
    "    'ShallowConvNet': [88.75,87.50,96.25,95.62,88.75,91.88,88.05,85.62,95.62,85.62,68.75,91.88,76.25,78.12],\n",
    "    'MBEEG_SENet':    [91.25,93.75,98.75,95.00,90.62,95.62,89.94,93.12,96.88,90.62,83.12,95.00,89.38,65.00],\n",
    "    'EEGTCNet':       [87.50,90.62,95.62,90.62,90.00,85.62,93.08,87.50,95.00,85.00,65.62,93.12,84.38,68.75],\n",
    "    'ATCNet':         [85.00,86.88,98.12,95.62,91.25,94.38,89.94,86.88,92.50,88.75,76.88,93.12,86.88,78.12],\n",
    "    'RatioWaveNet':   [95.00,93.75,97.50,98.75,93.75,93.75,93.71,92.50,97.50,93.75,85.62,93.12,92.50,78.12]\n",
    "}\n",
    "\n",
    "reference = accuracies['RatioWaveNet']\n",
    "\n",
    "print(\"Confronto con: RatioWaveNet\")\n",
    "for model, values in accuracies.items():\n",
    "    if model != 'RatioWaveNet':\n",
    "        t_stat, p_val = ttest_ind(reference, values, equal_var=False)\n",
    "        significato = \"(significativo)\" if p_val < 0.05 else \"(non significativo)\"\n",
    "        print(f\"{model:16} -> p-value: {p_val:.4f} {significato}\")"
   ]
  }
 ],
 "metadata": {
  "kernelspec": {
   "display_name": "Python 3",
   "language": "python",
   "name": "python3"
  },
  "language_info": {
   "codemirror_mode": {
    "name": "ipython",
    "version": 3
   },
   "file_extension": ".py",
   "mimetype": "text/x-python",
   "name": "python",
   "nbconvert_exporter": "python",
   "pygments_lexer": "ipython3",
   "version": "3.10.5"
  }
 },
 "nbformat": 4,
 "nbformat_minor": 5
}
