{
  "cells": [
    {
      "cell_type": "markdown",
      "metadata": {
        "id": "suOjhqcbky9P"
      },
      "source": [
        "# BCI Giuseppe Bonomo BCI2b IV"
      ]
    },
    {
      "cell_type": "code",
      "execution_count": 1,
      "metadata": {
        "colab": {
          "base_uri": "https://localhost:8080/"
        },
        "id": "kExkM1UKKKJ-",
        "outputId": "78f07137-1da9-453d-8390-7c73eaa0141e"
      },
      "outputs": [
        {
          "name": "stdout",
          "output_type": "stream",
          "text": [
            "Requirement already satisfied: mne in /home/giuseppe_bonomo/miniconda3/envs/tensorflow/lib/python3.10/site-packages (1.9.0)\n",
            "Requirement already satisfied: decorator in /home/giuseppe_bonomo/miniconda3/envs/tensorflow/lib/python3.10/site-packages (from mne) (5.2.1)\n",
            "Requirement already satisfied: jinja2 in /home/giuseppe_bonomo/miniconda3/envs/tensorflow/lib/python3.10/site-packages (from mne) (3.1.6)\n",
            "Requirement already satisfied: lazy-loader>=0.3 in /home/giuseppe_bonomo/miniconda3/envs/tensorflow/lib/python3.10/site-packages (from mne) (0.4)\n",
            "Requirement already satisfied: matplotlib>=3.6 in /home/giuseppe_bonomo/miniconda3/envs/tensorflow/lib/python3.10/site-packages (from mne) (3.10.1)\n",
            "Requirement already satisfied: numpy<3,>=1.23 in /home/giuseppe_bonomo/miniconda3/envs/tensorflow/lib/python3.10/site-packages (from mne) (2.1.3)\n",
            "Requirement already satisfied: packaging in /home/giuseppe_bonomo/miniconda3/envs/tensorflow/lib/python3.10/site-packages (from mne) (24.2)\n",
            "Requirement already satisfied: pooch>=1.5 in /home/giuseppe_bonomo/miniconda3/envs/tensorflow/lib/python3.10/site-packages (from mne) (1.8.2)\n",
            "Requirement already satisfied: scipy>=1.9 in /home/giuseppe_bonomo/miniconda3/envs/tensorflow/lib/python3.10/site-packages (from mne) (1.15.2)\n",
            "Requirement already satisfied: tqdm in /home/giuseppe_bonomo/miniconda3/envs/tensorflow/lib/python3.10/site-packages (from mne) (4.67.1)\n",
            "Requirement already satisfied: contourpy>=1.0.1 in /home/giuseppe_bonomo/miniconda3/envs/tensorflow/lib/python3.10/site-packages (from matplotlib>=3.6->mne) (1.3.1)\n",
            "Requirement already satisfied: cycler>=0.10 in /home/giuseppe_bonomo/miniconda3/envs/tensorflow/lib/python3.10/site-packages (from matplotlib>=3.6->mne) (0.12.1)\n",
            "Requirement already satisfied: fonttools>=4.22.0 in /home/giuseppe_bonomo/miniconda3/envs/tensorflow/lib/python3.10/site-packages (from matplotlib>=3.6->mne) (4.56.0)\n",
            "Requirement already satisfied: kiwisolver>=1.3.1 in /home/giuseppe_bonomo/miniconda3/envs/tensorflow/lib/python3.10/site-packages (from matplotlib>=3.6->mne) (1.4.8)\n",
            "Requirement already satisfied: pillow>=8 in /home/giuseppe_bonomo/miniconda3/envs/tensorflow/lib/python3.10/site-packages (from matplotlib>=3.6->mne) (11.1.0)\n",
            "Requirement already satisfied: pyparsing>=2.3.1 in /home/giuseppe_bonomo/miniconda3/envs/tensorflow/lib/python3.10/site-packages (from matplotlib>=3.6->mne) (3.2.3)\n",
            "Requirement already satisfied: python-dateutil>=2.7 in /home/giuseppe_bonomo/miniconda3/envs/tensorflow/lib/python3.10/site-packages (from matplotlib>=3.6->mne) (2.9.0.post0)\n",
            "Requirement already satisfied: platformdirs>=2.5.0 in /home/giuseppe_bonomo/miniconda3/envs/tensorflow/lib/python3.10/site-packages (from pooch>=1.5->mne) (4.3.7)\n",
            "Requirement already satisfied: requests>=2.19.0 in /home/giuseppe_bonomo/miniconda3/envs/tensorflow/lib/python3.10/site-packages (from pooch>=1.5->mne) (2.32.3)\n",
            "Requirement already satisfied: MarkupSafe>=2.0 in /home/giuseppe_bonomo/miniconda3/envs/tensorflow/lib/python3.10/site-packages (from jinja2->mne) (3.0.2)\n",
            "Requirement already satisfied: six>=1.5 in /home/giuseppe_bonomo/miniconda3/envs/tensorflow/lib/python3.10/site-packages (from python-dateutil>=2.7->matplotlib>=3.6->mne) (1.17.0)\n",
            "Requirement already satisfied: charset-normalizer<4,>=2 in /home/giuseppe_bonomo/miniconda3/envs/tensorflow/lib/python3.10/site-packages (from requests>=2.19.0->pooch>=1.5->mne) (3.4.1)\n",
            "Requirement already satisfied: idna<4,>=2.5 in /home/giuseppe_bonomo/miniconda3/envs/tensorflow/lib/python3.10/site-packages (from requests>=2.19.0->pooch>=1.5->mne) (3.10)\n",
            "Requirement already satisfied: urllib3<3,>=1.21.1 in /home/giuseppe_bonomo/miniconda3/envs/tensorflow/lib/python3.10/site-packages (from requests>=2.19.0->pooch>=1.5->mne) (2.3.0)\n",
            "Requirement already satisfied: certifi>=2017.4.17 in /home/giuseppe_bonomo/miniconda3/envs/tensorflow/lib/python3.10/site-packages (from requests>=2.19.0->pooch>=1.5->mne) (2025.1.31)\n",
            "Note: you may need to restart the kernel to use updated packages.\n",
            "Requirement already satisfied: PyWavelets in /home/giuseppe_bonomo/miniconda3/envs/tensorflow/lib/python3.10/site-packages (1.8.0)\n",
            "Requirement already satisfied: numpy<3,>=1.23 in /home/giuseppe_bonomo/miniconda3/envs/tensorflow/lib/python3.10/site-packages (from PyWavelets) (2.1.3)\n",
            "Note: you may need to restart the kernel to use updated packages.\n"
          ]
        },
        {
          "name": "stderr",
          "output_type": "stream",
          "text": [
            "2025-04-08 13:04:50.312924: I tensorflow/core/util/port.cc:153] oneDNN custom operations are on. You may see slightly different numerical results due to floating-point round-off errors from different computation orders. To turn them off, set the environment variable `TF_ENABLE_ONEDNN_OPTS=0`.\n",
            "2025-04-08 13:04:50.324247: E external/local_xla/xla/stream_executor/cuda/cuda_fft.cc:467] Unable to register cuFFT factory: Attempting to register factory for plugin cuFFT when one has already been registered\n",
            "WARNING: All log messages before absl::InitializeLog() is called are written to STDERR\n",
            "E0000 00:00:1744110290.336782  973379 cuda_dnn.cc:8579] Unable to register cuDNN factory: Attempting to register factory for plugin cuDNN when one has already been registered\n",
            "E0000 00:00:1744110290.340503  973379 cuda_blas.cc:1407] Unable to register cuBLAS factory: Attempting to register factory for plugin cuBLAS when one has already been registered\n",
            "W0000 00:00:1744110290.350241  973379 computation_placer.cc:177] computation placer already registered. Please check linkage and avoid linking the same target more than once.\n",
            "W0000 00:00:1744110290.350255  973379 computation_placer.cc:177] computation placer already registered. Please check linkage and avoid linking the same target more than once.\n",
            "W0000 00:00:1744110290.350257  973379 computation_placer.cc:177] computation placer already registered. Please check linkage and avoid linking the same target more than once.\n",
            "W0000 00:00:1744110290.350258  973379 computation_placer.cc:177] computation placer already registered. Please check linkage and avoid linking the same target more than once.\n",
            "2025-04-08 13:04:50.354067: I tensorflow/core/platform/cpu_feature_guard.cc:210] This TensorFlow binary is optimized to use available CPU instructions in performance-critical operations.\n",
            "To enable the following instructions: AVX2 AVX512F AVX512_VNNI AVX512_BF16 AVX512_FP16 AVX_VNNI AMX_TILE AMX_INT8 AMX_BF16 FMA, in other operations, rebuild TensorFlow with the appropriate compiler flags.\n"
          ]
        }
      ],
      "source": [
        "\n",
        "#%%\n",
        "#!git clone https://github.com/marco-siino/EEG-ATCNet.git\n",
        "#!git clone https://github.com/Bonomo31/Tesi.git\n",
        "%pip install mne\n",
        "%pip install PyWavelets\n",
        "#Le ulitme versioni non sono compatibili con le librerie usate\n",
        "#in preprocess_HGD.py, quindi si è optato a utilizzare una versione meno recente\n",
        "#%pip install braindecode==0.3\n",
        "\n",
        "import os\n",
        "import sys\n",
        "import shutil\n",
        "import time\n",
        "import pywt\n",
        "import numpy as np\n",
        "import matplotlib.pyplot as plt\n",
        "import tensorflow as tf\n",
        "import scipy.signal as signal\n",
        "\n",
        "\n",
        "from tensorflow.keras.optimizers import Adam\n",
        "from tensorflow.keras.losses import CategoricalCrossentropy\n",
        "from tensorflow.keras.callbacks import ModelCheckpoint, EarlyStopping, ReduceLROnPlateau\n",
        "from sklearn.metrics import confusion_matrix, accuracy_score, ConfusionMatrixDisplay\n",
        "from sklearn.metrics import cohen_kappa_score\n",
        "from sklearn.model_selection import train_test_split\n",
        "#os.chdir(\"/content/Tesi/BCI2b_IV/\")\n",
        "#os.chdir(\"/Users/giuseppebonomo/Desktop/Tesi/BCI2b_IV/\")\n",
        "#os.chdir(\"/Users/Giuseppe/Desktop/Tesi/codice/Tesi/BCI2b_IV/\")\n",
        "\n",
        "os.chdir(\"/home/giuseppe_bonomo/DATASET/BCI2b_IV/\")\n",
        "\n",
        "import models\n",
        "\n",
        "from preprocess import get_data\n",
        "#from keras.utils.vis_utils import plot_model"
      ]
    },
    {
      "cell_type": "markdown",
      "metadata": {
        "id": "anMFWoueUv95"
      },
      "source": [
        "# Organize the dataset."
      ]
    },
    {
      "cell_type": "code",
      "execution_count": null,
      "metadata": {
        "id": "T88-H7UKky9V",
        "outputId": "6af9fe38-3482-4dac-8151-a8d58b6116b3"
      },
      "outputs": [
        {
          "data": {
            "text/plain": [
              "'import os\\nimport requests\\nimport zipfile\\n\\n# Creare la cartella \"dataset\" se non è già presente\\nos.makedirs(\"dataset\", exist_ok=True)\\n\\n# Percorso del file GDF e ZIP\\ngdf_path = \"/Users/Giuseppe/Desktop/Tesi/codice/Tesi/BCI2b_IV/dataset/B0101T.gdf\"\\nzip_path = \"dataset/BCI2b.zip\"\\n\\n# Scaricare il dataset nella cartella \"dataset\" se non è già presente\\nif not os.path.exists(gdf_path):\\n    url = \"https://www.bbci.de/competition/download/competition_iv/BCICIV_2b_gdf.zip\"\\n    print(\"Scaricamento del dataset in corso...\")\\n    \\n    # Scaricare il file ZIP\\n    response = requests.get(url)\\n    with open(zip_path, \"wb\") as f:\\n        f.write(response.content)\\n    \\n    print(\"Estrazione dei file...\")\\n    # Estrarre i file nella cartella \"dataset\"\\n    with zipfile.ZipFile(zip_path, \"r\") as zip_ref:\\n        zip_ref.extractall(\"dataset\")\\n    \\n    # Rimuovere il file .zip\\n    os.remove(zip_path)\\n    print(\"Dataset scaricato ed estratto con successo.\")\\nelse:\\n    print(\"Dataset già scaricato.\")'"
            ]
          },
          "execution_count": 2,
          "metadata": {},
          "output_type": "execute_result"
        }
      ],
      "source": [
        "\"\"\"import os\n",
        "import requests\n",
        "import zipfile\n",
        "\n",
        "# Creare la cartella \"dataset\" se non è già presente\n",
        "os.makedirs(\"dataset\", exist_ok=True)\n",
        "\n",
        "# Percorso del file GDF e ZIP\n",
        "gdf_path = \"/Users/Giuseppe/Desktop/Tesi/codice/Tesi/BCI2b_IV/dataset/B0101T.gdf\"\n",
        "zip_path = \"dataset/BCI2b.zip\"\n",
        "\n",
        "# Scaricare il dataset nella cartella \"dataset\" se non è già presente\n",
        "if not os.path.exists(gdf_path):\n",
        "    url = \"https://www.bbci.de/competition/download/competition_iv/BCICIV_2b_gdf.zip\"\n",
        "    print(\"Scaricamento del dataset in corso...\")\n",
        "\n",
        "    # Scaricare il file ZIP\n",
        "    response = requests.get(url)\n",
        "    with open(zip_path, \"wb\") as f:\n",
        "        f.write(response.content)\n",
        "\n",
        "    print(\"Estrazione dei file...\")\n",
        "    # Estrarre i file nella cartella \"dataset\"\n",
        "    with zipfile.ZipFile(zip_path, \"r\") as zip_ref:\n",
        "        zip_ref.extractall(\"dataset\")\n",
        "\n",
        "    # Rimuovere il file .zip\n",
        "    os.remove(zip_path)\n",
        "    print(\"Dataset scaricato ed estratto con successo.\")\n",
        "else:\n",
        "    print(\"Dataset già scaricato.\")\"\"\""
      ]
    },
    {
      "cell_type": "code",
      "execution_count": 2,
      "metadata": {
        "colab": {
          "base_uri": "https://localhost:8080/"
        },
        "id": "PM6WBGY4fBe9",
        "outputId": "1ab2daa5-b54e-41af-c261-0bc8dcac09ca"
      },
      "outputs": [
        {
          "name": "stdout",
          "output_type": "stream",
          "text": [
            "Dataset già scaricato\n"
          ]
        }
      ],
      "source": [
        "# Creare la cartella \"dataset\" se non è già presente (MacOS)\n",
        "os.makedirs(\"dataset\", exist_ok=True)\n",
        "\n",
        "# Scaricare il dataset nella cartella \"dataset\" se non è già presente\n",
        "if not os.path.exists(\"dataset/B0101T.gdf\"):\n",
        "    !wget -O dataset/BCI2b.zip \"https://www.bbci.de/competition/download/competition_iv/BCICIV_2b_gdf.zip\"\n",
        "\n",
        "    # Estrarre i file nella cartella \"dataset\"\n",
        "    !unzip dataset/BCI2b.zip -d dataset\n",
        "\n",
        "    # Rimuovere il file .zip\n",
        "    os.remove(\"dataset/BCI2b.zip\")\n",
        "else:\n",
        "    print(\"Dataset già scaricato\")"
      ]
    },
    {
      "cell_type": "markdown",
      "metadata": {
        "id": "lKIHsRuSU-zn"
      },
      "source": [
        "# Functions definitions"
      ]
    },
    {
      "cell_type": "code",
      "execution_count": 3,
      "metadata": {
        "id": "n6r2i2nHVDHa"
      },
      "outputs": [],
      "source": [
        "#%%\n",
        "def draw_learning_curves(history, sub):\n",
        "    plt.plot(history.history['accuracy'])\n",
        "    plt.plot(history.history['val_accuracy'])\n",
        "    plt.title('Model accuracy - subject: ' + str(sub))\n",
        "    plt.ylabel('Accuracy')\n",
        "    plt.xlabel('Epoch')\n",
        "    plt.legend(['Train', 'val'], loc='upper left')\n",
        "    plt.show()\n",
        "    plt.plot(history.history['loss'])\n",
        "    plt.plot(history.history['val_loss'])\n",
        "    plt.title('Model loss - subject: ' + str(sub))\n",
        "    plt.ylabel('Loss')\n",
        "    plt.xlabel('Epoch')\n",
        "    plt.legend(['Train', 'val'], loc='upper left')\n",
        "    plt.show()\n",
        "    plt.close()\n",
        "\n",
        "def draw_confusion_matrix(cf_matrix, sub, results_path, classes_labels):\n",
        "    # Generate confusion matrix plot\n",
        "    display_labels = classes_labels\n",
        "    disp = ConfusionMatrixDisplay(confusion_matrix=cf_matrix,\n",
        "                                display_labels=display_labels)\n",
        "    disp.plot()\n",
        "    disp.ax_.set_xticklabels(display_labels, rotation=12)\n",
        "    plt.title('Confusion Matrix of Subject: ' + sub )\n",
        "    plt.savefig(results_path + '/subject_' + sub + '.png')\n",
        "    plt.show()\n",
        "\n",
        "def draw_performance_barChart(num_sub, metric, label):\n",
        "    fig, ax = plt.subplots()\n",
        "    x = list(range(1, num_sub+1))\n",
        "    ax.bar(x, metric, 0.5, label=label)\n",
        "    ax.set_ylabel(label)\n",
        "    ax.set_xlabel(\"Subject\")\n",
        "    ax.set_xticks(x)\n",
        "    ax.set_title('Model '+ label + ' per subject')\n",
        "    ax.set_ylim([0,1])"
      ]
    },
    {
      "cell_type": "markdown",
      "metadata": {
        "id": "byiRKS6cVQpE"
      },
      "source": [
        "# Preprocessing functions definition"
      ]
    },
    {
      "cell_type": "markdown",
      "metadata": {
        "id": "JBbRpj7xW3P4"
      },
      "source": [
        "## DB4 (Soft -> Threshold 5.5)"
      ]
    },
    {
      "cell_type": "code",
      "execution_count": 4,
      "metadata": {
        "id": "lUw3WgVjXEb6"
      },
      "outputs": [],
      "source": [
        "def db4_soft(signal, wavelet='db4', level=4, threshold=5.5):\n",
        "    \"\"\"\n",
        "    Applica la RDWT (Discrete Wavelet Transform) al segnale e lo ricostruisce,\n",
        "    rimuovendo i coefficienti di dettaglio sotto una certa soglia per enfatizzare\n",
        "    le caratteristiche principali del segnale.\n",
        "\n",
        "    Args:\n",
        "    - signal: il segnale da elaborare\n",
        "    - wavelet: tipo di wavelet da utilizzare (default 'db4')\n",
        "    - level: livello della decomposizione (default 4)\n",
        "    - threshold: soglia per i coefficienti di dettaglio (default 0.5)\n",
        "\n",
        "    Returns:\n",
        "    - Il segnale ricostruito dopo la manipolazione della RDWT\n",
        "    \"\"\"\n",
        "\n",
        "\n",
        "    print(\"Lunghezza originale:\", signal.shape[-1])  # Dovrebbe essere 1125\n",
        "    coeffs = pywt.wavedec(signal, wavelet, mode='per', level=level)\n",
        "    print(\"Lunghezza coefficiente di approssimazione:\", len(coeffs[0]))\n",
        "\n",
        "    reconstructed_signal = pywt.waverec(coeffs, wavelet, mode='per')\n",
        "    print(\"Lunghezza ricostruita:\", len(reconstructed_signal))\n",
        "\n",
        "    # Decomposizione del segnale in coefficienti\n",
        "    coeffs = pywt.wavedec(signal, wavelet, mode='per', level=level)\n",
        "\n",
        "    # Modifica i coefficienti di dettaglio\n",
        "    # Si applica un threshold sui coefficienti di dettaglio per \"ridurre\" la componente di alta frequenza\n",
        "    coeffs_thresholded = [coeffs[0]]  # Mantieni il coefficiente di approssimazione\n",
        "    for i in range(1, len(coeffs)):\n",
        "        coeffs_thresholded.append(np.where(np.abs(coeffs[i]) < threshold, 0, coeffs[i]))\n",
        "\n",
        "    # Ricostruzione del segnale dai coefficienti modificati\n",
        "    reconstructed_signal = pywt.waverec(coeffs_thresholded, wavelet, mode='per')\n",
        "\n",
        "    # Taglia il segnale ricostruito per mantenerne la stessa lunghezza dell'input\n",
        "    return reconstructed_signal[:len(signal)]\n"
      ]
    },
    {
      "cell_type": "markdown",
      "metadata": {
        "id": "U_7jS5mAW7X8"
      },
      "source": [
        "## DB4 (Hard -> Threshold 10.5)"
      ]
    },
    {
      "cell_type": "code",
      "execution_count": 5,
      "metadata": {
        "id": "lQDSj1UhXQbo"
      },
      "outputs": [],
      "source": [
        "def db4_hard(signal, wavelet='db4', level=4, threshold=10.5):\n",
        "    \"\"\"\n",
        "    Applica la RDWT (Discrete Wavelet Transform) al segnale e lo ricostruisce,\n",
        "    rimuovendo i coefficienti di dettaglio sotto una certa soglia per enfatizzare\n",
        "    le caratteristiche principali del segnale.\n",
        "\n",
        "    Args:\n",
        "    - signal: il segnale da elaborare\n",
        "    - wavelet: tipo di wavelet da utilizzare (default 'db4')\n",
        "    - level: livello della decomposizione (default 4)\n",
        "    - threshold: soglia per i coefficienti di dettaglio (default 0.5)\n",
        "\n",
        "    Returns:\n",
        "    - Il segnale ricostruito dopo la manipolazione della RDWT\n",
        "    \"\"\"\n",
        "\n",
        "    # Decomposizione del segnale in coefficienti\n",
        "    coeffs = pywt.wavedec(signal, wavelet, mode='per', level=level)\n",
        "\n",
        "    # Modifica i coefficienti di dettaglio\n",
        "    # Si applica un threshold sui coefficienti di dettaglio per \"ridurre\" la componente di alta frequenza\n",
        "    coeffs_thresholded = [coeffs[0]]  # Mantieni il coefficiente di approssimazione\n",
        "    for i in range(1, len(coeffs)):\n",
        "        coeffs_thresholded.append(np.where(np.abs(coeffs[i]) < threshold, 0, coeffs[i]))\n",
        "\n",
        "    # Ricostruzione del segnale dai coefficienti modificati\n",
        "    reconstructed_signal = pywt.waverec(coeffs_thresholded, wavelet, mode='per')\n",
        "\n",
        "    # Taglia il segnale ricostruito per mantenerne la stessa lunghezza dell'input\n",
        "    return reconstructed_signal[:len(signal)]\n"
      ]
    },
    {
      "cell_type": "markdown",
      "metadata": {
        "id": "1NG7RQTKWZjc"
      },
      "source": [
        "## RDWT"
      ]
    },
    {
      "cell_type": "code",
      "execution_count": 6,
      "metadata": {
        "id": "1l6F2E0iVovM"
      },
      "outputs": [],
      "source": [
        "def rational_dilated_wavelet_transform(sig, wavelet='db4', levels=4, dilation_factors=None, threshold=5.5):\n",
        "    \"\"\"\n",
        "    Applica la Rational Dilated Wavelet Transform (RDWT) a un segnale EEG multidimensionale.\n",
        "\n",
        "    Args:\n",
        "    - sig: array numpy di forma (eventi, 1, canali, campioni)\n",
        "    - wavelet: tipo di wavelet da utilizzare (default 'db4')\n",
        "    - levels: numero di livelli di decomposizione (default 4)\n",
        "    - dilation_factors: lista di fattori di dilatazione razionale (default: [3/2, 5/3, 7/4, ...])\n",
        "    - threshold: soglia per i coefficienti di dettaglio (default 5.5)\n",
        "\n",
        "    Returns:\n",
        "    - Segnale ricostruito con la RDWT (stessa dimensione dell'input)\n",
        "    \"\"\"\n",
        "    eventi, _, canali, campioni = sig.shape\n",
        "    print(\"Lunghezza originale del segnale:\", sig.shape)\n",
        "\n",
        "    if dilation_factors is None:\n",
        "        dilation_factors = [3/2, 5/3, 7/4, 9/5]\n",
        "\n",
        "    coeffs_approx = sig.copy()  # Inizializza con il segnale originale\n",
        "    detail_coeffs = []\n",
        "\n",
        "    for i in range(levels):\n",
        "        factor = dilation_factors[i]\n",
        "        wavelet_filter = pywt.Wavelet(wavelet)\n",
        "        lo_d, hi_d = wavelet_filter.dec_lo, wavelet_filter.dec_hi\n",
        "\n",
        "        # Ridimensionamento dei filtri\n",
        "        lo_d = signal.resample(lo_d, int(len(lo_d) * factor))\n",
        "        hi_d = signal.resample(hi_d, int(len(hi_d) * factor))\n",
        "\n",
        "        print(f\"Livello {i+1}: coeffs_approx shape {coeffs_approx.shape}, lo_d shape {lo_d.shape}, hi_d shape {hi_d.shape}\")\n",
        "\n",
        "        approx = np.zeros_like(coeffs_approx)\n",
        "        detail = np.zeros_like(coeffs_approx)\n",
        "\n",
        "        # Applica la convoluzione per ogni canale EEG\n",
        "        for e in range(eventi):\n",
        "            for c in range(canali):\n",
        "                approx[e, 0, c, :] = np.convolve(coeffs_approx[e, 0, c, :], lo_d, mode='same')\n",
        "                detail[e, 0, c, :] = np.convolve(coeffs_approx[e, 0, c, :], hi_d, mode='same')\n",
        "\n",
        "                # Soglia sui coefficienti di dettaglio\n",
        "                detail[e, 0, c, np.abs(detail[e, 0, c, :]) < threshold] = 0\n",
        "\n",
        "        detail_coeffs.append(detail)\n",
        "        coeffs_approx = approx  # Passa l'approssimazione al livello successivo\n",
        "\n",
        "    # Ricostruzione del segnale\n",
        "    reconstructed = coeffs_approx.copy()\n",
        "    for i in range(levels-1, -1, -1):\n",
        "        reconstructed += detail_coeffs[i]\n",
        "\n",
        "    print(\"Lunghezza del segnale ricostruito:\", reconstructed.shape)\n",
        "    return reconstructed"
      ]
    },
    {
      "cell_type": "markdown",
      "metadata": {
        "id": "p7WeIzGuky9Z"
      },
      "source": [
        "# RDWT normalized with min-max"
      ]
    },
    {
      "cell_type": "code",
      "execution_count": 7,
      "metadata": {
        "id": "a9pMzJnWky9Z"
      },
      "outputs": [],
      "source": [
        "def normalize_min_max(sig, reconstructed):\n",
        "    \"\"\"\n",
        "    Normalizza il segnale ricostruito usando la normalizzazione Min-Max,\n",
        "    riportandolo alla scala del segnale di input.\n",
        "\n",
        "    Args:\n",
        "    - sig: array numpy di forma (eventi, 1, canali, campioni), segnale di input\n",
        "    - reconstructed: array numpy di forma (eventi, 1, canali, campioni), segnale ricostruito\n",
        "\n",
        "    Returns:\n",
        "    - Segnale ricostruito normalizzato sulla scala dell'input\n",
        "    \"\"\"\n",
        "    min_input = np.min(sig, axis=-1, keepdims=True)\n",
        "    max_input = np.max(sig, axis=-1, keepdims=True)\n",
        "\n",
        "    min_reconstructed = np.min(reconstructed, axis=-1, keepdims=True)\n",
        "    max_reconstructed = np.max(reconstructed, axis=-1, keepdims=True)\n",
        "\n",
        "    # Evita la divisione per zero\n",
        "    range_reconstructed = max_reconstructed - min_reconstructed\n",
        "    range_reconstructed[range_reconstructed == 0] = 1\n",
        "\n",
        "    normalized = (reconstructed - min_reconstructed) / range_reconstructed\n",
        "\n",
        "    # Riporta alla scala originale\n",
        "    scaled = normalized * (max_input - min_input) + min_input\n",
        "\n",
        "    return scaled"
      ]
    },
    {
      "cell_type": "markdown",
      "metadata": {
        "id": "ORcrWpU9ky9Z"
      },
      "source": [
        "# Apply Preprocessing"
      ]
    },
    {
      "cell_type": "code",
      "execution_count": 8,
      "metadata": {
        "id": "8AAXepUzYZOv"
      },
      "outputs": [],
      "source": [
        "def apply_preprocessing (signals_data, preprocessing):\n",
        "  if preprocessing==\"none\":\n",
        "    return signals_data\n",
        "  elif preprocessing==\"db4_soft\":\n",
        "    return db4_soft(signals_data)\n",
        "  elif preprocessing==\"db4_hard\":\n",
        "    return db4_hard(signals_data)\n",
        "  elif preprocessing==\"rdwt\":\n",
        "    return rational_dilated_wavelet_transform(signals_data)\n",
        "  elif preprocessing==\"rdwt_normalized\":\n",
        "    reconstructed = rational_dilated_wavelet_transform(signals_data)\n",
        "    return normalize_min_max(signals_data, reconstructed)\n"
      ]
    },
    {
      "cell_type": "markdown",
      "metadata": {
        "id": "LcIk3eTxUeqE"
      },
      "source": [
        "# Model training function"
      ]
    },
    {
      "cell_type": "code",
      "execution_count": 9,
      "metadata": {
        "id": "lUYrFX-SUdQP"
      },
      "outputs": [],
      "source": [
        "#%% Training\n",
        "def train(dataset_conf, train_conf, results_path):\n",
        "\n",
        "    # remove the 'result' folder before training\n",
        "    if os.path.exists(results_path):\n",
        "        # Remove the folder and its contents\n",
        "        shutil.rmtree(results_path)\n",
        "        os.makedirs(results_path)\n",
        "\n",
        "    # Get the current 'IN' time to calculate the overall training time\n",
        "    in_exp = time.time()\n",
        "    # Create a file to store the path of the best model among several runs\n",
        "    best_models = open(results_path + \"/best models RockNetY.txt\", \"w\")\n",
        "    # Create a file to store performance during training\n",
        "    log_write = open(results_path + \"/log RockNetY.txt\", \"w\")\n",
        "\n",
        "    # Get dataset parameters\n",
        "    dataset = dataset_conf.get('name')\n",
        "    n_sub = dataset_conf.get('n_sub')\n",
        "    data_path = dataset_conf.get('data_path')\n",
        "    isStandard = dataset_conf.get('isStandard')\n",
        "    LOSO = dataset_conf.get('LOSO')\n",
        "    # Get training hyperparamters\n",
        "    batch_size = train_conf.get('batch_size')\n",
        "    epochs = train_conf.get('epochs')\n",
        "    signal_preprocessing = dataset_conf.get('signal_preprocessing')\n",
        "    patience = train_conf.get('patience')\n",
        "    lr = train_conf.get('lr')\n",
        "    LearnCurves = train_conf.get('LearnCurves') # Plot Learning Curves?\n",
        "    n_train = train_conf.get('n_train')\n",
        "    model_name = train_conf.get('model')\n",
        "    from_logits = train_conf.get('from_logits')\n",
        "\n",
        "    # Initialize variables\n",
        "    acc = np.zeros((n_sub, n_train))\n",
        "    kappa = np.zeros((n_sub, n_train))\n",
        "\n",
        "    # Iteration over subjects\n",
        "    # for sub in range(n_sub-1, n_sub): # (num_sub): for all subjects, (i-1,i): for the ith subject.\n",
        "    for sub in range(n_sub): # (num_sub): for all subjects, (i-1,i): for the ith subject.\n",
        "\n",
        "        print('\\nTraining on subject ', sub+1)\n",
        "        log_write.write( '\\nTraining on subject '+ str(sub+1) +'\\n')\n",
        "        # Initiating variables to save the best subject accuracy among multiple runs.\n",
        "        BestSubjAcc = 0\n",
        "        bestTrainingHistory = []\n",
        "\n",
        "        # Get training and validation data\n",
        "        X_train, _, y_train_onehot, _, _, _ = get_data(\n",
        "            data_path, sub, dataset, LOSO = LOSO, isStandard = isStandard)\n",
        "\n",
        "        # Divide the training data into training and validation\n",
        "        X_train, X_val, y_train_onehot, y_val_onehot = train_test_split(X_train, y_train_onehot, test_size=0.2, random_state=42)\n",
        "\n",
        "\n",
        "        print(\"\\n\\nBefore preprocessing X_train shape is:\"+str(X_train.shape))\n",
        "        print(\"Before preprocessing X_val shape is:\"+str(X_val.shape))\n",
        "\n",
        "        X_train = apply_preprocessing(X_train, preprocessing=signal_preprocessing)\n",
        "        X_val = apply_preprocessing(X_val, preprocessing=signal_preprocessing)\n",
        "\n",
        "        print(\"\\n\\nAfter preprocessing X_train shape is:\"+str(X_train.shape))\n",
        "        print(\"After preprocessing X_val shape is:\"+str(X_val.shape))\n",
        "\n",
        "\n",
        "        # Iteration over multiple runs\n",
        "        for train in range(n_train): # How many repetitions of training for subject i.\n",
        "            # Set the random seed for TensorFlow and NumPy random number generator.\n",
        "            # The purpose of setting a seed is to ensure reproducibility in random operations.\n",
        "            tf.random.set_seed(train+1)\n",
        "            np.random.seed(train+1)\n",
        "\n",
        "            # Get the current 'IN' time to calculate the 'run' training time\n",
        "            in_run = time.time()\n",
        "\n",
        "            # Create folders and files to save trained models for all runs\n",
        "            filepath = results_path + '/saved models/run-{}'.format(train+1)\n",
        "            if not os.path.exists(filepath):\n",
        "                os.makedirs(filepath)\n",
        "            filepath = filepath + '/subject-{}.weights.h5'.format(sub+1)\n",
        "\n",
        "            # Create the model\n",
        "            model = getModel(model_name, dataset_conf, from_logits)\n",
        "            # Compile and train the model\n",
        "            model.compile(loss=CategoricalCrossentropy(from_logits=from_logits), optimizer=Adam(learning_rate=lr), metrics=['accuracy'])\n",
        "\n",
        "            # model.summary()\n",
        "            # plot_model(model, to_file='plot_model.png', show_shapes=True, show_layer_names=True)\n",
        "\n",
        "            callbacks = [\n",
        "                ModelCheckpoint(filepath, monitor='val_loss', verbose=0,\n",
        "                                save_best_only=True, save_weights_only=True, mode='min'),\n",
        "                ReduceLROnPlateau(monitor=\"val_loss\", factor=0.90, patience=20, verbose=0, min_lr=0.0001),\n",
        "                # EarlyStopping(monitor='val_loss', verbose=1, mode='min', patience=patience)\n",
        "            ]\n",
        "            history = model.fit(X_train, y_train_onehot, validation_data=(X_val, y_val_onehot),\n",
        "                                epochs=epochs, batch_size=batch_size, callbacks=callbacks, verbose=0)\n",
        "\n",
        "            # Evaluate the performance of the trained model based on the validation data\n",
        "            # Here we load the Trained weights from the file saved in the hard\n",
        "            # disk, which should be the same as the weights of the current model.\n",
        "            model.load_weights(filepath)\n",
        "            y_pred = model.predict(X_val)\n",
        "\n",
        "            if from_logits:\n",
        "                y_pred = tf.nn.softmax(y_pred).numpy().argmax(axis=-1)\n",
        "            else:\n",
        "                y_pred = y_pred.argmax(axis=-1)\n",
        "\n",
        "            labels = y_val_onehot.argmax(axis=-1)\n",
        "            acc[sub, train]  = accuracy_score(labels, y_pred)\n",
        "            kappa[sub, train] = cohen_kappa_score(labels, y_pred)\n",
        "\n",
        "            # Get the current 'OUT' time to calculate the 'run' training time\n",
        "            out_run = time.time()\n",
        "            # Print & write performance measures for each run\n",
        "            info = 'Subject: {}   seed {}   time: {:.1f} m   '.format(sub+1, train+1, ((out_run-in_run)/60))\n",
        "            info = info + 'valid_acc: {:.4f}   valid_loss: {:.3f}'.format(acc[sub, train], min(history.history['val_loss']))\n",
        "            print(info)\n",
        "            log_write.write(info +'\\n')\n",
        "            # If current training run is better than previous runs, save the history.\n",
        "            if(BestSubjAcc < acc[sub, train]):\n",
        "                 BestSubjAcc = acc[sub, train]\n",
        "                 bestTrainingHistory = history\n",
        "\n",
        "        # Store the path of the best model among several runs\n",
        "        best_run = np.argmax(acc[sub,:])\n",
        "        filepath = '/saved models/run-{}/subject-{}.h5'.format(best_run+1, sub+1)+'\\n'\n",
        "        best_models.write(filepath)\n",
        "\n",
        "        # Plot Learning curves\n",
        "        if (LearnCurves == True):\n",
        "            print('Plot Learning Curves ....... ')\n",
        "            draw_learning_curves(bestTrainingHistory, sub+1)\n",
        "\n",
        "    # Get the current 'OUT' time to calculate the overall training time\n",
        "    out_exp = time.time()\n",
        "\n",
        "    # Print & write the validation performance using all seeds\n",
        "    head1 = head2 = '         '\n",
        "    for sub in range(n_sub):\n",
        "        head1 = head1 + 'sub_{}   '.format(sub+1)\n",
        "        head2 = head2 + '-----   '\n",
        "    head1 = head1 + '  average'\n",
        "    head2 = head2 + '  -------'\n",
        "    info = '\\n---------------------------------\\nValidation performance (acc %):'\n",
        "    info = info + '\\n---------------------------------\\n' + head1 +'\\n'+ head2\n",
        "    for run in range(n_train):\n",
        "        info = info + '\\nSeed {}:  '.format(run+1)\n",
        "        for sub in range(n_sub):\n",
        "            info = info + '{:.2f}   '.format(acc[sub, run]*100)\n",
        "        info = info + '  {:.2f}   '.format(np.average(acc[:, run])*100)\n",
        "    info = info + '\\n---------------------------------\\nAverage acc - all seeds: '\n",
        "    info = info + '{:.2f} %\\n\\nTrain Time  - all seeds: {:.1f}'.format(np.average(acc)*100, (out_exp-in_exp)/(60))\n",
        "    info = info + ' min\\n---------------------------------\\n'\n",
        "    print(info)\n",
        "    log_write.write(info+'\\n')\n",
        "\n",
        "    # Close open files\n",
        "    best_models.close()\n",
        "    log_write.close()\n"
      ]
    },
    {
      "cell_type": "markdown",
      "metadata": {
        "id": "94bvHJeiVHbe"
      },
      "source": [
        "# Evaluation function"
      ]
    },
    {
      "cell_type": "code",
      "execution_count": 10,
      "metadata": {
        "id": "doqjxvQFVGeB"
      },
      "outputs": [],
      "source": [
        "#%% Evaluation\n",
        "def test(model, dataset_conf, results_path, allRuns = True):\n",
        "    # Open the  \"Log\" file to write the evaluation results\n",
        "    log_write = open(results_path + \"/log RockNetY.txt\", \"a\")\n",
        "\n",
        "    # Get dataset paramters\n",
        "    dataset = dataset_conf.get('name')\n",
        "    signal_preprocessing = dataset_conf.get('signal_preprocessing')\n",
        "    n_classes = dataset_conf.get('n_classes')\n",
        "    n_sub = dataset_conf.get('n_sub')\n",
        "    data_path = dataset_conf.get('data_path')\n",
        "    isStandard = dataset_conf.get('isStandard')\n",
        "    LOSO = dataset_conf.get('LOSO')\n",
        "    classes_labels = dataset_conf.get('cl_labels')\n",
        "    #Ripetuto\n",
        "    #signal_preprocessing = dataset_conf.get('signal_preprocessing')\n",
        "\n",
        "    # Test the performance based on several runs (seeds)\n",
        "    runs = os.listdir(results_path+\"/saved models\")\n",
        "    # Initialize variables\n",
        "    acc = np.zeros((n_sub, len(runs)))\n",
        "    kappa = np.zeros((n_sub, len(runs)))\n",
        "    cf_matrix = np.zeros([n_sub, len(runs), n_classes, n_classes])\n",
        "\n",
        "    # Iteration over subjects\n",
        "    # for sub in range(n_sub-1, n_sub): # (num_sub): for all subjects, (i-1,i): for the ith subject.\n",
        "    inference_time = 0 #  inference_time: classification time for one trial\n",
        "    for sub in range(n_sub): # (num_sub): for all subjects, (i-1,i): for the ith subject.\n",
        "        # Load data\n",
        "        _, _, _, X_test, _, y_test_onehot = get_data(data_path, sub, dataset, LOSO = LOSO, isStandard = isStandard)\n",
        "\n",
        "        X_test = apply_preprocessing(X_test, preprocessing=signal_preprocessing)\n",
        "\n",
        "        # Iteration over runs (seeds)\n",
        "        for seed in range(len(runs)):\n",
        "            # Load the model of the seed.\n",
        "            model.load_weights('{}/saved models/{}/subject-{}.weights.h5'.format(results_path, runs[seed], sub+1))\n",
        "\n",
        "            inference_time = time.time()\n",
        "            # Predict MI task\n",
        "            y_pred = model.predict(X_test).argmax(axis=-1)\n",
        "            inference_time = (time.time() - inference_time)/X_test.shape[0]\n",
        "            # Calculate accuracy and K-score\n",
        "            labels = y_test_onehot.argmax(axis=-1)\n",
        "            acc[sub, seed]  = accuracy_score(labels, y_pred)\n",
        "            kappa[sub, seed] = cohen_kappa_score(labels, y_pred)\n",
        "            # Calculate and draw confusion matrix\n",
        "            cf_matrix[sub, seed, :, :] = confusion_matrix(labels, y_pred, normalize='true')\n",
        "            # draw_confusion_matrix(cf_matrix[sub, seed, :, :], str(sub+1), results_path, classes_labels)\n",
        "\n",
        "    # Print & write the average performance measures for all subjects\n",
        "    head1 = head2 = '                  '\n",
        "    for sub in range(n_sub):\n",
        "        head1 = head1 + 'sub_{}   '.format(sub+1)\n",
        "        head2 = head2 + '-----   '\n",
        "    head1 = head1 + '  average'\n",
        "    head2 = head2 + '  -------'\n",
        "    info = '\\n' + head1 +'\\n'+ head2\n",
        "    info = '\\n---------------------------------\\nTest performance (acc & k-score):\\n'\n",
        "    info = info + '---------------------------------\\n' + head1 +'\\n'+ head2\n",
        "    for run in range(len(runs)):\n",
        "        info = info + '\\nSeed {}: '.format(run+1)\n",
        "        info_acc = '(acc %)   '\n",
        "        info_k = '        (k-sco)   '\n",
        "        for sub in range(n_sub):\n",
        "            info_acc = info_acc + '{:.2f}   '.format(acc[sub, run]*100)\n",
        "            info_k = info_k + '{:.3f}   '.format(kappa[sub, run])\n",
        "        info_acc = info_acc + '  {:.2f}   '.format(np.average(acc[:, run])*100)\n",
        "        info_k = info_k + '  {:.3f}   '.format(np.average(kappa[:, run]))\n",
        "        info = info + info_acc + '\\n' + info_k\n",
        "    info = info + '\\n----------------------------------\\nAverage - all seeds (acc %): '\n",
        "    info = info + '{:.2f}\\n                    (k-sco): '.format(np.average(acc)*100)\n",
        "    info = info + '{:.3f}\\n\\nInference time: {:.2f}'.format(np.average(kappa), inference_time * 1000)\n",
        "    info = info + ' ms per trial\\n----------------------------------\\n'\n",
        "    print(info)\n",
        "    log_write.write(info+'\\n')\n",
        "\n",
        "    # Draw a performance bar chart for all subjects\n",
        "    draw_performance_barChart(n_sub, acc.mean(1), 'Accuracy')\n",
        "    draw_performance_barChart(n_sub, kappa.mean(1), 'k-score')\n",
        "    # Draw confusion matrix for all subjects (average)\n",
        "    draw_confusion_matrix(cf_matrix.mean((0,1)), 'All', results_path, classes_labels)\n",
        "    # Close opened file\n",
        "    log_write.close()"
      ]
    },
    {
      "cell_type": "markdown",
      "metadata": {
        "id": "weCl_i-ZVdlL"
      },
      "source": [
        "# Model selection and setup"
      ]
    },
    {
      "cell_type": "code",
      "execution_count": 11,
      "metadata": {
        "id": "5gAM65lQSTH1"
      },
      "outputs": [],
      "source": [
        "#%%\n",
        "def getModel(model_name, dataset_conf, from_logits = False):\n",
        "\n",
        "    n_classes = dataset_conf.get('n_classes')\n",
        "    n_channels = dataset_conf.get('n_channels')\n",
        "    in_samples = dataset_conf.get('in_samples')\n",
        "\n",
        "    # Select the model\n",
        "    if(model_name == 'RockNet'):\n",
        "        # Train using the proposed ATCNet model: https://ieeexplore.ieee.org/document/9852687\n",
        "        model = models.RockNet_(\n",
        "            # Dataset parameters\n",
        "            n_classes = n_classes,\n",
        "            in_chans = n_channels,\n",
        "            in_samples = in_samples,\n",
        "            # Sliding window (SW) parameter\n",
        "            n_windows = 5,\n",
        "            # Attention (AT) block parameter\n",
        "            attention = 'mha', # Options: None, 'mha','mhla', 'cbam', 'se'\n",
        "            # Convolutional (CV) block parameters\n",
        "            eegn_F1 = 16,\n",
        "            eegn_D = 2,\n",
        "            eegn_kernelSize = 64,\n",
        "            eegn_poolSize = 7,\n",
        "            eegn_dropout = 0.5,\n",
        "            # Temporal convolutional (TC) block parameters\n",
        "            tcn_depth = 2,\n",
        "            tcn_kernelSize = 4,\n",
        "            tcn_filters = 64,\n",
        "            tcn_dropout = 0.3,\n",
        "            tcn_activation='elu',\n",
        "            )\n",
        "    elif(model_name == 'RockNetA'):\n",
        "        model = models.RockNetA(\n",
        "            n_classes = n_classes,\n",
        "            in_chans = n_channels,\n",
        "            in_samples = in_samples,\n",
        "            n_windows = 5,\n",
        "            attention = 'mha',\n",
        "            eegn_F1 = 16,\n",
        "            eegn_D = 2,\n",
        "            eegn_kernelSize = 64,\n",
        "            eegn_poolSize = 7,\n",
        "            eegn_dropout = 0.5,\n",
        "            tcn_depth = 2,\n",
        "            tcn_kernelSize = 4,\n",
        "            tcn_filters = 32,\n",
        "            tcn_dropout = 0.3,\n",
        "            tcn_activation='elu',\n",
        "        )\n",
        "    elif(model_name == 'RockNetB'):\n",
        "        model = models.RockNetB(\n",
        "            n_classes = n_classes,\n",
        "            in_chans = n_channels,\n",
        "            in_samples = in_samples,\n",
        "            n_windows = 5,\n",
        "            attention = 'mha',\n",
        "            eegn_F1 = 16,\n",
        "            eegn_D = 2,\n",
        "            eegn_kernelSize = 64,\n",
        "            eegn_poolSize = 7,\n",
        "            eegn_dropout = 0.5,\n",
        "            tcn_depth = 2,\n",
        "            tcn_kernelSize = 4,\n",
        "            tcn_filters = 32,\n",
        "            tcn_dropout = 0.3,\n",
        "            tcn_activation='elu',\n",
        "        )\n",
        "    elif(model_name == 'RockNetC'):\n",
        "        model = models.RockNetC(\n",
        "            n_classes = n_classes,\n",
        "            in_chans = n_channels,\n",
        "            in_samples = in_samples,\n",
        "            n_windows = 5,\n",
        "            attention = 'mha',\n",
        "            eegn_F1 = 16,\n",
        "            eegn_D = 2,\n",
        "            eegn_kernelSize = 64,\n",
        "            eegn_poolSize = 7,\n",
        "            eegn_dropout = 0.5,\n",
        "            tcn_depth = 2,\n",
        "            tcn_kernelSize = 4,\n",
        "            tcn_filters = 32,\n",
        "            tcn_dropout = 0.3,\n",
        "            tcn_activation='elu',\n",
        "        )\n",
        "    elif(model_name == 'RockNetX'):\n",
        "        model = models.RockNetX(\n",
        "            n_classes = n_classes,\n",
        "            in_chans = n_channels,\n",
        "            in_samples = in_samples,\n",
        "            n_windows = 5,\n",
        "            attention = 'transformer',\n",
        "            eegn_F1 = 16,\n",
        "            eegn_D = 2,\n",
        "            eegn_kernelSize = 64,\n",
        "            eegn_poolSize = 7,\n",
        "            eegn_dropout = 0.5,\n",
        "            tcn_depth = 3,\n",
        "            tcn_kernelSize = 4,\n",
        "            tcn_filters = 64,\n",
        "            tcn_dropout = 0.3,\n",
        "            tcn_activation='gelu',\n",
        "        )\n",
        "    elif(model_name == 'RockNetY'):\n",
        "        model = models.RockNetY(\n",
        "            n_classes = n_classes,\n",
        "            in_chans = n_channels,\n",
        "            in_samples = in_samples,\n",
        "            n_windows = 5,\n",
        "            attention = 'mha',\n",
        "            eegn_F1 = 16,\n",
        "            eegn_D = 2,\n",
        "            eegn_kernelSize = 64,\n",
        "            eegn_poolSize = 7,\n",
        "            eegn_dropout = 0.5,\n",
        "            tcn_depth = 2,\n",
        "            tcn_kernelSize = 4,\n",
        "            tcn_filters = 32,\n",
        "            tcn_dropout = 0.3,\n",
        "            tcn_activation='elu',\n",
        "        )\n",
        "    elif(model_name == 'RockNetZ'):\n",
        "        model = models.RockNetZ(\n",
        "            n_classes = n_classes,\n",
        "            in_chans = n_channels,\n",
        "            in_samples = in_samples,\n",
        "            n_windows = 5,\n",
        "            attention = 'mha',\n",
        "            eegn_F1 = 16,\n",
        "            eegn_D = 2,\n",
        "            eegn_kernelSize = 64,\n",
        "            eegn_poolSize = 7,\n",
        "            eegn_dropout = 0.5,\n",
        "            tcn_depth = 2,\n",
        "            tcn_kernelSize = 4,\n",
        "            tcn_filters = 32,\n",
        "            tcn_dropout = 0.3,\n",
        "            tcn_activation='relu',\n",
        "        )\n",
        "    elif(model_name == 'ATCNet'):\n",
        "        # Train using the proposed ATCNet model: https://ieeexplore.ieee.org/document/9852687\n",
        "        model = models.ATCNet_(\n",
        "            # Dataset parameters\n",
        "            n_classes = n_classes,\n",
        "            in_chans = n_channels,\n",
        "            in_samples = in_samples,\n",
        "            # Sliding window (SW) parameter\n",
        "            n_windows = 5,\n",
        "            # Attention (AT) block parameter\n",
        "            attention = 'mha', # Options: None, 'mha','mhla', 'cbam', 'se'\n",
        "            # Convolutional (CV) block parameters\n",
        "            eegn_F1 = 16,\n",
        "            eegn_D = 2,\n",
        "            eegn_kernelSize = 64,\n",
        "            eegn_poolSize = 7,\n",
        "            eegn_dropout = 0.3,\n",
        "            # Temporal convolutional (TC) block parameters\n",
        "            tcn_depth = 2,\n",
        "            tcn_kernelSize = 4,\n",
        "            tcn_filters = 32,\n",
        "            tcn_dropout = 0.3,\n",
        "            tcn_activation='elu',\n",
        "            )\n",
        "    elif(model_name == 'TCNet_Fusion'):\n",
        "        # Train using TCNet_Fusion: https://doi.org/10.1016/j.bspc.2021.102826\n",
        "        model = models.TCNet_Fusion(n_classes = n_classes, Chans=n_channels, Samples=in_samples)\n",
        "    elif(model_name == 'EEGTCNet'):\n",
        "        # Train using EEGTCNet: https://arxiv.org/abs/2006.00622\n",
        "        model = models.EEGTCNet(n_classes = n_classes, Chans=n_channels, Samples=in_samples)\n",
        "    elif(model_name == 'EEGNet'):\n",
        "        # Train using EEGNet: https://arxiv.org/abs/1611.08024\n",
        "        model = models.EEGNet_classifier(n_classes = n_classes, Chans=n_channels, Samples=in_samples)\n",
        "    elif(model_name == 'EEGNeX'):\n",
        "        # Train using EEGNeX: https://arxiv.org/abs/2207.12369\n",
        "        model = models.EEGNeX_8_32(n_timesteps = in_samples , n_features = n_channels, n_outputs = n_classes)\n",
        "    elif(model_name == 'DeepConvNet'):\n",
        "        # Train using DeepConvNet: https://doi.org/10.1002/hbm.23730\n",
        "        model = models.DeepConvNet(nb_classes = n_classes , Chans = n_channels, Samples = in_samples)\n",
        "    elif(model_name == 'ShallowConvNet'):\n",
        "        # Train using ShallowConvNet: https://doi.org/10.1002/hbm.23730\n",
        "        model = models.ShallowConvNet(nb_classes = n_classes , Chans = n_channels, Samples = in_samples)\n",
        "    elif(model_name == 'MBEEG_SENet'):\n",
        "        # Train using MBEEG_SENet: https://www.mdpi.com/2075-4418/12/4/995\n",
        "        model = models.MBEEG_SENet(nb_classes = n_classes , Chans = n_channels, Samples = in_samples)\n",
        "\n",
        "    else:\n",
        "        raise Exception(\"'{}' model is not supported yet!\".format(model_name))\n",
        "\n",
        "    return model"
      ]
    },
    {
      "cell_type": "markdown",
      "metadata": {
        "id": "PE_qndEAVZ-_"
      },
      "source": [
        "# Run the simulation"
      ]
    },
    {
      "cell_type": "markdown",
      "metadata": {
        "id": "CkiYgl7FDPqN"
      },
      "source": [
        "## Define the run function."
      ]
    },
    {
      "cell_type": "code",
      "execution_count": 13,
      "metadata": {
        "id": "nWF0BbQzVbdN"
      },
      "outputs": [],
      "source": [
        "#%%\n",
        "def run(signal_preprocessing):\n",
        "    # Define dataset parameters\n",
        "    #dataset = 'BCI2a' # Options: 'BCI2a','BCI2b','HGD'\n",
        "    dataset = 'BCI2b'\n",
        "\n",
        "    if dataset == 'BCI2a':\n",
        "        in_samples = 1125\n",
        "        n_channels = 22\n",
        "        n_sub = 9\n",
        "        n_classes = 4\n",
        "        classes_labels = ['Left hand', 'Right hand','Foot','Tongue']\n",
        "        data_path = 'dataset/' #os.path.expanduser('~') + '/BCI Competition IV/BCI Competition IV-2a/BCI Competition IV 2a mat/'\n",
        "    elif dataset == 'HGD':\n",
        "        in_samples = 1125\n",
        "        n_channels = 44\n",
        "        n_sub = 14\n",
        "        n_classes = 4\n",
        "        classes_labels = ['Right Hand', 'Left Hand','Rest','Feet']\n",
        "        data_path = 'dataset/' #os.path.expanduser('~') + '/mne_data/MNE-schirrmeister2017-data/robintibor/high-gamma-dataset/raw/master/data/'\n",
        "    elif dataset == 'BCI2b':\n",
        "        in_samples = 750\n",
        "        n_channels = 3\n",
        "        n_sub = 9\n",
        "        n_classes = 2\n",
        "        classes_labels = ['Left hand', 'Right hand']\n",
        "        data_path = 'dataset/' #os.path.expanduser('~') + '/BCI Competition IV/BCI Competition IV-2b/BCI Competition IV 2b.mat'\n",
        "    else:\n",
        "        raise Exception(\"'{}' dataset is not supported yet!\".format(dataset))\n",
        "\n",
        "    # Create a folder to store the results of the experiment\n",
        "    results_path = os.getcwd() + \"/results_RockNetY\"\n",
        "    if not  os.path.exists(results_path):\n",
        "      os.makedirs(results_path)   # Create a new directory if it does not exist\n",
        "\n",
        "    # Set dataset paramters\n",
        "    dataset_conf = { 'name': dataset, 'n_classes': n_classes, 'cl_labels': classes_labels,\n",
        "                    'n_sub': n_sub, 'n_channels': n_channels, 'in_samples': in_samples,\n",
        "                    'data_path': data_path, 'isStandard': True, 'LOSO': False,\n",
        "                     'signal_preprocessing':signal_preprocessing}\n",
        "\n",
        "    # Set training hyperparamters\n",
        "    #AUMENTARE LE EPOCHE A 1000\n",
        "    train_conf = { 'batch_size': 64, 'epochs': 3000, 'patience': 100, 'lr': 0.001,'n_train': 1,\n",
        "                  'LearnCurves': True, 'from_logits': False, 'model':'RockNetA'}\n",
        "\n",
        "    # Train the model\n",
        "    print(\"Training the model...\")\n",
        "    train(dataset_conf, train_conf, results_path)\n",
        "    print(\"Training completed!\")\n",
        "\n",
        "    # Evaluate the model based on the weights saved in the '/results' folder\n",
        "    model = getModel(train_conf.get('model'), dataset_conf)\n",
        "    test(model, dataset_conf, results_path)\n"
      ]
    },
    {
      "cell_type": "markdown",
      "metadata": {
        "id": "Sas6wn-n9bVV"
      },
      "source": [
        "## RDWT"
      ]
    },
    {
      "cell_type": "code",
      "execution_count": 14,
      "metadata": {
        "colab": {
          "base_uri": "https://localhost:8080/",
          "height": 1000
        },
        "id": "AanpQPu49dhp",
        "outputId": "1bff9235-6656-4de2-a6be-4e8334253146"
      },
      "outputs": [
        {
          "name": "stdout",
          "output_type": "stream",
          "text": [
            "Training the model...\n",
            "\n",
            "Training on subject  1\n",
            "Extracting EDF parameters from /home/giuseppe_bonomo/DATASET/BCI2b_IV/dataset/B0101T.gdf...\n",
            "GDF file detected\n",
            "Setting channel info structure...\n",
            "Could not determine channel type of the following channels, they will be set as EEG:\n",
            "EEG:C3, EEG:Cz, EEG:C4, EOG:ch01, EOG:ch02, EOG:ch03\n",
            "Creating raw.info structure...\n",
            "Reading 0 ... 604802  =      0.000 ...  2419.208 secs...\n"
          ]
        },
        {
          "name": "stderr",
          "output_type": "stream",
          "text": [
            "/home/giuseppe_bonomo/DATASET/BCI2b_IV/preprocess.py:203: RuntimeWarning: Highpass cutoff frequency 100.0 is greater than lowpass cutoff frequency 0.5, setting values to 0 and Nyquist.\n",
            "  raw = mne.io.read_raw_gdf(gdf_file, preload=True)\n"
          ]
        },
        {
          "name": "stdout",
          "output_type": "stream",
          "text": [
            "Filtering raw data in 1 contiguous segment\n",
            "Setting up band-pass filter from 0.5 - 1e+02 Hz\n",
            "\n",
            "FIR filter parameters\n",
            "---------------------\n",
            "Designing a one-pass, zero-phase, non-causal bandpass filter:\n",
            "- Windowed time-domain design (firwin) method\n",
            "- Hamming window with 0.0194 passband ripple and 53 dB stopband attenuation\n",
            "- Lower passband edge: 0.50\n",
            "- Lower transition bandwidth: 0.50 Hz (-6 dB cutoff frequency: 0.25 Hz)\n",
            "- Upper passband edge: 100.00 Hz\n",
            "- Upper transition bandwidth: 25.00 Hz (-6 dB cutoff frequency: 112.50 Hz)\n",
            "- Filter length: 1651 samples (6.604 s)\n",
            "\n",
            "NOTE: pick_channels() is a legacy function. New code should use inst.pick(...).\n",
            "Used Annotations descriptions: [np.str_('1023'), np.str_('1077'), np.str_('1078'), np.str_('1079'), np.str_('1081'), np.str_('276'), np.str_('277'), np.str_('32766'), np.str_('768'), np.str_('769'), np.str_('770')]\n",
            "Extracting EDF parameters from /home/giuseppe_bonomo/DATASET/BCI2b_IV/dataset/B0102T.gdf...\n",
            "GDF file detected\n",
            "Setting channel info structure...\n",
            "Could not determine channel type of the following channels, they will be set as EEG:\n",
            "EEG:C3, EEG:Cz, EEG:C4, EOG:ch01, EOG:ch02, EOG:ch03\n",
            "Creating raw.info structure...\n",
            "Reading 0 ... 552451  =      0.000 ...  2209.804 secs...\n"
          ]
        },
        {
          "name": "stderr",
          "output_type": "stream",
          "text": [
            "/home/giuseppe_bonomo/DATASET/BCI2b_IV/preprocess.py:203: RuntimeWarning: Highpass cutoff frequency 100.0 is greater than lowpass cutoff frequency 0.5, setting values to 0 and Nyquist.\n",
            "  raw = mne.io.read_raw_gdf(gdf_file, preload=True)\n"
          ]
        },
        {
          "name": "stdout",
          "output_type": "stream",
          "text": [
            "Filtering raw data in 1 contiguous segment\n",
            "Setting up band-pass filter from 0.5 - 1e+02 Hz\n",
            "\n",
            "FIR filter parameters\n",
            "---------------------\n",
            "Designing a one-pass, zero-phase, non-causal bandpass filter:\n",
            "- Windowed time-domain design (firwin) method\n",
            "- Hamming window with 0.0194 passband ripple and 53 dB stopband attenuation\n",
            "- Lower passband edge: 0.50\n",
            "- Lower transition bandwidth: 0.50 Hz (-6 dB cutoff frequency: 0.25 Hz)\n",
            "- Upper passband edge: 100.00 Hz\n",
            "- Upper transition bandwidth: 25.00 Hz (-6 dB cutoff frequency: 112.50 Hz)\n",
            "- Filter length: 1651 samples (6.604 s)\n",
            "\n",
            "NOTE: pick_channels() is a legacy function. New code should use inst.pick(...).\n",
            "Used Annotations descriptions: [np.str_('1023'), np.str_('32766'), np.str_('768'), np.str_('769'), np.str_('770')]\n",
            "Extracting EDF parameters from /home/giuseppe_bonomo/DATASET/BCI2b_IV/dataset/B0103T.gdf...\n",
            "GDF file detected\n",
            "Setting channel info structure...\n",
            "Could not determine channel type of the following channels, they will be set as EEG:\n",
            "EEG:C3, EEG:Cz, EEG:C4, EOG:ch01, EOG:ch02, EOG:ch03\n",
            "Creating raw.info structure...\n",
            "Reading 0 ... 469010  =      0.000 ...  1876.040 secs...\n"
          ]
        },
        {
          "name": "stderr",
          "output_type": "stream",
          "text": [
            "/home/giuseppe_bonomo/DATASET/BCI2b_IV/preprocess.py:203: RuntimeWarning: Highpass cutoff frequency 100.0 is greater than lowpass cutoff frequency 0.5, setting values to 0 and Nyquist.\n",
            "  raw = mne.io.read_raw_gdf(gdf_file, preload=True)\n"
          ]
        },
        {
          "name": "stdout",
          "output_type": "stream",
          "text": [
            "Filtering raw data in 1 contiguous segment\n",
            "Setting up band-pass filter from 0.5 - 1e+02 Hz\n",
            "\n",
            "FIR filter parameters\n",
            "---------------------\n",
            "Designing a one-pass, zero-phase, non-causal bandpass filter:\n",
            "- Windowed time-domain design (firwin) method\n",
            "- Hamming window with 0.0194 passband ripple and 53 dB stopband attenuation\n",
            "- Lower passband edge: 0.50\n",
            "- Lower transition bandwidth: 0.50 Hz (-6 dB cutoff frequency: 0.25 Hz)\n",
            "- Upper passband edge: 100.00 Hz\n",
            "- Upper transition bandwidth: 25.00 Hz (-6 dB cutoff frequency: 112.50 Hz)\n",
            "- Filter length: 1651 samples (6.604 s)\n",
            "\n",
            "NOTE: pick_channels() is a legacy function. New code should use inst.pick(...).\n",
            "Used Annotations descriptions: [np.str_('1023'), np.str_('1077'), np.str_('1078'), np.str_('1079'), np.str_('1081'), np.str_('276'), np.str_('277'), np.str_('32766'), np.str_('768'), np.str_('769'), np.str_('770'), np.str_('781')]\n",
            "Extracting EDF parameters from /home/giuseppe_bonomo/DATASET/BCI2b_IV/dataset/B0104E.gdf...\n",
            "GDF file detected\n",
            "Setting channel info structure...\n",
            "Could not determine channel type of the following channels, they will be set as EEG:\n",
            "EEG:C3, EEG:Cz, EEG:C4, EOG:ch01, EOG:ch02, EOG:ch03\n",
            "Creating raw.info structure...\n",
            "Reading 0 ... 466313  =      0.000 ...  1865.252 secs...\n"
          ]
        },
        {
          "name": "stderr",
          "output_type": "stream",
          "text": [
            "/home/giuseppe_bonomo/DATASET/BCI2b_IV/preprocess.py:203: RuntimeWarning: Highpass cutoff frequency 100.0 is greater than lowpass cutoff frequency 0.5, setting values to 0 and Nyquist.\n",
            "  raw = mne.io.read_raw_gdf(gdf_file, preload=True)\n"
          ]
        },
        {
          "name": "stdout",
          "output_type": "stream",
          "text": [
            "Filtering raw data in 1 contiguous segment\n",
            "Setting up band-pass filter from 0.5 - 1e+02 Hz\n",
            "\n",
            "FIR filter parameters\n",
            "---------------------\n",
            "Designing a one-pass, zero-phase, non-causal bandpass filter:\n",
            "- Windowed time-domain design (firwin) method\n",
            "- Hamming window with 0.0194 passband ripple and 53 dB stopband attenuation\n",
            "- Lower passband edge: 0.50\n",
            "- Lower transition bandwidth: 0.50 Hz (-6 dB cutoff frequency: 0.25 Hz)\n",
            "- Upper passband edge: 100.00 Hz\n",
            "- Upper transition bandwidth: 25.00 Hz (-6 dB cutoff frequency: 112.50 Hz)\n",
            "- Filter length: 1651 samples (6.604 s)\n",
            "\n",
            "NOTE: pick_channels() is a legacy function. New code should use inst.pick(...).\n",
            "Used Annotations descriptions: [np.str_('1023'), np.str_('1077'), np.str_('1078'), np.str_('1079'), np.str_('1081'), np.str_('276'), np.str_('277'), np.str_('32766'), np.str_('768'), np.str_('781'), np.str_('783')]\n",
            "Extracting EDF parameters from /home/giuseppe_bonomo/DATASET/BCI2b_IV/dataset/B0105E.gdf...\n",
            "GDF file detected\n",
            "Setting channel info structure...\n",
            "Could not determine channel type of the following channels, they will be set as EEG:\n",
            "EEG:C3, EEG:Cz, EEG:C4, EOG:ch01, EOG:ch02, EOG:ch03\n",
            "Creating raw.info structure...\n",
            "Reading 0 ... 474362  =      0.000 ...  1897.448 secs...\n"
          ]
        },
        {
          "name": "stderr",
          "output_type": "stream",
          "text": [
            "/home/giuseppe_bonomo/DATASET/BCI2b_IV/preprocess.py:203: RuntimeWarning: Highpass cutoff frequency 100.0 is greater than lowpass cutoff frequency 0.5, setting values to 0 and Nyquist.\n",
            "  raw = mne.io.read_raw_gdf(gdf_file, preload=True)\n"
          ]
        },
        {
          "name": "stdout",
          "output_type": "stream",
          "text": [
            "Filtering raw data in 1 contiguous segment\n",
            "Setting up band-pass filter from 0.5 - 1e+02 Hz\n",
            "\n",
            "FIR filter parameters\n",
            "---------------------\n",
            "Designing a one-pass, zero-phase, non-causal bandpass filter:\n",
            "- Windowed time-domain design (firwin) method\n",
            "- Hamming window with 0.0194 passband ripple and 53 dB stopband attenuation\n",
            "- Lower passband edge: 0.50\n",
            "- Lower transition bandwidth: 0.50 Hz (-6 dB cutoff frequency: 0.25 Hz)\n",
            "- Upper passband edge: 100.00 Hz\n",
            "- Upper transition bandwidth: 25.00 Hz (-6 dB cutoff frequency: 112.50 Hz)\n",
            "- Filter length: 1651 samples (6.604 s)\n",
            "\n",
            "NOTE: pick_channels() is a legacy function. New code should use inst.pick(...).\n",
            "Used Annotations descriptions: [np.str_('1023'), np.str_('1077'), np.str_('1078'), np.str_('1079'), np.str_('1081'), np.str_('276'), np.str_('277'), np.str_('32766'), np.str_('768'), np.str_('781'), np.str_('783')]\n",
            "\n",
            "\n",
            "Before preprocessing X_train shape is:(67, 1, 3, 750)\n",
            "Before preprocessing X_val shape is:(17, 1, 3, 750)\n",
            "Lunghezza originale del segnale: (67, 1, 3, 750)\n",
            "Livello 1: coeffs_approx shape (67, 1, 3, 750), lo_d shape (12,), hi_d shape (12,)\n",
            "Livello 2: coeffs_approx shape (67, 1, 3, 750), lo_d shape (13,), hi_d shape (13,)\n",
            "Livello 3: coeffs_approx shape (67, 1, 3, 750), lo_d shape (14,), hi_d shape (14,)\n",
            "Livello 4: coeffs_approx shape (67, 1, 3, 750), lo_d shape (14,), hi_d shape (14,)\n",
            "Lunghezza del segnale ricostruito: (67, 1, 3, 750)\n",
            "Lunghezza originale del segnale: (17, 1, 3, 750)\n",
            "Livello 1: coeffs_approx shape (17, 1, 3, 750), lo_d shape (12,), hi_d shape (12,)\n",
            "Livello 2: coeffs_approx shape (17, 1, 3, 750), lo_d shape (13,), hi_d shape (13,)\n",
            "Livello 3: coeffs_approx shape (17, 1, 3, 750), lo_d shape (14,), hi_d shape (14,)\n",
            "Livello 4: coeffs_approx shape (17, 1, 3, 750), lo_d shape (14,), hi_d shape (14,)\n",
            "Lunghezza del segnale ricostruito: (17, 1, 3, 750)\n",
            "\n",
            "\n",
            "After preprocessing X_train shape is:(67, 1, 3, 750)\n",
            "After preprocessing X_val shape is:(17, 1, 3, 750)\n"
          ]
        },
        {
          "name": "stderr",
          "output_type": "stream",
          "text": [
            "I0000 00:00:1744110334.163086  973379 gpu_device.cc:2019] Created device /job:localhost/replica:0/task:0/device:GPU:0 with 46519 MB memory:  -> device: 0, name: NVIDIA RTX 6000 Ada Generation, pci bus id: 0000:ac:00.0, compute capability: 8.9\n",
            "WARNING: All log messages before absl::InitializeLog() is called are written to STDERR\n",
            "I0000 00:00:1744110354.223932  974392 service.cc:152] XLA service 0x787fa00150f0 initialized for platform CUDA (this does not guarantee that XLA will be used). Devices:\n",
            "I0000 00:00:1744110354.223956  974392 service.cc:160]   StreamExecutor device (0): NVIDIA RTX 6000 Ada Generation, Compute Capability 8.9\n",
            "2025-04-08 13:05:55.129538: I tensorflow/compiler/mlir/tensorflow/utils/dump_mlir_util.cc:269] disabling MLIR crash reproducer, set env var `MLIR_CRASH_REPRODUCER_DIRECTORY` to enable.\n",
            "I0000 00:00:1744110358.842886  974392 cuda_dnn.cc:529] Loaded cuDNN version 90300\n",
            "2025-04-08 13:06:05.680128: I external/local_xla/xla/stream_executor/cuda/subprocess_compilation.cc:346] ptxas warning : Registers are spilled to local memory in function 'gemm_fusion_dot_102', 8 bytes spill stores, 8 bytes spill loads\n",
            "\n",
            "2025-04-08 13:06:05.945554: I external/local_xla/xla/stream_executor/cuda/subprocess_compilation.cc:346] ptxas warning : Registers are spilled to local memory in function 'gemm_fusion_dot_62', 4 bytes spill stores, 4 bytes spill loads\n",
            "\n",
            "2025-04-08 13:06:29.005391: I external/local_xla/xla/stream_executor/cuda/subprocess_compilation.cc:346] ptxas warning : Registers are spilled to local memory in function 'input_reduce_transpose_fusion_23', 8 bytes spill stores, 8 bytes spill loads\n",
            "ptxas warning : Registers are spilled to local memory in function 'input_reduce_transpose_fusion_22', 8 bytes spill stores, 8 bytes spill loads\n",
            "ptxas warning : Registers are spilled to local memory in function 'input_reduce_transpose_fusion_21', 8 bytes spill stores, 8 bytes spill loads\n",
            "\n",
            "I0000 00:00:1744110389.523813  974392 device_compiler.h:188] Compiled cluster using XLA!  This line is logged at most once for the lifetime of the process.\n",
            "2025-04-08 13:07:01.923625: I external/local_xla/xla/stream_executor/cuda/subprocess_compilation.cc:346] ptxas warning : Registers are spilled to local memory in function 'input_reduce_transpose_fusion_18', 16 bytes spill stores, 16 bytes spill loads\n",
            "ptxas warning : Registers are spilled to local memory in function 'input_reduce_transpose_fusion_17', 16 bytes spill stores, 16 bytes spill loads\n",
            "ptxas warning : Registers are spilled to local memory in function 'input_reduce_transpose_fusion_16', 16 bytes spill stores, 16 bytes spill loads\n",
            "\n",
            "2025-04-08 13:07:05.132035: I external/local_xla/xla/stream_executor/cuda/subprocess_compilation.cc:346] ptxas warning : Registers are spilled to local memory in function 'gemm_fusion_dot_34', 8 bytes spill stores, 8 bytes spill loads\n",
            "\n"
          ]
        },
        {
          "name": "stdout",
          "output_type": "stream",
          "text": [
            "\u001b[1m1/1\u001b[0m \u001b[32m━━━━━━━━━━━━━━━━━━━━\u001b[0m\u001b[37m\u001b[0m \u001b[1m3s\u001b[0m 3s/step\n",
            "Subject: 1   seed 1   time: 10.2 m   valid_acc: 1.0000   valid_loss: 0.053\n",
            "Plot Learning Curves ....... \n"
          ]
        },
        {
          "data": {
            "image/png": "[encoded data removed]",
            "text/plain": [
              "<Figure size 640x480 with 1 Axes>"
            ]
          },
          "metadata": {},
          "output_type": "display_data"
        },
        {
          "data": {
            "image/png": "[encoded data removed]",
            "text/plain": [
              "<Figure size 640x480 with 1 Axes>"
            ]
          },
          "metadata": {},
          "output_type": "display_data"
        },
        {
          "name": "stdout",
          "output_type": "stream",
          "text": [
            "\n",
            "Training on subject  2\n",
            "Extracting EDF parameters from /home/giuseppe_bonomo/DATASET/BCI2b_IV/dataset/B0201T.gdf...\n",
            "GDF file detected\n",
            "Setting channel info structure...\n",
            "Could not determine channel type of the following channels, they will be set as EEG:\n",
            "EEG:C3, EEG:Cz, EEG:C4, EOG:ch01, EOG:ch02, EOG:ch03\n",
            "Creating raw.info structure...\n",
            "Reading 0 ... 604802  =      0.000 ...  2419.208 secs...\n"
          ]
        },
        {
          "name": "stderr",
          "output_type": "stream",
          "text": [
            "/home/giuseppe_bonomo/DATASET/BCI2b_IV/preprocess.py:203: RuntimeWarning: Highpass cutoff frequency 100.0 is greater than lowpass cutoff frequency 0.5, setting values to 0 and Nyquist.\n",
            "  raw = mne.io.read_raw_gdf(gdf_file, preload=True)\n"
          ]
        },
        {
          "name": "stdout",
          "output_type": "stream",
          "text": [
            "Filtering raw data in 1 contiguous segment\n",
            "Setting up band-pass filter from 0.5 - 1e+02 Hz\n",
            "\n",
            "FIR filter parameters\n",
            "---------------------\n",
            "Designing a one-pass, zero-phase, non-causal bandpass filter:\n",
            "- Windowed time-domain design (firwin) method\n",
            "- Hamming window with 0.0194 passband ripple and 53 dB stopband attenuation\n",
            "- Lower passband edge: 0.50\n",
            "- Lower transition bandwidth: 0.50 Hz (-6 dB cutoff frequency: 0.25 Hz)\n",
            "- Upper passband edge: 100.00 Hz\n",
            "- Upper transition bandwidth: 25.00 Hz (-6 dB cutoff frequency: 112.50 Hz)\n",
            "- Filter length: 1651 samples (6.604 s)\n",
            "\n",
            "NOTE: pick_channels() is a legacy function. New code should use inst.pick(...).\n",
            "Used Annotations descriptions: [np.str_('1023'), np.str_('1077'), np.str_('1078'), np.str_('1079'), np.str_('1081'), np.str_('276'), np.str_('277'), np.str_('32766'), np.str_('768'), np.str_('769'), np.str_('770')]\n",
            "Extracting EDF parameters from /home/giuseppe_bonomo/DATASET/BCI2b_IV/dataset/B0202T.gdf...\n",
            "GDF file detected\n",
            "Setting channel info structure...\n",
            "Could not determine channel type of the following channels, they will be set as EEG:\n",
            "EEG:C3, EEG:Cz, EEG:C4, EOG:ch01, EOG:ch02, EOG:ch03\n",
            "Creating raw.info structure...\n",
            "Reading 0 ... 604802  =      0.000 ...  2419.208 secs...\n"
          ]
        },
        {
          "name": "stderr",
          "output_type": "stream",
          "text": [
            "/home/giuseppe_bonomo/DATASET/BCI2b_IV/preprocess.py:203: RuntimeWarning: Highpass cutoff frequency 100.0 is greater than lowpass cutoff frequency 0.5, setting values to 0 and Nyquist.\n",
            "  raw = mne.io.read_raw_gdf(gdf_file, preload=True)\n"
          ]
        },
        {
          "name": "stdout",
          "output_type": "stream",
          "text": [
            "Filtering raw data in 1 contiguous segment\n",
            "Setting up band-pass filter from 0.5 - 1e+02 Hz\n",
            "\n",
            "FIR filter parameters\n",
            "---------------------\n",
            "Designing a one-pass, zero-phase, non-causal bandpass filter:\n",
            "- Windowed time-domain design (firwin) method\n",
            "- Hamming window with 0.0194 passband ripple and 53 dB stopband attenuation\n",
            "- Lower passband edge: 0.50\n",
            "- Lower transition bandwidth: 0.50 Hz (-6 dB cutoff frequency: 0.25 Hz)\n",
            "- Upper passband edge: 100.00 Hz\n",
            "- Upper transition bandwidth: 25.00 Hz (-6 dB cutoff frequency: 112.50 Hz)\n",
            "- Filter length: 1651 samples (6.604 s)\n",
            "\n",
            "NOTE: pick_channels() is a legacy function. New code should use inst.pick(...).\n",
            "Used Annotations descriptions: [np.str_('1023'), np.str_('1077'), np.str_('1078'), np.str_('1079'), np.str_('1081'), np.str_('276'), np.str_('277'), np.str_('32766'), np.str_('768'), np.str_('769'), np.str_('770')]\n",
            "Extracting EDF parameters from /home/giuseppe_bonomo/DATASET/BCI2b_IV/dataset/B0203T.gdf...\n",
            "GDF file detected\n",
            "Setting channel info structure...\n",
            "Could not determine channel type of the following channels, they will be set as EEG:\n",
            "EEG:C3, EEG:Cz, EEG:C4, EOG:ch01, EOG:ch02, EOG:ch03\n",
            "Creating raw.info structure...\n",
            "Reading 0 ... 464154  =      0.000 ...  1856.616 secs...\n"
          ]
        },
        {
          "name": "stderr",
          "output_type": "stream",
          "text": [
            "/home/giuseppe_bonomo/DATASET/BCI2b_IV/preprocess.py:203: RuntimeWarning: Highpass cutoff frequency 100.0 is greater than lowpass cutoff frequency 0.5, setting values to 0 and Nyquist.\n",
            "  raw = mne.io.read_raw_gdf(gdf_file, preload=True)\n"
          ]
        },
        {
          "name": "stdout",
          "output_type": "stream",
          "text": [
            "Filtering raw data in 1 contiguous segment\n",
            "Setting up band-pass filter from 0.5 - 1e+02 Hz\n",
            "\n",
            "FIR filter parameters\n",
            "---------------------\n",
            "Designing a one-pass, zero-phase, non-causal bandpass filter:\n",
            "- Windowed time-domain design (firwin) method\n",
            "- Hamming window with 0.0194 passband ripple and 53 dB stopband attenuation\n",
            "- Lower passband edge: 0.50\n",
            "- Lower transition bandwidth: 0.50 Hz (-6 dB cutoff frequency: 0.25 Hz)\n",
            "- Upper passband edge: 100.00 Hz\n",
            "- Upper transition bandwidth: 25.00 Hz (-6 dB cutoff frequency: 112.50 Hz)\n",
            "- Filter length: 1651 samples (6.604 s)\n",
            "\n",
            "NOTE: pick_channels() is a legacy function. New code should use inst.pick(...).\n",
            "Used Annotations descriptions: [np.str_('1023'), np.str_('1077'), np.str_('1078'), np.str_('1079'), np.str_('1081'), np.str_('276'), np.str_('277'), np.str_('32766'), np.str_('768'), np.str_('769'), np.str_('770'), np.str_('781')]\n",
            "Extracting EDF parameters from /home/giuseppe_bonomo/DATASET/BCI2b_IV/dataset/B0204E.gdf...\n",
            "GDF file detected\n",
            "Setting channel info structure...\n",
            "Could not determine channel type of the following channels, they will be set as EEG:\n",
            "EEG:C3, EEG:Cz, EEG:C4, EOG:ch01, EOG:ch02, EOG:ch03\n",
            "Creating raw.info structure...\n",
            "Reading 0 ... 361829  =      0.000 ...  1447.316 secs...\n"
          ]
        },
        {
          "name": "stderr",
          "output_type": "stream",
          "text": [
            "/home/giuseppe_bonomo/DATASET/BCI2b_IV/preprocess.py:203: RuntimeWarning: Highpass cutoff frequency 100.0 is greater than lowpass cutoff frequency 0.5, setting values to 0 and Nyquist.\n",
            "  raw = mne.io.read_raw_gdf(gdf_file, preload=True)\n"
          ]
        },
        {
          "name": "stdout",
          "output_type": "stream",
          "text": [
            "Filtering raw data in 1 contiguous segment\n",
            "Setting up band-pass filter from 0.5 - 1e+02 Hz\n",
            "\n",
            "FIR filter parameters\n",
            "---------------------\n",
            "Designing a one-pass, zero-phase, non-causal bandpass filter:\n",
            "- Windowed time-domain design (firwin) method\n",
            "- Hamming window with 0.0194 passband ripple and 53 dB stopband attenuation\n",
            "- Lower passband edge: 0.50\n",
            "- Lower transition bandwidth: 0.50 Hz (-6 dB cutoff frequency: 0.25 Hz)\n",
            "- Upper passband edge: 100.00 Hz\n",
            "- Upper transition bandwidth: 25.00 Hz (-6 dB cutoff frequency: 112.50 Hz)\n",
            "- Filter length: 1651 samples (6.604 s)\n",
            "\n",
            "NOTE: pick_channels() is a legacy function. New code should use inst.pick(...).\n",
            "Used Annotations descriptions: [np.str_('1023'), np.str_('1077'), np.str_('1078'), np.str_('1079'), np.str_('1081'), np.str_('276'), np.str_('277'), np.str_('32766'), np.str_('768'), np.str_('781'), np.str_('783')]\n",
            "Extracting EDF parameters from /home/giuseppe_bonomo/DATASET/BCI2b_IV/dataset/B0205E.gdf...\n",
            "GDF file detected\n",
            "Setting channel info structure...\n",
            "Could not determine channel type of the following channels, they will be set as EEG:\n",
            "EEG:C3, EEG:Cz, EEG:C4, EOG:ch01, EOG:ch02, EOG:ch03\n",
            "Creating raw.info structure...\n",
            "Reading 0 ... 473686  =      0.000 ...  1894.744 secs...\n"
          ]
        },
        {
          "name": "stderr",
          "output_type": "stream",
          "text": [
            "/home/giuseppe_bonomo/DATASET/BCI2b_IV/preprocess.py:203: RuntimeWarning: Highpass cutoff frequency 100.0 is greater than lowpass cutoff frequency 0.5, setting values to 0 and Nyquist.\n",
            "  raw = mne.io.read_raw_gdf(gdf_file, preload=True)\n"
          ]
        },
        {
          "name": "stdout",
          "output_type": "stream",
          "text": [
            "Filtering raw data in 1 contiguous segment\n",
            "Setting up band-pass filter from 0.5 - 1e+02 Hz\n",
            "\n",
            "FIR filter parameters\n",
            "---------------------\n",
            "Designing a one-pass, zero-phase, non-causal bandpass filter:\n",
            "- Windowed time-domain design (firwin) method\n",
            "- Hamming window with 0.0194 passband ripple and 53 dB stopband attenuation\n",
            "- Lower passband edge: 0.50\n",
            "- Lower transition bandwidth: 0.50 Hz (-6 dB cutoff frequency: 0.25 Hz)\n",
            "- Upper passband edge: 100.00 Hz\n",
            "- Upper transition bandwidth: 25.00 Hz (-6 dB cutoff frequency: 112.50 Hz)\n",
            "- Filter length: 1651 samples (6.604 s)\n",
            "\n",
            "NOTE: pick_channels() is a legacy function. New code should use inst.pick(...).\n",
            "Used Annotations descriptions: [np.str_('1023'), np.str_('1077'), np.str_('1078'), np.str_('1079'), np.str_('1081'), np.str_('276'), np.str_('277'), np.str_('32766'), np.str_('768'), np.str_('781'), np.str_('783')]\n",
            "\n",
            "\n",
            "Before preprocessing X_train shape is:(59, 1, 3, 750)\n",
            "Before preprocessing X_val shape is:(15, 1, 3, 750)\n",
            "Lunghezza originale del segnale: (59, 1, 3, 750)\n",
            "Livello 1: coeffs_approx shape (59, 1, 3, 750), lo_d shape (12,), hi_d shape (12,)\n",
            "Livello 2: coeffs_approx shape (59, 1, 3, 750), lo_d shape (13,), hi_d shape (13,)\n",
            "Livello 3: coeffs_approx shape (59, 1, 3, 750), lo_d shape (14,), hi_d shape (14,)\n",
            "Livello 4: coeffs_approx shape (59, 1, 3, 750), lo_d shape (14,), hi_d shape (14,)\n",
            "Lunghezza del segnale ricostruito: (59, 1, 3, 750)\n",
            "Lunghezza originale del segnale: (15, 1, 3, 750)\n",
            "Livello 1: coeffs_approx shape (15, 1, 3, 750), lo_d shape (12,), hi_d shape (12,)\n",
            "Livello 2: coeffs_approx shape (15, 1, 3, 750), lo_d shape (13,), hi_d shape (13,)\n",
            "Livello 3: coeffs_approx shape (15, 1, 3, 750), lo_d shape (14,), hi_d shape (14,)\n",
            "Livello 4: coeffs_approx shape (15, 1, 3, 750), lo_d shape (14,), hi_d shape (14,)\n",
            "Lunghezza del segnale ricostruito: (15, 1, 3, 750)\n",
            "\n",
            "\n",
            "After preprocessing X_train shape is:(59, 1, 3, 750)\n",
            "After preprocessing X_val shape is:(15, 1, 3, 750)\n"
          ]
        },
        {
          "name": "stderr",
          "output_type": "stream",
          "text": [
            "2025-04-08 13:16:20.236615: I external/local_xla/xla/stream_executor/cuda/subprocess_compilation.cc:346] ptxas warning : Registers are spilled to local memory in function 'gemm_fusion_dot_94', 8 bytes spill stores, 8 bytes spill loads\n",
            "\n",
            "2025-04-08 13:16:43.731455: I external/local_xla/xla/stream_executor/cuda/subprocess_compilation.cc:346] ptxas warning : Registers are spilled to local memory in function 'input_reduce_transpose_fusion_23', 8 bytes spill stores, 8 bytes spill loads\n",
            "ptxas warning : Registers are spilled to local memory in function 'input_reduce_transpose_fusion_22', 8 bytes spill stores, 8 bytes spill loads\n",
            "ptxas warning : Registers are spilled to local memory in function 'input_reduce_transpose_fusion_21', 8 bytes spill stores, 8 bytes spill loads\n",
            "\n",
            "2025-04-08 13:16:47.088011: I external/local_xla/xla/stream_executor/cuda/subprocess_compilation.cc:346] ptxas warning : Registers are spilled to local memory in function 'gemm_fusion_dot_26', 8 bytes spill stores, 8 bytes spill loads\n",
            "\n"
          ]
        },
        {
          "name": "stdout",
          "output_type": "stream",
          "text": [
            "\u001b[1m1/1\u001b[0m \u001b[32m━━━━━━━━━━━━━━━━━━━━\u001b[0m\u001b[37m\u001b[0m \u001b[1m2s\u001b[0m 2s/step\n",
            "Subject: 2   seed 1   time: 12.9 m   valid_acc: 1.0000   valid_loss: 0.022\n",
            "Plot Learning Curves ....... \n"
          ]
        },
        {
          "name": "stderr",
          "output_type": "stream",
          "text": [
            "/home/giuseppe_bonomo/miniconda3/envs/tensorflow/lib/python3.10/site-packages/sklearn/metrics/_classification.py:407: UserWarning: A single label was found in 'y_true' and 'y_pred'. For the confusion matrix to have the correct shape, use the 'labels' parameter to pass all known labels.\n",
            "  warnings.warn(\n",
            "/home/giuseppe_bonomo/miniconda3/envs/tensorflow/lib/python3.10/site-packages/sklearn/metrics/_classification.py:758: RuntimeWarning: invalid value encountered in scalar divide\n",
            "  k = np.sum(w_mat * confusion) / np.sum(w_mat * expected)\n"
          ]
        },
        {
          "data": {
            "image/png": "[encoded data removed]",
            "text/plain": [
              "<Figure size 640x480 with 1 Axes>"
            ]
          },
          "metadata": {},
          "output_type": "display_data"
        },
        {
          "data": {
            "image/png": "[encoded data removed]",
            "text/plain": [
              "<Figure size 640x480 with 1 Axes>"
            ]
          },
          "metadata": {},
          "output_type": "display_data"
        },
        {
          "name": "stdout",
          "output_type": "stream",
          "text": [
            "\n",
            "Training on subject  3\n",
            "Extracting EDF parameters from /home/giuseppe_bonomo/DATASET/BCI2b_IV/dataset/B0301T.gdf...\n",
            "GDF file detected\n",
            "Setting channel info structure...\n",
            "Could not determine channel type of the following channels, they will be set as EEG:\n",
            "EEG:C3, EEG:Cz, EEG:C4, EOG:ch01, EOG:ch02, EOG:ch03\n",
            "Creating raw.info structure...\n",
            "Reading 0 ... 604802  =      0.000 ...  2419.208 secs...\n"
          ]
        },
        {
          "name": "stderr",
          "output_type": "stream",
          "text": [
            "/home/giuseppe_bonomo/DATASET/BCI2b_IV/preprocess.py:203: RuntimeWarning: Highpass cutoff frequency 100.0 is greater than lowpass cutoff frequency 0.5, setting values to 0 and Nyquist.\n",
            "  raw = mne.io.read_raw_gdf(gdf_file, preload=True)\n"
          ]
        },
        {
          "name": "stdout",
          "output_type": "stream",
          "text": [
            "Filtering raw data in 1 contiguous segment\n",
            "Setting up band-pass filter from 0.5 - 1e+02 Hz\n",
            "\n",
            "FIR filter parameters\n",
            "---------------------\n",
            "Designing a one-pass, zero-phase, non-causal bandpass filter:\n",
            "- Windowed time-domain design (firwin) method\n",
            "- Hamming window with 0.0194 passband ripple and 53 dB stopband attenuation\n",
            "- Lower passband edge: 0.50\n",
            "- Lower transition bandwidth: 0.50 Hz (-6 dB cutoff frequency: 0.25 Hz)\n",
            "- Upper passband edge: 100.00 Hz\n",
            "- Upper transition bandwidth: 25.00 Hz (-6 dB cutoff frequency: 112.50 Hz)\n",
            "- Filter length: 1651 samples (6.604 s)\n",
            "\n",
            "NOTE: pick_channels() is a legacy function. New code should use inst.pick(...).\n",
            "Used Annotations descriptions: [np.str_('1023'), np.str_('1077'), np.str_('1078'), np.str_('1079'), np.str_('1081'), np.str_('276'), np.str_('277'), np.str_('32766'), np.str_('768'), np.str_('769'), np.str_('770')]\n",
            "Extracting EDF parameters from /home/giuseppe_bonomo/DATASET/BCI2b_IV/dataset/B0302T.gdf...\n",
            "GDF file detected\n",
            "Setting channel info structure...\n",
            "Could not determine channel type of the following channels, they will be set as EEG:\n",
            "EEG:C3, EEG:Cz, EEG:C4, EOG:ch01, EOG:ch02, EOG:ch03\n",
            "Creating raw.info structure...\n",
            "Reading 0 ... 604802  =      0.000 ...  2419.208 secs...\n"
          ]
        },
        {
          "name": "stderr",
          "output_type": "stream",
          "text": [
            "/home/giuseppe_bonomo/DATASET/BCI2b_IV/preprocess.py:203: RuntimeWarning: Highpass cutoff frequency 100.0 is greater than lowpass cutoff frequency 0.5, setting values to 0 and Nyquist.\n",
            "  raw = mne.io.read_raw_gdf(gdf_file, preload=True)\n"
          ]
        },
        {
          "name": "stdout",
          "output_type": "stream",
          "text": [
            "Filtering raw data in 1 contiguous segment\n",
            "Setting up band-pass filter from 0.5 - 1e+02 Hz\n",
            "\n",
            "FIR filter parameters\n",
            "---------------------\n",
            "Designing a one-pass, zero-phase, non-causal bandpass filter:\n",
            "- Windowed time-domain design (firwin) method\n",
            "- Hamming window with 0.0194 passband ripple and 53 dB stopband attenuation\n",
            "- Lower passband edge: 0.50\n",
            "- Lower transition bandwidth: 0.50 Hz (-6 dB cutoff frequency: 0.25 Hz)\n",
            "- Upper passband edge: 100.00 Hz\n",
            "- Upper transition bandwidth: 25.00 Hz (-6 dB cutoff frequency: 112.50 Hz)\n",
            "- Filter length: 1651 samples (6.604 s)\n",
            "\n",
            "NOTE: pick_channels() is a legacy function. New code should use inst.pick(...).\n",
            "Used Annotations descriptions: [np.str_('1023'), np.str_('1077'), np.str_('1078'), np.str_('1079'), np.str_('1081'), np.str_('276'), np.str_('277'), np.str_('32766'), np.str_('768'), np.str_('769'), np.str_('770')]\n",
            "Extracting EDF parameters from /home/giuseppe_bonomo/DATASET/BCI2b_IV/dataset/B0303T.gdf...\n",
            "GDF file detected\n",
            "Setting channel info structure...\n",
            "Could not determine channel type of the following channels, they will be set as EEG:\n",
            "EEG:C3, EEG:Cz, EEG:C4, EOG:ch01, EOG:ch02, EOG:ch03\n",
            "Creating raw.info structure...\n",
            "Reading 0 ... 464674  =      0.000 ...  1858.696 secs...\n"
          ]
        },
        {
          "name": "stderr",
          "output_type": "stream",
          "text": [
            "/home/giuseppe_bonomo/DATASET/BCI2b_IV/preprocess.py:203: RuntimeWarning: Highpass cutoff frequency 100.0 is greater than lowpass cutoff frequency 0.5, setting values to 0 and Nyquist.\n",
            "  raw = mne.io.read_raw_gdf(gdf_file, preload=True)\n"
          ]
        },
        {
          "name": "stdout",
          "output_type": "stream",
          "text": [
            "Filtering raw data in 1 contiguous segment\n",
            "Setting up band-pass filter from 0.5 - 1e+02 Hz\n",
            "\n",
            "FIR filter parameters\n",
            "---------------------\n",
            "Designing a one-pass, zero-phase, non-causal bandpass filter:\n",
            "- Windowed time-domain design (firwin) method\n",
            "- Hamming window with 0.0194 passband ripple and 53 dB stopband attenuation\n",
            "- Lower passband edge: 0.50\n",
            "- Lower transition bandwidth: 0.50 Hz (-6 dB cutoff frequency: 0.25 Hz)\n",
            "- Upper passband edge: 100.00 Hz\n",
            "- Upper transition bandwidth: 25.00 Hz (-6 dB cutoff frequency: 112.50 Hz)\n",
            "- Filter length: 1651 samples (6.604 s)\n",
            "\n",
            "NOTE: pick_channels() is a legacy function. New code should use inst.pick(...).\n",
            "Used Annotations descriptions: [np.str_('1023'), np.str_('1077'), np.str_('1078'), np.str_('1079'), np.str_('1081'), np.str_('276'), np.str_('277'), np.str_('32766'), np.str_('768'), np.str_('769'), np.str_('770'), np.str_('781')]\n",
            "Extracting EDF parameters from /home/giuseppe_bonomo/DATASET/BCI2b_IV/dataset/B0304E.gdf...\n",
            "GDF file detected\n",
            "Setting channel info structure...\n",
            "Could not determine channel type of the following channels, they will be set as EEG:\n",
            "EEG:C3, EEG:Cz, EEG:C4, EOG:ch01, EOG:ch02, EOG:ch03\n",
            "Creating raw.info structure...\n",
            "Reading 0 ... 464674  =      0.000 ...  1858.696 secs...\n"
          ]
        },
        {
          "name": "stderr",
          "output_type": "stream",
          "text": [
            "/home/giuseppe_bonomo/DATASET/BCI2b_IV/preprocess.py:203: RuntimeWarning: Highpass cutoff frequency 100.0 is greater than lowpass cutoff frequency 0.5, setting values to 0 and Nyquist.\n",
            "  raw = mne.io.read_raw_gdf(gdf_file, preload=True)\n"
          ]
        },
        {
          "name": "stdout",
          "output_type": "stream",
          "text": [
            "Filtering raw data in 1 contiguous segment\n",
            "Setting up band-pass filter from 0.5 - 1e+02 Hz\n",
            "\n",
            "FIR filter parameters\n",
            "---------------------\n",
            "Designing a one-pass, zero-phase, non-causal bandpass filter:\n",
            "- Windowed time-domain design (firwin) method\n",
            "- Hamming window with 0.0194 passband ripple and 53 dB stopband attenuation\n",
            "- Lower passband edge: 0.50\n",
            "- Lower transition bandwidth: 0.50 Hz (-6 dB cutoff frequency: 0.25 Hz)\n",
            "- Upper passband edge: 100.00 Hz\n",
            "- Upper transition bandwidth: 25.00 Hz (-6 dB cutoff frequency: 112.50 Hz)\n",
            "- Filter length: 1651 samples (6.604 s)\n",
            "\n",
            "NOTE: pick_channels() is a legacy function. New code should use inst.pick(...).\n",
            "Used Annotations descriptions: [np.str_('1023'), np.str_('1077'), np.str_('1078'), np.str_('1079'), np.str_('1081'), np.str_('276'), np.str_('277'), np.str_('32766'), np.str_('768'), np.str_('781'), np.str_('783')]\n",
            "Extracting EDF parameters from /home/giuseppe_bonomo/DATASET/BCI2b_IV/dataset/B0305E.gdf...\n",
            "GDF file detected\n",
            "Setting channel info structure...\n",
            "Could not determine channel type of the following channels, they will be set as EEG:\n",
            "EEG:C3, EEG:Cz, EEG:C4, EOG:ch01, EOG:ch02, EOG:ch03\n",
            "Creating raw.info structure...\n",
            "Reading 0 ... 463618  =      0.000 ...  1854.472 secs...\n"
          ]
        },
        {
          "name": "stderr",
          "output_type": "stream",
          "text": [
            "/home/giuseppe_bonomo/DATASET/BCI2b_IV/preprocess.py:203: RuntimeWarning: Highpass cutoff frequency 100.0 is greater than lowpass cutoff frequency 0.5, setting values to 0 and Nyquist.\n",
            "  raw = mne.io.read_raw_gdf(gdf_file, preload=True)\n"
          ]
        },
        {
          "name": "stdout",
          "output_type": "stream",
          "text": [
            "Filtering raw data in 1 contiguous segment\n",
            "Setting up band-pass filter from 0.5 - 1e+02 Hz\n",
            "\n",
            "FIR filter parameters\n",
            "---------------------\n",
            "Designing a one-pass, zero-phase, non-causal bandpass filter:\n",
            "- Windowed time-domain design (firwin) method\n",
            "- Hamming window with 0.0194 passband ripple and 53 dB stopband attenuation\n",
            "- Lower passband edge: 0.50\n",
            "- Lower transition bandwidth: 0.50 Hz (-6 dB cutoff frequency: 0.25 Hz)\n",
            "- Upper passband edge: 100.00 Hz\n",
            "- Upper transition bandwidth: 25.00 Hz (-6 dB cutoff frequency: 112.50 Hz)\n",
            "- Filter length: 1651 samples (6.604 s)\n",
            "\n",
            "NOTE: pick_channels() is a legacy function. New code should use inst.pick(...).\n",
            "Used Annotations descriptions: [np.str_('1023'), np.str_('1077'), np.str_('1078'), np.str_('1079'), np.str_('1081'), np.str_('276'), np.str_('277'), np.str_('32766'), np.str_('768'), np.str_('781'), np.str_('783')]\n",
            "\n",
            "\n",
            "Before preprocessing X_train shape is:(85, 1, 3, 750)\n",
            "Before preprocessing X_val shape is:(22, 1, 3, 750)\n",
            "Lunghezza originale del segnale: (85, 1, 3, 750)\n",
            "Livello 1: coeffs_approx shape (85, 1, 3, 750), lo_d shape (12,), hi_d shape (12,)\n",
            "Livello 2: coeffs_approx shape (85, 1, 3, 750), lo_d shape (13,), hi_d shape (13,)\n",
            "Livello 3: coeffs_approx shape (85, 1, 3, 750), lo_d shape (14,), hi_d shape (14,)\n",
            "Livello 4: coeffs_approx shape (85, 1, 3, 750), lo_d shape (14,), hi_d shape (14,)\n",
            "Lunghezza del segnale ricostruito: (85, 1, 3, 750)\n",
            "Lunghezza originale del segnale: (22, 1, 3, 750)\n",
            "Livello 1: coeffs_approx shape (22, 1, 3, 750), lo_d shape (12,), hi_d shape (12,)\n",
            "Livello 2: coeffs_approx shape (22, 1, 3, 750), lo_d shape (13,), hi_d shape (13,)\n",
            "Livello 3: coeffs_approx shape (22, 1, 3, 750), lo_d shape (14,), hi_d shape (14,)\n",
            "Livello 4: coeffs_approx shape (22, 1, 3, 750), lo_d shape (14,), hi_d shape (14,)\n",
            "Lunghezza del segnale ricostruito: (22, 1, 3, 750)\n",
            "\n",
            "\n",
            "After preprocessing X_train shape is:(85, 1, 3, 750)\n",
            "After preprocessing X_val shape is:(22, 1, 3, 750)\n"
          ]
        },
        {
          "name": "stderr",
          "output_type": "stream",
          "text": [
            "2025-04-08 13:29:38.677103: I external/local_xla/xla/stream_executor/cuda/subprocess_compilation.cc:346] ptxas warning : Registers are spilled to local memory in function 'input_reduce_transpose_fusion_23', 8 bytes spill stores, 8 bytes spill loads\n",
            "ptxas warning : Registers are spilled to local memory in function 'input_reduce_transpose_fusion_22', 8 bytes spill stores, 8 bytes spill loads\n",
            "ptxas warning : Registers are spilled to local memory in function 'input_reduce_transpose_fusion_21', 8 bytes spill stores, 8 bytes spill loads\n",
            "\n",
            "2025-04-08 13:29:49.097976: I external/local_xla/xla/stream_executor/cuda/subprocess_compilation.cc:346] ptxas warning : Registers are spilled to local memory in function 'gemm_fusion_dot_94', 8 bytes spill stores, 8 bytes spill loads\n",
            "\n",
            "2025-04-08 13:30:13.600959: I external/local_xla/xla/stream_executor/cuda/subprocess_compilation.cc:346] ptxas warning : Registers are spilled to local memory in function 'input_reduce_transpose_fusion_23', 8 bytes spill stores, 8 bytes spill loads\n",
            "ptxas warning : Registers are spilled to local memory in function 'input_reduce_transpose_fusion_22', 8 bytes spill stores, 8 bytes spill loads\n",
            "ptxas warning : Registers are spilled to local memory in function 'input_reduce_transpose_fusion_21', 8 bytes spill stores, 8 bytes spill loads\n",
            "\n",
            "2025-04-08 13:30:16.787526: I external/local_xla/xla/stream_executor/cuda/subprocess_compilation.cc:346] ptxas warning : Registers are spilled to local memory in function 'gemm_fusion_dot_26', 8 bytes spill stores, 8 bytes spill loads\n",
            "\n"
          ]
        },
        {
          "name": "stdout",
          "output_type": "stream",
          "text": [
            "\u001b[1m1/1\u001b[0m \u001b[32m━━━━━━━━━━━━━━━━━━━━\u001b[0m\u001b[37m\u001b[0m \u001b[1m3s\u001b[0m 3s/step\n",
            "Subject: 3   seed 1   time: 9.3 m   valid_acc: 1.0000   valid_loss: 0.017\n",
            "Plot Learning Curves ....... \n"
          ]
        },
        {
          "data": {
            "image/png": "[encoded data removed]",
            "text/plain": [
              "<Figure size 640x480 with 1 Axes>"
            ]
          },
          "metadata": {},
          "output_type": "display_data"
        },
        {
          "data": {
            "image/png": "[encoded data removed]",
            "text/plain": [
              "<Figure size 640x480 with 1 Axes>"
            ]
          },
          "metadata": {},
          "output_type": "display_data"
        },
        {
          "name": "stdout",
          "output_type": "stream",
          "text": [
            "\n",
            "Training on subject  4\n",
            "Extracting EDF parameters from /home/giuseppe_bonomo/DATASET/BCI2b_IV/dataset/B0401T.gdf...\n",
            "GDF file detected\n",
            "Setting channel info structure...\n",
            "Could not determine channel type of the following channels, they will be set as EEG:\n",
            "EEG:C3, EEG:Cz, EEG:C4, EOG:ch01, EOG:ch02, EOG:ch03\n",
            "Creating raw.info structure...\n",
            "Reading 0 ... 604802  =      0.000 ...  2419.208 secs...\n"
          ]
        },
        {
          "name": "stderr",
          "output_type": "stream",
          "text": [
            "/home/giuseppe_bonomo/DATASET/BCI2b_IV/preprocess.py:203: RuntimeWarning: Highpass cutoff frequency 100.0 is greater than lowpass cutoff frequency 0.5, setting values to 0 and Nyquist.\n",
            "  raw = mne.io.read_raw_gdf(gdf_file, preload=True)\n"
          ]
        },
        {
          "name": "stdout",
          "output_type": "stream",
          "text": [
            "Filtering raw data in 1 contiguous segment\n",
            "Setting up band-pass filter from 0.5 - 1e+02 Hz\n",
            "\n",
            "FIR filter parameters\n",
            "---------------------\n",
            "Designing a one-pass, zero-phase, non-causal bandpass filter:\n",
            "- Windowed time-domain design (firwin) method\n",
            "- Hamming window with 0.0194 passband ripple and 53 dB stopband attenuation\n",
            "- Lower passband edge: 0.50\n",
            "- Lower transition bandwidth: 0.50 Hz (-6 dB cutoff frequency: 0.25 Hz)\n",
            "- Upper passband edge: 100.00 Hz\n",
            "- Upper transition bandwidth: 25.00 Hz (-6 dB cutoff frequency: 112.50 Hz)\n",
            "- Filter length: 1651 samples (6.604 s)\n",
            "\n",
            "NOTE: pick_channels() is a legacy function. New code should use inst.pick(...).\n",
            "Used Annotations descriptions: [np.str_('1023'), np.str_('1077'), np.str_('1078'), np.str_('1079'), np.str_('1081'), np.str_('276'), np.str_('277'), np.str_('32766'), np.str_('768'), np.str_('769'), np.str_('770')]\n",
            "Extracting EDF parameters from /home/giuseppe_bonomo/DATASET/BCI2b_IV/dataset/B0402T.gdf...\n",
            "GDF file detected\n",
            "Setting channel info structure...\n",
            "Could not determine channel type of the following channels, they will be set as EEG:\n",
            "EEG:C3, EEG:Cz, EEG:C4, EOG:ch01, EOG:ch02, EOG:ch03\n",
            "Creating raw.info structure...\n",
            "Reading 0 ... 696265  =      0.000 ...  2785.060 secs...\n"
          ]
        },
        {
          "name": "stderr",
          "output_type": "stream",
          "text": [
            "/home/giuseppe_bonomo/DATASET/BCI2b_IV/preprocess.py:203: RuntimeWarning: Highpass cutoff frequency 100.0 is greater than lowpass cutoff frequency 0.5, setting values to 0 and Nyquist.\n",
            "  raw = mne.io.read_raw_gdf(gdf_file, preload=True)\n"
          ]
        },
        {
          "name": "stdout",
          "output_type": "stream",
          "text": [
            "Filtering raw data in 1 contiguous segment\n",
            "Setting up band-pass filter from 0.5 - 1e+02 Hz\n",
            "\n",
            "FIR filter parameters\n",
            "---------------------\n",
            "Designing a one-pass, zero-phase, non-causal bandpass filter:\n",
            "- Windowed time-domain design (firwin) method\n",
            "- Hamming window with 0.0194 passband ripple and 53 dB stopband attenuation\n",
            "- Lower passband edge: 0.50\n",
            "- Lower transition bandwidth: 0.50 Hz (-6 dB cutoff frequency: 0.25 Hz)\n",
            "- Upper passband edge: 100.00 Hz\n",
            "- Upper transition bandwidth: 25.00 Hz (-6 dB cutoff frequency: 112.50 Hz)\n",
            "- Filter length: 1651 samples (6.604 s)\n",
            "\n",
            "NOTE: pick_channels() is a legacy function. New code should use inst.pick(...).\n",
            "Used Annotations descriptions: [np.str_('1023'), np.str_('1077'), np.str_('1078'), np.str_('1079'), np.str_('1081'), np.str_('276'), np.str_('277'), np.str_('32766'), np.str_('768'), np.str_('769'), np.str_('770')]\n",
            "Extracting EDF parameters from /home/giuseppe_bonomo/DATASET/BCI2b_IV/dataset/B0403T.gdf...\n",
            "GDF file detected\n",
            "Setting channel info structure...\n",
            "Could not determine channel type of the following channels, they will be set as EEG:\n",
            "EEG:C3, EEG:Cz, EEG:C4, EOG:ch01, EOG:ch02, EOG:ch03\n",
            "Creating raw.info structure...\n",
            "Reading 0 ... 468558  =      0.000 ...  1874.232 secs...\n"
          ]
        },
        {
          "name": "stderr",
          "output_type": "stream",
          "text": [
            "/home/giuseppe_bonomo/DATASET/BCI2b_IV/preprocess.py:203: RuntimeWarning: Highpass cutoff frequency 100.0 is greater than lowpass cutoff frequency 0.5, setting values to 0 and Nyquist.\n",
            "  raw = mne.io.read_raw_gdf(gdf_file, preload=True)\n"
          ]
        },
        {
          "name": "stdout",
          "output_type": "stream",
          "text": [
            "Filtering raw data in 1 contiguous segment\n",
            "Setting up band-pass filter from 0.5 - 1e+02 Hz\n",
            "\n",
            "FIR filter parameters\n",
            "---------------------\n",
            "Designing a one-pass, zero-phase, non-causal bandpass filter:\n",
            "- Windowed time-domain design (firwin) method\n",
            "- Hamming window with 0.0194 passband ripple and 53 dB stopband attenuation\n",
            "- Lower passband edge: 0.50\n",
            "- Lower transition bandwidth: 0.50 Hz (-6 dB cutoff frequency: 0.25 Hz)\n",
            "- Upper passband edge: 100.00 Hz\n",
            "- Upper transition bandwidth: 25.00 Hz (-6 dB cutoff frequency: 112.50 Hz)\n",
            "- Filter length: 1651 samples (6.604 s)\n",
            "\n",
            "NOTE: pick_channels() is a legacy function. New code should use inst.pick(...).\n",
            "Used Annotations descriptions: [np.str_('1023'), np.str_('1077'), np.str_('1078'), np.str_('1079'), np.str_('1081'), np.str_('276'), np.str_('277'), np.str_('32766'), np.str_('768'), np.str_('769'), np.str_('770'), np.str_('781')]\n",
            "Extracting EDF parameters from /home/giuseppe_bonomo/DATASET/BCI2b_IV/dataset/B0404E.gdf...\n",
            "GDF file detected\n",
            "Setting channel info structure...\n",
            "Could not determine channel type of the following channels, they will be set as EEG:\n",
            "EEG:C3, EEG:Cz, EEG:C4, EOG:ch01, EOG:ch02, EOG:ch03\n",
            "Creating raw.info structure...\n",
            "Reading 0 ... 467478  =      0.000 ...  1869.912 secs...\n"
          ]
        },
        {
          "name": "stderr",
          "output_type": "stream",
          "text": [
            "/home/giuseppe_bonomo/DATASET/BCI2b_IV/preprocess.py:203: RuntimeWarning: Highpass cutoff frequency 100.0 is greater than lowpass cutoff frequency 0.5, setting values to 0 and Nyquist.\n",
            "  raw = mne.io.read_raw_gdf(gdf_file, preload=True)\n"
          ]
        },
        {
          "name": "stdout",
          "output_type": "stream",
          "text": [
            "Filtering raw data in 1 contiguous segment\n",
            "Setting up band-pass filter from 0.5 - 1e+02 Hz\n",
            "\n",
            "FIR filter parameters\n",
            "---------------------\n",
            "Designing a one-pass, zero-phase, non-causal bandpass filter:\n",
            "- Windowed time-domain design (firwin) method\n",
            "- Hamming window with 0.0194 passband ripple and 53 dB stopband attenuation\n",
            "- Lower passband edge: 0.50\n",
            "- Lower transition bandwidth: 0.50 Hz (-6 dB cutoff frequency: 0.25 Hz)\n",
            "- Upper passband edge: 100.00 Hz\n",
            "- Upper transition bandwidth: 25.00 Hz (-6 dB cutoff frequency: 112.50 Hz)\n",
            "- Filter length: 1651 samples (6.604 s)\n",
            "\n",
            "NOTE: pick_channels() is a legacy function. New code should use inst.pick(...).\n",
            "Used Annotations descriptions: [np.str_('1023'), np.str_('1077'), np.str_('1078'), np.str_('1079'), np.str_('1081'), np.str_('276'), np.str_('277'), np.str_('32766'), np.str_('768'), np.str_('781'), np.str_('783')]\n",
            "Extracting EDF parameters from /home/giuseppe_bonomo/DATASET/BCI2b_IV/dataset/B0405E.gdf...\n",
            "GDF file detected\n",
            "Setting channel info structure...\n",
            "Could not determine channel type of the following channels, they will be set as EEG:\n",
            "EEG:C3, EEG:Cz, EEG:C4, EOG:ch01, EOG:ch02, EOG:ch03\n",
            "Creating raw.info structure...\n",
            "Reading 0 ... 466050  =      0.000 ...  1864.200 secs...\n"
          ]
        },
        {
          "name": "stderr",
          "output_type": "stream",
          "text": [
            "/home/giuseppe_bonomo/DATASET/BCI2b_IV/preprocess.py:203: RuntimeWarning: Highpass cutoff frequency 100.0 is greater than lowpass cutoff frequency 0.5, setting values to 0 and Nyquist.\n",
            "  raw = mne.io.read_raw_gdf(gdf_file, preload=True)\n"
          ]
        },
        {
          "name": "stdout",
          "output_type": "stream",
          "text": [
            "Filtering raw data in 1 contiguous segment\n",
            "Setting up band-pass filter from 0.5 - 1e+02 Hz\n",
            "\n",
            "FIR filter parameters\n",
            "---------------------\n",
            "Designing a one-pass, zero-phase, non-causal bandpass filter:\n",
            "- Windowed time-domain design (firwin) method\n",
            "- Hamming window with 0.0194 passband ripple and 53 dB stopband attenuation\n",
            "- Lower passband edge: 0.50\n",
            "- Lower transition bandwidth: 0.50 Hz (-6 dB cutoff frequency: 0.25 Hz)\n",
            "- Upper passband edge: 100.00 Hz\n",
            "- Upper transition bandwidth: 25.00 Hz (-6 dB cutoff frequency: 112.50 Hz)\n",
            "- Filter length: 1651 samples (6.604 s)\n",
            "\n",
            "NOTE: pick_channels() is a legacy function. New code should use inst.pick(...).\n",
            "Used Annotations descriptions: [np.str_('1023'), np.str_('1077'), np.str_('1078'), np.str_('1079'), np.str_('1081'), np.str_('276'), np.str_('277'), np.str_('32766'), np.str_('768'), np.str_('781'), np.str_('783')]\n",
            "\n",
            "\n",
            "Before preprocessing X_train shape is:(19, 1, 3, 750)\n",
            "Before preprocessing X_val shape is:(5, 1, 3, 750)\n",
            "Lunghezza originale del segnale: (19, 1, 3, 750)\n",
            "Livello 1: coeffs_approx shape (19, 1, 3, 750), lo_d shape (12,), hi_d shape (12,)\n",
            "Livello 2: coeffs_approx shape (19, 1, 3, 750), lo_d shape (13,), hi_d shape (13,)\n",
            "Livello 3: coeffs_approx shape (19, 1, 3, 750), lo_d shape (14,), hi_d shape (14,)\n",
            "Livello 4: coeffs_approx shape (19, 1, 3, 750), lo_d shape (14,), hi_d shape (14,)\n",
            "Lunghezza del segnale ricostruito: (19, 1, 3, 750)\n",
            "Lunghezza originale del segnale: (5, 1, 3, 750)\n",
            "Livello 1: coeffs_approx shape (5, 1, 3, 750), lo_d shape (12,), hi_d shape (12,)\n",
            "Livello 2: coeffs_approx shape (5, 1, 3, 750), lo_d shape (13,), hi_d shape (13,)\n",
            "Livello 3: coeffs_approx shape (5, 1, 3, 750), lo_d shape (14,), hi_d shape (14,)\n",
            "Livello 4: coeffs_approx shape (5, 1, 3, 750), lo_d shape (14,), hi_d shape (14,)\n",
            "Lunghezza del segnale ricostruito: (5, 1, 3, 750)\n",
            "\n",
            "\n",
            "After preprocessing X_train shape is:(19, 1, 3, 750)\n",
            "After preprocessing X_val shape is:(5, 1, 3, 750)\n"
          ]
        },
        {
          "name": "stderr",
          "output_type": "stream",
          "text": [
            "2025-04-08 13:38:43.277134: I external/local_xla/xla/stream_executor/cuda/subprocess_compilation.cc:346] ptxas warning : Registers are spilled to local memory in function 'gemm_fusion_dot_94', 8 bytes spill stores, 8 bytes spill loads\n",
            "\n",
            "2025-04-08 13:39:06.618946: I external/local_xla/xla/stream_executor/cuda/subprocess_compilation.cc:346] ptxas warning : Registers are spilled to local memory in function 'input_reduce_transpose_fusion_23', 8 bytes spill stores, 8 bytes spill loads\n",
            "ptxas warning : Registers are spilled to local memory in function 'input_reduce_transpose_fusion_22', 8 bytes spill stores, 8 bytes spill loads\n",
            "ptxas warning : Registers are spilled to local memory in function 'input_reduce_transpose_fusion_21', 8 bytes spill stores, 8 bytes spill loads\n",
            "\n"
          ]
        },
        {
          "name": "stdout",
          "output_type": "stream",
          "text": [
            "\u001b[1m1/1\u001b[0m \u001b[32m━━━━━━━━━━━━━━━━━━━━\u001b[0m\u001b[37m\u001b[0m \u001b[1m3s\u001b[0m 3s/step\n",
            "Subject: 4   seed 1   time: 11.5 m   valid_acc: 1.0000   valid_loss: 0.051\n",
            "Plot Learning Curves ....... \n"
          ]
        },
        {
          "name": "stderr",
          "output_type": "stream",
          "text": [
            "/home/giuseppe_bonomo/miniconda3/envs/tensorflow/lib/python3.10/site-packages/sklearn/metrics/_classification.py:407: UserWarning: A single label was found in 'y_true' and 'y_pred'. For the confusion matrix to have the correct shape, use the 'labels' parameter to pass all known labels.\n",
            "  warnings.warn(\n",
            "/home/giuseppe_bonomo/miniconda3/envs/tensorflow/lib/python3.10/site-packages/sklearn/metrics/_classification.py:758: RuntimeWarning: invalid value encountered in scalar divide\n",
            "  k = np.sum(w_mat * confusion) / np.sum(w_mat * expected)\n"
          ]
        },
        {
          "data": {
            "image/png": "[encoded data removed]",
            "text/plain": [
              "<Figure size 640x480 with 1 Axes>"
            ]
          },
          "metadata": {},
          "output_type": "display_data"
        },
        {
          "data": {
            "image/png": "[encoded data removed]",
            "text/plain": [
              "<Figure size 640x480 with 1 Axes>"
            ]
          },
          "metadata": {},
          "output_type": "display_data"
        },
        {
          "name": "stdout",
          "output_type": "stream",
          "text": [
            "\n",
            "Training on subject  5\n",
            "Extracting EDF parameters from /home/giuseppe_bonomo/DATASET/BCI2b_IV/dataset/B0501T.gdf...\n",
            "GDF file detected\n",
            "Setting channel info structure...\n",
            "Could not determine channel type of the following channels, they will be set as EEG:\n",
            "EEG:C3, EEG:Cz, EEG:C4, EOG:ch01, EOG:ch02, EOG:ch03\n",
            "Creating raw.info structure...\n",
            "Reading 0 ... 604802  =      0.000 ...  2419.208 secs...\n"
          ]
        },
        {
          "name": "stderr",
          "output_type": "stream",
          "text": [
            "/home/giuseppe_bonomo/DATASET/BCI2b_IV/preprocess.py:203: RuntimeWarning: Highpass cutoff frequency 100.0 is greater than lowpass cutoff frequency 0.5, setting values to 0 and Nyquist.\n",
            "  raw = mne.io.read_raw_gdf(gdf_file, preload=True)\n"
          ]
        },
        {
          "name": "stdout",
          "output_type": "stream",
          "text": [
            "Filtering raw data in 1 contiguous segment\n",
            "Setting up band-pass filter from 0.5 - 1e+02 Hz\n",
            "\n",
            "FIR filter parameters\n",
            "---------------------\n",
            "Designing a one-pass, zero-phase, non-causal bandpass filter:\n",
            "- Windowed time-domain design (firwin) method\n",
            "- Hamming window with 0.0194 passband ripple and 53 dB stopband attenuation\n",
            "- Lower passband edge: 0.50\n",
            "- Lower transition bandwidth: 0.50 Hz (-6 dB cutoff frequency: 0.25 Hz)\n",
            "- Upper passband edge: 100.00 Hz\n",
            "- Upper transition bandwidth: 25.00 Hz (-6 dB cutoff frequency: 112.50 Hz)\n",
            "- Filter length: 1651 samples (6.604 s)\n",
            "\n",
            "NOTE: pick_channels() is a legacy function. New code should use inst.pick(...).\n",
            "Used Annotations descriptions: [np.str_('1023'), np.str_('1077'), np.str_('1078'), np.str_('1079'), np.str_('1081'), np.str_('276'), np.str_('277'), np.str_('32766'), np.str_('768'), np.str_('769'), np.str_('770')]\n",
            "Extracting EDF parameters from /home/giuseppe_bonomo/DATASET/BCI2b_IV/dataset/B0502T.gdf...\n",
            "GDF file detected\n",
            "Setting channel info structure...\n",
            "Could not determine channel type of the following channels, they will be set as EEG:\n",
            "EEG:C3, EEG:Cz, EEG:C4, EOG:ch01, EOG:ch02, EOG:ch03\n",
            "Creating raw.info structure...\n",
            "Reading 0 ... 696265  =      0.000 ...  2785.060 secs...\n"
          ]
        },
        {
          "name": "stderr",
          "output_type": "stream",
          "text": [
            "/home/giuseppe_bonomo/DATASET/BCI2b_IV/preprocess.py:203: RuntimeWarning: Highpass cutoff frequency 100.0 is greater than lowpass cutoff frequency 0.5, setting values to 0 and Nyquist.\n",
            "  raw = mne.io.read_raw_gdf(gdf_file, preload=True)\n"
          ]
        },
        {
          "name": "stdout",
          "output_type": "stream",
          "text": [
            "Filtering raw data in 1 contiguous segment\n",
            "Setting up band-pass filter from 0.5 - 1e+02 Hz\n",
            "\n",
            "FIR filter parameters\n",
            "---------------------\n",
            "Designing a one-pass, zero-phase, non-causal bandpass filter:\n",
            "- Windowed time-domain design (firwin) method\n",
            "- Hamming window with 0.0194 passband ripple and 53 dB stopband attenuation\n",
            "- Lower passband edge: 0.50\n",
            "- Lower transition bandwidth: 0.50 Hz (-6 dB cutoff frequency: 0.25 Hz)\n",
            "- Upper passband edge: 100.00 Hz\n",
            "- Upper transition bandwidth: 25.00 Hz (-6 dB cutoff frequency: 112.50 Hz)\n",
            "- Filter length: 1651 samples (6.604 s)\n",
            "\n",
            "NOTE: pick_channels() is a legacy function. New code should use inst.pick(...).\n",
            "Used Annotations descriptions: [np.str_('1023'), np.str_('1077'), np.str_('1078'), np.str_('1079'), np.str_('1081'), np.str_('276'), np.str_('277'), np.str_('32766'), np.str_('768'), np.str_('769'), np.str_('770')]\n",
            "Extracting EDF parameters from /home/giuseppe_bonomo/DATASET/BCI2b_IV/dataset/B0503T.gdf...\n",
            "GDF file detected\n",
            "Setting channel info structure...\n",
            "Could not determine channel type of the following channels, they will be set as EEG:\n",
            "EEG:C3, EEG:Cz, EEG:C4, EOG:ch01, EOG:ch02, EOG:ch03\n",
            "Creating raw.info structure...\n",
            "Reading 0 ... 461874  =      0.000 ...  1847.496 secs...\n"
          ]
        },
        {
          "name": "stderr",
          "output_type": "stream",
          "text": [
            "/home/giuseppe_bonomo/DATASET/BCI2b_IV/preprocess.py:203: RuntimeWarning: Highpass cutoff frequency 100.0 is greater than lowpass cutoff frequency 0.5, setting values to 0 and Nyquist.\n",
            "  raw = mne.io.read_raw_gdf(gdf_file, preload=True)\n"
          ]
        },
        {
          "name": "stdout",
          "output_type": "stream",
          "text": [
            "Filtering raw data in 1 contiguous segment\n",
            "Setting up band-pass filter from 0.5 - 1e+02 Hz\n",
            "\n",
            "FIR filter parameters\n",
            "---------------------\n",
            "Designing a one-pass, zero-phase, non-causal bandpass filter:\n",
            "- Windowed time-domain design (firwin) method\n",
            "- Hamming window with 0.0194 passband ripple and 53 dB stopband attenuation\n",
            "- Lower passband edge: 0.50\n",
            "- Lower transition bandwidth: 0.50 Hz (-6 dB cutoff frequency: 0.25 Hz)\n",
            "- Upper passband edge: 100.00 Hz\n",
            "- Upper transition bandwidth: 25.00 Hz (-6 dB cutoff frequency: 112.50 Hz)\n",
            "- Filter length: 1651 samples (6.604 s)\n",
            "\n",
            "NOTE: pick_channels() is a legacy function. New code should use inst.pick(...).\n",
            "Used Annotations descriptions: [np.str_('1023'), np.str_('1077'), np.str_('1078'), np.str_('1079'), np.str_('1081'), np.str_('276'), np.str_('277'), np.str_('32766'), np.str_('768'), np.str_('769'), np.str_('770'), np.str_('781')]\n",
            "Extracting EDF parameters from /home/giuseppe_bonomo/DATASET/BCI2b_IV/dataset/B0504E.gdf...\n",
            "GDF file detected\n",
            "Setting channel info structure...\n",
            "Could not determine channel type of the following channels, they will be set as EEG:\n",
            "EEG:C3, EEG:Cz, EEG:C4, EOG:ch01, EOG:ch02, EOG:ch03\n",
            "Creating raw.info structure...\n",
            "Reading 0 ... 417019  =      0.000 ...  1668.076 secs...\n"
          ]
        },
        {
          "name": "stderr",
          "output_type": "stream",
          "text": [
            "/home/giuseppe_bonomo/DATASET/BCI2b_IV/preprocess.py:203: RuntimeWarning: Highpass cutoff frequency 100.0 is greater than lowpass cutoff frequency 0.5, setting values to 0 and Nyquist.\n",
            "  raw = mne.io.read_raw_gdf(gdf_file, preload=True)\n"
          ]
        },
        {
          "name": "stdout",
          "output_type": "stream",
          "text": [
            "Filtering raw data in 1 contiguous segment\n",
            "Setting up band-pass filter from 0.5 - 1e+02 Hz\n",
            "\n",
            "FIR filter parameters\n",
            "---------------------\n",
            "Designing a one-pass, zero-phase, non-causal bandpass filter:\n",
            "- Windowed time-domain design (firwin) method\n",
            "- Hamming window with 0.0194 passband ripple and 53 dB stopband attenuation\n",
            "- Lower passband edge: 0.50\n",
            "- Lower transition bandwidth: 0.50 Hz (-6 dB cutoff frequency: 0.25 Hz)\n",
            "- Upper passband edge: 100.00 Hz\n",
            "- Upper transition bandwidth: 25.00 Hz (-6 dB cutoff frequency: 112.50 Hz)\n",
            "- Filter length: 1651 samples (6.604 s)\n",
            "\n",
            "NOTE: pick_channels() is a legacy function. New code should use inst.pick(...).\n",
            "Used Annotations descriptions: [np.str_('1023'), np.str_('32766'), np.str_('768'), np.str_('781'), np.str_('783')]\n",
            "Extracting EDF parameters from /home/giuseppe_bonomo/DATASET/BCI2b_IV/dataset/B0505E.gdf...\n",
            "GDF file detected\n",
            "Setting channel info structure...\n",
            "Could not determine channel type of the following channels, they will be set as EEG:\n",
            "EEG:C3, EEG:Cz, EEG:C4, EOG:ch01, EOG:ch02, EOG:ch03\n",
            "Creating raw.info structure...\n",
            "Reading 0 ... 464958  =      0.000 ...  1859.832 secs...\n"
          ]
        },
        {
          "name": "stderr",
          "output_type": "stream",
          "text": [
            "/home/giuseppe_bonomo/DATASET/BCI2b_IV/preprocess.py:203: RuntimeWarning: Highpass cutoff frequency 100.0 is greater than lowpass cutoff frequency 0.5, setting values to 0 and Nyquist.\n",
            "  raw = mne.io.read_raw_gdf(gdf_file, preload=True)\n"
          ]
        },
        {
          "name": "stdout",
          "output_type": "stream",
          "text": [
            "Filtering raw data in 1 contiguous segment\n",
            "Setting up band-pass filter from 0.5 - 1e+02 Hz\n",
            "\n",
            "FIR filter parameters\n",
            "---------------------\n",
            "Designing a one-pass, zero-phase, non-causal bandpass filter:\n",
            "- Windowed time-domain design (firwin) method\n",
            "- Hamming window with 0.0194 passband ripple and 53 dB stopband attenuation\n",
            "- Lower passband edge: 0.50\n",
            "- Lower transition bandwidth: 0.50 Hz (-6 dB cutoff frequency: 0.25 Hz)\n",
            "- Upper passband edge: 100.00 Hz\n",
            "- Upper transition bandwidth: 25.00 Hz (-6 dB cutoff frequency: 112.50 Hz)\n",
            "- Filter length: 1651 samples (6.604 s)\n",
            "\n",
            "NOTE: pick_channels() is a legacy function. New code should use inst.pick(...).\n",
            "Used Annotations descriptions: [np.str_('1023'), np.str_('1077'), np.str_('1078'), np.str_('1079'), np.str_('1081'), np.str_('276'), np.str_('277'), np.str_('32766'), np.str_('768'), np.str_('781'), np.str_('783')]\n",
            "\n",
            "\n",
            "Before preprocessing X_train shape is:(32, 1, 3, 750)\n",
            "Before preprocessing X_val shape is:(9, 1, 3, 750)\n",
            "Lunghezza originale del segnale: (32, 1, 3, 750)\n",
            "Livello 1: coeffs_approx shape (32, 1, 3, 750), lo_d shape (12,), hi_d shape (12,)\n",
            "Livello 2: coeffs_approx shape (32, 1, 3, 750), lo_d shape (13,), hi_d shape (13,)\n",
            "Livello 3: coeffs_approx shape (32, 1, 3, 750), lo_d shape (14,), hi_d shape (14,)\n",
            "Livello 4: coeffs_approx shape (32, 1, 3, 750), lo_d shape (14,), hi_d shape (14,)\n",
            "Lunghezza del segnale ricostruito: (32, 1, 3, 750)\n",
            "Lunghezza originale del segnale: (9, 1, 3, 750)\n",
            "Livello 1: coeffs_approx shape (9, 1, 3, 750), lo_d shape (12,), hi_d shape (12,)\n",
            "Livello 2: coeffs_approx shape (9, 1, 3, 750), lo_d shape (13,), hi_d shape (13,)\n",
            "Livello 3: coeffs_approx shape (9, 1, 3, 750), lo_d shape (14,), hi_d shape (14,)\n",
            "Livello 4: coeffs_approx shape (9, 1, 3, 750), lo_d shape (14,), hi_d shape (14,)\n",
            "Lunghezza del segnale ricostruito: (9, 1, 3, 750)\n",
            "\n",
            "\n",
            "After preprocessing X_train shape is:(32, 1, 3, 750)\n",
            "After preprocessing X_val shape is:(9, 1, 3, 750)\n"
          ]
        },
        {
          "name": "stderr",
          "output_type": "stream",
          "text": [
            "2025-04-08 13:50:14.025683: I external/local_xla/xla/stream_executor/cuda/subprocess_compilation.cc:346] ptxas warning : Registers are spilled to local memory in function 'gemm_fusion_dot_94', 8 bytes spill stores, 8 bytes spill loads\n",
            "\n",
            "2025-04-08 13:50:35.178979: I external/local_xla/xla/stream_executor/cuda/subprocess_compilation.cc:346] ptxas warning : Registers are spilled to local memory in function 'input_reduce_transpose_fusion_26', 8 bytes spill stores, 8 bytes spill loads\n",
            "ptxas warning : Registers are spilled to local memory in function 'input_reduce_transpose_fusion_25', 8 bytes spill stores, 8 bytes spill loads\n",
            "ptxas warning : Registers are spilled to local memory in function 'input_reduce_transpose_fusion_24', 8 bytes spill stores, 8 bytes spill loads\n",
            "\n"
          ]
        },
        {
          "name": "stdout",
          "output_type": "stream",
          "text": [
            "WARNING:tensorflow:5 out of the last 5 calls to <function TensorFlowTrainer.make_predict_function.<locals>.one_step_on_data_distributed at 0x788125f8fbe0> triggered tf.function retracing. Tracing is expensive and the excessive number of tracings could be due to (1) creating @tf.function repeatedly in a loop, (2) passing tensors with different shapes, (3) passing Python objects instead of tensors. For (1), please define your @tf.function outside of the loop. For (2), @tf.function has reduce_retracing=True option that can avoid unnecessary retracing. For (3), please refer to https://www.tensorflow.org/guide/function#controlling_retracing and https://www.tensorflow.org/api_docs/python/tf/function for  more details.\n",
            "\u001b[1m1/1\u001b[0m \u001b[32m━━━━━━━━━━━━━━━━━━━━\u001b[0m\u001b[37m\u001b[0m \u001b[1m3s\u001b[0m 3s/step\n",
            "Subject: 5   seed 1   time: 10.1 m   valid_acc: 1.0000   valid_loss: 0.038\n",
            "Plot Learning Curves ....... \n"
          ]
        },
        {
          "data": {
            "image/png": "[encoded data removed]",
            "text/plain": [
              "<Figure size 640x480 with 1 Axes>"
            ]
          },
          "metadata": {},
          "output_type": "display_data"
        },
        {
          "data": {
            "image/png": "[encoded data removed]",
            "text/plain": [
              "<Figure size 640x480 with 1 Axes>"
            ]
          },
          "metadata": {},
          "output_type": "display_data"
        },
        {
          "name": "stdout",
          "output_type": "stream",
          "text": [
            "\n",
            "Training on subject  6\n",
            "Extracting EDF parameters from /home/giuseppe_bonomo/DATASET/BCI2b_IV/dataset/B0601T.gdf...\n",
            "GDF file detected\n",
            "Setting channel info structure...\n",
            "Could not determine channel type of the following channels, they will be set as EEG:\n",
            "EEG:C3, EEG:Cz, EEG:C4, EOG:ch01, EOG:ch02, EOG:ch03\n",
            "Creating raw.info structure...\n",
            "Reading 0 ... 604802  =      0.000 ...  2419.208 secs...\n"
          ]
        },
        {
          "name": "stderr",
          "output_type": "stream",
          "text": [
            "/home/giuseppe_bonomo/DATASET/BCI2b_IV/preprocess.py:203: RuntimeWarning: Highpass cutoff frequency 100.0 is greater than lowpass cutoff frequency 0.5, setting values to 0 and Nyquist.\n",
            "  raw = mne.io.read_raw_gdf(gdf_file, preload=True)\n"
          ]
        },
        {
          "name": "stdout",
          "output_type": "stream",
          "text": [
            "Filtering raw data in 1 contiguous segment\n",
            "Setting up band-pass filter from 0.5 - 1e+02 Hz\n",
            "\n",
            "FIR filter parameters\n",
            "---------------------\n",
            "Designing a one-pass, zero-phase, non-causal bandpass filter:\n",
            "- Windowed time-domain design (firwin) method\n",
            "- Hamming window with 0.0194 passband ripple and 53 dB stopband attenuation\n",
            "- Lower passband edge: 0.50\n",
            "- Lower transition bandwidth: 0.50 Hz (-6 dB cutoff frequency: 0.25 Hz)\n",
            "- Upper passband edge: 100.00 Hz\n",
            "- Upper transition bandwidth: 25.00 Hz (-6 dB cutoff frequency: 112.50 Hz)\n",
            "- Filter length: 1651 samples (6.604 s)\n",
            "\n",
            "NOTE: pick_channels() is a legacy function. New code should use inst.pick(...).\n",
            "Used Annotations descriptions: [np.str_('1023'), np.str_('1077'), np.str_('1078'), np.str_('1079'), np.str_('1081'), np.str_('276'), np.str_('277'), np.str_('32766'), np.str_('768'), np.str_('769'), np.str_('770')]\n",
            "Extracting EDF parameters from /home/giuseppe_bonomo/DATASET/BCI2b_IV/dataset/B0602T.gdf...\n",
            "GDF file detected\n",
            "Setting channel info structure...\n",
            "Could not determine channel type of the following channels, they will be set as EEG:\n",
            "EEG:C3, EEG:Cz, EEG:C4, EOG:ch01, EOG:ch02, EOG:ch03\n",
            "Creating raw.info structure...\n",
            "Reading 0 ... 604802  =      0.000 ...  2419.208 secs...\n"
          ]
        },
        {
          "name": "stderr",
          "output_type": "stream",
          "text": [
            "/home/giuseppe_bonomo/DATASET/BCI2b_IV/preprocess.py:203: RuntimeWarning: Highpass cutoff frequency 100.0 is greater than lowpass cutoff frequency 0.5, setting values to 0 and Nyquist.\n",
            "  raw = mne.io.read_raw_gdf(gdf_file, preload=True)\n"
          ]
        },
        {
          "name": "stdout",
          "output_type": "stream",
          "text": [
            "Filtering raw data in 1 contiguous segment\n",
            "Setting up band-pass filter from 0.5 - 1e+02 Hz\n",
            "\n",
            "FIR filter parameters\n",
            "---------------------\n",
            "Designing a one-pass, zero-phase, non-causal bandpass filter:\n",
            "- Windowed time-domain design (firwin) method\n",
            "- Hamming window with 0.0194 passband ripple and 53 dB stopband attenuation\n",
            "- Lower passband edge: 0.50\n",
            "- Lower transition bandwidth: 0.50 Hz (-6 dB cutoff frequency: 0.25 Hz)\n",
            "- Upper passband edge: 100.00 Hz\n",
            "- Upper transition bandwidth: 25.00 Hz (-6 dB cutoff frequency: 112.50 Hz)\n",
            "- Filter length: 1651 samples (6.604 s)\n",
            "\n",
            "NOTE: pick_channels() is a legacy function. New code should use inst.pick(...).\n",
            "Used Annotations descriptions: [np.str_('1023'), np.str_('1077'), np.str_('1078'), np.str_('1079'), np.str_('1081'), np.str_('276'), np.str_('277'), np.str_('32766'), np.str_('768'), np.str_('769'), np.str_('770')]\n",
            "Extracting EDF parameters from /home/giuseppe_bonomo/DATASET/BCI2b_IV/dataset/B0603T.gdf...\n",
            "GDF file detected\n",
            "Setting channel info structure...\n",
            "Could not determine channel type of the following channels, they will be set as EEG:\n",
            "EEG:C3, EEG:Cz, EEG:C4, EOG:ch01, EOG:ch02, EOG:ch03\n",
            "Creating raw.info structure...\n",
            "Reading 0 ... 470390  =      0.000 ...  1881.560 secs...\n"
          ]
        },
        {
          "name": "stderr",
          "output_type": "stream",
          "text": [
            "/home/giuseppe_bonomo/DATASET/BCI2b_IV/preprocess.py:203: RuntimeWarning: Highpass cutoff frequency 100.0 is greater than lowpass cutoff frequency 0.5, setting values to 0 and Nyquist.\n",
            "  raw = mne.io.read_raw_gdf(gdf_file, preload=True)\n"
          ]
        },
        {
          "name": "stdout",
          "output_type": "stream",
          "text": [
            "Filtering raw data in 1 contiguous segment\n",
            "Setting up band-pass filter from 0.5 - 1e+02 Hz\n",
            "\n",
            "FIR filter parameters\n",
            "---------------------\n",
            "Designing a one-pass, zero-phase, non-causal bandpass filter:\n",
            "- Windowed time-domain design (firwin) method\n",
            "- Hamming window with 0.0194 passband ripple and 53 dB stopband attenuation\n",
            "- Lower passband edge: 0.50\n",
            "- Lower transition bandwidth: 0.50 Hz (-6 dB cutoff frequency: 0.25 Hz)\n",
            "- Upper passband edge: 100.00 Hz\n",
            "- Upper transition bandwidth: 25.00 Hz (-6 dB cutoff frequency: 112.50 Hz)\n",
            "- Filter length: 1651 samples (6.604 s)\n",
            "\n",
            "NOTE: pick_channels() is a legacy function. New code should use inst.pick(...).\n",
            "Used Annotations descriptions: [np.str_('1023'), np.str_('1077'), np.str_('1078'), np.str_('1079'), np.str_('1081'), np.str_('276'), np.str_('277'), np.str_('32766'), np.str_('768'), np.str_('769'), np.str_('770'), np.str_('781')]\n",
            "Extracting EDF parameters from /home/giuseppe_bonomo/DATASET/BCI2b_IV/dataset/B0604E.gdf...\n",
            "GDF file detected\n",
            "Setting channel info structure...\n",
            "Could not determine channel type of the following channels, they will be set as EEG:\n",
            "EEG:C3, EEG:Cz, EEG:C4, EOG:ch01, EOG:ch02, EOG:ch03\n",
            "Creating raw.info structure...\n",
            "Reading 0 ... 469990  =      0.000 ...  1879.960 secs...\n"
          ]
        },
        {
          "name": "stderr",
          "output_type": "stream",
          "text": [
            "/home/giuseppe_bonomo/DATASET/BCI2b_IV/preprocess.py:203: RuntimeWarning: Highpass cutoff frequency 100.0 is greater than lowpass cutoff frequency 0.5, setting values to 0 and Nyquist.\n",
            "  raw = mne.io.read_raw_gdf(gdf_file, preload=True)\n"
          ]
        },
        {
          "name": "stdout",
          "output_type": "stream",
          "text": [
            "Filtering raw data in 1 contiguous segment\n",
            "Setting up band-pass filter from 0.5 - 1e+02 Hz\n",
            "\n",
            "FIR filter parameters\n",
            "---------------------\n",
            "Designing a one-pass, zero-phase, non-causal bandpass filter:\n",
            "- Windowed time-domain design (firwin) method\n",
            "- Hamming window with 0.0194 passband ripple and 53 dB stopband attenuation\n",
            "- Lower passband edge: 0.50\n",
            "- Lower transition bandwidth: 0.50 Hz (-6 dB cutoff frequency: 0.25 Hz)\n",
            "- Upper passband edge: 100.00 Hz\n",
            "- Upper transition bandwidth: 25.00 Hz (-6 dB cutoff frequency: 112.50 Hz)\n",
            "- Filter length: 1651 samples (6.604 s)\n",
            "\n",
            "NOTE: pick_channels() is a legacy function. New code should use inst.pick(...).\n",
            "Used Annotations descriptions: [np.str_('1023'), np.str_('1077'), np.str_('1078'), np.str_('1079'), np.str_('1081'), np.str_('276'), np.str_('277'), np.str_('32766'), np.str_('768'), np.str_('781'), np.str_('783')]\n",
            "Extracting EDF parameters from /home/giuseppe_bonomo/DATASET/BCI2b_IV/dataset/B0605E.gdf...\n",
            "GDF file detected\n",
            "Setting channel info structure...\n",
            "Could not determine channel type of the following channels, they will be set as EEG:\n",
            "EEG:C3, EEG:Cz, EEG:C4, EOG:ch01, EOG:ch02, EOG:ch03\n",
            "Creating raw.info structure...\n",
            "Reading 0 ... 460902  =      0.000 ...  1843.608 secs...\n"
          ]
        },
        {
          "name": "stderr",
          "output_type": "stream",
          "text": [
            "/home/giuseppe_bonomo/DATASET/BCI2b_IV/preprocess.py:203: RuntimeWarning: Highpass cutoff frequency 100.0 is greater than lowpass cutoff frequency 0.5, setting values to 0 and Nyquist.\n",
            "  raw = mne.io.read_raw_gdf(gdf_file, preload=True)\n"
          ]
        },
        {
          "name": "stdout",
          "output_type": "stream",
          "text": [
            "Filtering raw data in 1 contiguous segment\n",
            "Setting up band-pass filter from 0.5 - 1e+02 Hz\n",
            "\n",
            "FIR filter parameters\n",
            "---------------------\n",
            "Designing a one-pass, zero-phase, non-causal bandpass filter:\n",
            "- Windowed time-domain design (firwin) method\n",
            "- Hamming window with 0.0194 passband ripple and 53 dB stopband attenuation\n",
            "- Lower passband edge: 0.50\n",
            "- Lower transition bandwidth: 0.50 Hz (-6 dB cutoff frequency: 0.25 Hz)\n",
            "- Upper passband edge: 100.00 Hz\n",
            "- Upper transition bandwidth: 25.00 Hz (-6 dB cutoff frequency: 112.50 Hz)\n",
            "- Filter length: 1651 samples (6.604 s)\n",
            "\n",
            "NOTE: pick_channels() is a legacy function. New code should use inst.pick(...).\n",
            "Used Annotations descriptions: [np.str_('1023'), np.str_('1077'), np.str_('1078'), np.str_('1079'), np.str_('1081'), np.str_('276'), np.str_('277'), np.str_('32766'), np.str_('768'), np.str_('781'), np.str_('783')]\n",
            "\n",
            "\n",
            "Before preprocessing X_train shape is:(86, 1, 3, 750)\n",
            "Before preprocessing X_val shape is:(22, 1, 3, 750)\n",
            "Lunghezza originale del segnale: (86, 1, 3, 750)\n",
            "Livello 1: coeffs_approx shape (86, 1, 3, 750), lo_d shape (12,), hi_d shape (12,)\n",
            "Livello 2: coeffs_approx shape (86, 1, 3, 750), lo_d shape (13,), hi_d shape (13,)\n",
            "Livello 3: coeffs_approx shape (86, 1, 3, 750), lo_d shape (14,), hi_d shape (14,)\n",
            "Livello 4: coeffs_approx shape (86, 1, 3, 750), lo_d shape (14,), hi_d shape (14,)\n",
            "Lunghezza del segnale ricostruito: (86, 1, 3, 750)\n",
            "Lunghezza originale del segnale: (22, 1, 3, 750)\n",
            "Livello 1: coeffs_approx shape (22, 1, 3, 750), lo_d shape (12,), hi_d shape (12,)\n",
            "Livello 2: coeffs_approx shape (22, 1, 3, 750), lo_d shape (13,), hi_d shape (13,)\n",
            "Livello 3: coeffs_approx shape (22, 1, 3, 750), lo_d shape (14,), hi_d shape (14,)\n",
            "Livello 4: coeffs_approx shape (22, 1, 3, 750), lo_d shape (14,), hi_d shape (14,)\n",
            "Lunghezza del segnale ricostruito: (22, 1, 3, 750)\n",
            "\n",
            "\n",
            "After preprocessing X_train shape is:(86, 1, 3, 750)\n",
            "After preprocessing X_val shape is:(22, 1, 3, 750)\n"
          ]
        },
        {
          "name": "stderr",
          "output_type": "stream",
          "text": [
            "2025-04-08 14:00:39.179638: I external/local_xla/xla/stream_executor/cuda/subprocess_compilation.cc:346] ptxas warning : Registers are spilled to local memory in function 'input_reduce_transpose_fusion_23', 8 bytes spill stores, 8 bytes spill loads\n",
            "ptxas warning : Registers are spilled to local memory in function 'input_reduce_transpose_fusion_22', 8 bytes spill stores, 8 bytes spill loads\n",
            "ptxas warning : Registers are spilled to local memory in function 'input_reduce_transpose_fusion_21', 8 bytes spill stores, 8 bytes spill loads\n",
            "\n",
            "2025-04-08 14:01:13.927336: I external/local_xla/xla/stream_executor/cuda/subprocess_compilation.cc:346] ptxas warning : Registers are spilled to local memory in function 'input_reduce_transpose_fusion_23', 8 bytes spill stores, 8 bytes spill loads\n",
            "ptxas warning : Registers are spilled to local memory in function 'input_reduce_transpose_fusion_22', 8 bytes spill stores, 8 bytes spill loads\n",
            "ptxas warning : Registers are spilled to local memory in function 'input_reduce_transpose_fusion_21', 8 bytes spill stores, 8 bytes spill loads\n",
            "\n"
          ]
        },
        {
          "name": "stdout",
          "output_type": "stream",
          "text": [
            "WARNING:tensorflow:6 out of the last 6 calls to <function TensorFlowTrainer.make_predict_function.<locals>.one_step_on_data_distributed at 0x7881d4334ca0> triggered tf.function retracing. Tracing is expensive and the excessive number of tracings could be due to (1) creating @tf.function repeatedly in a loop, (2) passing tensors with different shapes, (3) passing Python objects instead of tensors. For (1), please define your @tf.function outside of the loop. For (2), @tf.function has reduce_retracing=True option that can avoid unnecessary retracing. For (3), please refer to https://www.tensorflow.org/guide/function#controlling_retracing and https://www.tensorflow.org/api_docs/python/tf/function for  more details.\n",
            "\u001b[1m1/1\u001b[0m \u001b[32m━━━━━━━━━━━━━━━━━━━━\u001b[0m\u001b[37m\u001b[0m \u001b[1m2s\u001b[0m 2s/step\n",
            "Subject: 6   seed 1   time: 8.6 m   valid_acc: 0.9545   valid_loss: 0.072\n",
            "Plot Learning Curves ....... \n"
          ]
        },
        {
          "data": {
            "image/png": "[encoded data removed]",
            "text/plain": [
              "<Figure size 640x480 with 1 Axes>"
            ]
          },
          "metadata": {},
          "output_type": "display_data"
        },
        {
          "data": {
            "image/png": "[encoded data removed]",
            "text/plain": [
              "<Figure size 640x480 with 1 Axes>"
            ]
          },
          "metadata": {},
          "output_type": "display_data"
        },
        {
          "name": "stdout",
          "output_type": "stream",
          "text": [
            "\n",
            "Training on subject  7\n",
            "Extracting EDF parameters from /home/giuseppe_bonomo/DATASET/BCI2b_IV/dataset/B0701T.gdf...\n",
            "GDF file detected\n",
            "Setting channel info structure...\n",
            "Could not determine channel type of the following channels, they will be set as EEG:\n",
            "EEG:C3, EEG:Cz, EEG:C4, EOG:ch01, EOG:ch02, EOG:ch03\n",
            "Creating raw.info structure...\n",
            "Reading 0 ... 604802  =      0.000 ...  2419.208 secs...\n"
          ]
        },
        {
          "name": "stderr",
          "output_type": "stream",
          "text": [
            "/home/giuseppe_bonomo/DATASET/BCI2b_IV/preprocess.py:203: RuntimeWarning: Highpass cutoff frequency 100.0 is greater than lowpass cutoff frequency 0.5, setting values to 0 and Nyquist.\n",
            "  raw = mne.io.read_raw_gdf(gdf_file, preload=True)\n"
          ]
        },
        {
          "name": "stdout",
          "output_type": "stream",
          "text": [
            "Filtering raw data in 1 contiguous segment\n",
            "Setting up band-pass filter from 0.5 - 1e+02 Hz\n",
            "\n",
            "FIR filter parameters\n",
            "---------------------\n",
            "Designing a one-pass, zero-phase, non-causal bandpass filter:\n",
            "- Windowed time-domain design (firwin) method\n",
            "- Hamming window with 0.0194 passband ripple and 53 dB stopband attenuation\n",
            "- Lower passband edge: 0.50\n",
            "- Lower transition bandwidth: 0.50 Hz (-6 dB cutoff frequency: 0.25 Hz)\n",
            "- Upper passband edge: 100.00 Hz\n",
            "- Upper transition bandwidth: 25.00 Hz (-6 dB cutoff frequency: 112.50 Hz)\n",
            "- Filter length: 1651 samples (6.604 s)\n",
            "\n",
            "NOTE: pick_channels() is a legacy function. New code should use inst.pick(...).\n",
            "Used Annotations descriptions: [np.str_('1023'), np.str_('1077'), np.str_('1078'), np.str_('1079'), np.str_('1081'), np.str_('276'), np.str_('277'), np.str_('32766'), np.str_('768'), np.str_('769'), np.str_('770')]\n",
            "Extracting EDF parameters from /home/giuseppe_bonomo/DATASET/BCI2b_IV/dataset/B0702T.gdf...\n",
            "GDF file detected\n",
            "Setting channel info structure...\n",
            "Could not determine channel type of the following channels, they will be set as EEG:\n",
            "EEG:C3, EEG:Cz, EEG:C4, EOG:ch01, EOG:ch02, EOG:ch03\n",
            "Creating raw.info structure...\n",
            "Reading 0 ... 604802  =      0.000 ...  2419.208 secs...\n"
          ]
        },
        {
          "name": "stderr",
          "output_type": "stream",
          "text": [
            "/home/giuseppe_bonomo/DATASET/BCI2b_IV/preprocess.py:203: RuntimeWarning: Highpass cutoff frequency 100.0 is greater than lowpass cutoff frequency 0.5, setting values to 0 and Nyquist.\n",
            "  raw = mne.io.read_raw_gdf(gdf_file, preload=True)\n"
          ]
        },
        {
          "name": "stdout",
          "output_type": "stream",
          "text": [
            "Filtering raw data in 1 contiguous segment\n",
            "Setting up band-pass filter from 0.5 - 1e+02 Hz\n",
            "\n",
            "FIR filter parameters\n",
            "---------------------\n",
            "Designing a one-pass, zero-phase, non-causal bandpass filter:\n",
            "- Windowed time-domain design (firwin) method\n",
            "- Hamming window with 0.0194 passband ripple and 53 dB stopband attenuation\n",
            "- Lower passband edge: 0.50\n",
            "- Lower transition bandwidth: 0.50 Hz (-6 dB cutoff frequency: 0.25 Hz)\n",
            "- Upper passband edge: 100.00 Hz\n",
            "- Upper transition bandwidth: 25.00 Hz (-6 dB cutoff frequency: 112.50 Hz)\n",
            "- Filter length: 1651 samples (6.604 s)\n",
            "\n",
            "NOTE: pick_channels() is a legacy function. New code should use inst.pick(...).\n",
            "Used Annotations descriptions: [np.str_('1023'), np.str_('1077'), np.str_('1078'), np.str_('1079'), np.str_('1081'), np.str_('276'), np.str_('277'), np.str_('32766'), np.str_('768'), np.str_('769'), np.str_('770')]\n",
            "Extracting EDF parameters from /home/giuseppe_bonomo/DATASET/BCI2b_IV/dataset/B0703T.gdf...\n",
            "GDF file detected\n",
            "Setting channel info structure...\n",
            "Could not determine channel type of the following channels, they will be set as EEG:\n",
            "EEG:C3, EEG:Cz, EEG:C4, EOG:ch01, EOG:ch02, EOG:ch03\n",
            "Creating raw.info structure...\n",
            "Reading 0 ... 466726  =      0.000 ...  1866.904 secs...\n"
          ]
        },
        {
          "name": "stderr",
          "output_type": "stream",
          "text": [
            "/home/giuseppe_bonomo/DATASET/BCI2b_IV/preprocess.py:203: RuntimeWarning: Highpass cutoff frequency 100.0 is greater than lowpass cutoff frequency 0.5, setting values to 0 and Nyquist.\n",
            "  raw = mne.io.read_raw_gdf(gdf_file, preload=True)\n"
          ]
        },
        {
          "name": "stdout",
          "output_type": "stream",
          "text": [
            "Filtering raw data in 1 contiguous segment\n",
            "Setting up band-pass filter from 0.5 - 1e+02 Hz\n",
            "\n",
            "FIR filter parameters\n",
            "---------------------\n",
            "Designing a one-pass, zero-phase, non-causal bandpass filter:\n",
            "- Windowed time-domain design (firwin) method\n",
            "- Hamming window with 0.0194 passband ripple and 53 dB stopband attenuation\n",
            "- Lower passband edge: 0.50\n",
            "- Lower transition bandwidth: 0.50 Hz (-6 dB cutoff frequency: 0.25 Hz)\n",
            "- Upper passband edge: 100.00 Hz\n",
            "- Upper transition bandwidth: 25.00 Hz (-6 dB cutoff frequency: 112.50 Hz)\n",
            "- Filter length: 1651 samples (6.604 s)\n",
            "\n",
            "NOTE: pick_channels() is a legacy function. New code should use inst.pick(...).\n",
            "Used Annotations descriptions: [np.str_('1023'), np.str_('1077'), np.str_('1078'), np.str_('1079'), np.str_('1081'), np.str_('276'), np.str_('277'), np.str_('32766'), np.str_('768'), np.str_('769'), np.str_('770'), np.str_('781')]\n",
            "Extracting EDF parameters from /home/giuseppe_bonomo/DATASET/BCI2b_IV/dataset/B0704E.gdf...\n",
            "GDF file detected\n",
            "Setting channel info structure...\n",
            "Could not determine channel type of the following channels, they will be set as EEG:\n",
            "EEG:C3, EEG:Cz, EEG:C4, EOG:ch01, EOG:ch02, EOG:ch03\n",
            "Creating raw.info structure...\n",
            "Reading 0 ... 470343  =      0.000 ...  1881.372 secs...\n"
          ]
        },
        {
          "name": "stderr",
          "output_type": "stream",
          "text": [
            "/home/giuseppe_bonomo/DATASET/BCI2b_IV/preprocess.py:203: RuntimeWarning: Highpass cutoff frequency 100.0 is greater than lowpass cutoff frequency 0.5, setting values to 0 and Nyquist.\n",
            "  raw = mne.io.read_raw_gdf(gdf_file, preload=True)\n"
          ]
        },
        {
          "name": "stdout",
          "output_type": "stream",
          "text": [
            "Filtering raw data in 1 contiguous segment\n",
            "Setting up band-pass filter from 0.5 - 1e+02 Hz\n",
            "\n",
            "FIR filter parameters\n",
            "---------------------\n",
            "Designing a one-pass, zero-phase, non-causal bandpass filter:\n",
            "- Windowed time-domain design (firwin) method\n",
            "- Hamming window with 0.0194 passband ripple and 53 dB stopband attenuation\n",
            "- Lower passband edge: 0.50\n",
            "- Lower transition bandwidth: 0.50 Hz (-6 dB cutoff frequency: 0.25 Hz)\n",
            "- Upper passband edge: 100.00 Hz\n",
            "- Upper transition bandwidth: 25.00 Hz (-6 dB cutoff frequency: 112.50 Hz)\n",
            "- Filter length: 1651 samples (6.604 s)\n",
            "\n",
            "NOTE: pick_channels() is a legacy function. New code should use inst.pick(...).\n",
            "Used Annotations descriptions: [np.str_('1023'), np.str_('1077'), np.str_('1078'), np.str_('1079'), np.str_('1081'), np.str_('276'), np.str_('277'), np.str_('32766'), np.str_('768'), np.str_('781'), np.str_('783')]\n",
            "Extracting EDF parameters from /home/giuseppe_bonomo/DATASET/BCI2b_IV/dataset/B0705E.gdf...\n",
            "GDF file detected\n",
            "Setting channel info structure...\n",
            "Could not determine channel type of the following channels, they will be set as EEG:\n",
            "EEG:C3, EEG:Cz, EEG:C4, EOG:ch01, EOG:ch02, EOG:ch03\n",
            "Creating raw.info structure...\n",
            "Reading 0 ... 460894  =      0.000 ...  1843.576 secs...\n"
          ]
        },
        {
          "name": "stderr",
          "output_type": "stream",
          "text": [
            "/home/giuseppe_bonomo/DATASET/BCI2b_IV/preprocess.py:203: RuntimeWarning: Highpass cutoff frequency 100.0 is greater than lowpass cutoff frequency 0.5, setting values to 0 and Nyquist.\n",
            "  raw = mne.io.read_raw_gdf(gdf_file, preload=True)\n"
          ]
        },
        {
          "name": "stdout",
          "output_type": "stream",
          "text": [
            "Filtering raw data in 1 contiguous segment\n",
            "Setting up band-pass filter from 0.5 - 1e+02 Hz\n",
            "\n",
            "FIR filter parameters\n",
            "---------------------\n",
            "Designing a one-pass, zero-phase, non-causal bandpass filter:\n",
            "- Windowed time-domain design (firwin) method\n",
            "- Hamming window with 0.0194 passband ripple and 53 dB stopband attenuation\n",
            "- Lower passband edge: 0.50\n",
            "- Lower transition bandwidth: 0.50 Hz (-6 dB cutoff frequency: 0.25 Hz)\n",
            "- Upper passband edge: 100.00 Hz\n",
            "- Upper transition bandwidth: 25.00 Hz (-6 dB cutoff frequency: 112.50 Hz)\n",
            "- Filter length: 1651 samples (6.604 s)\n",
            "\n",
            "NOTE: pick_channels() is a legacy function. New code should use inst.pick(...).\n",
            "Used Annotations descriptions: [np.str_('1023'), np.str_('1077'), np.str_('1078'), np.str_('1079'), np.str_('1081'), np.str_('276'), np.str_('277'), np.str_('32766'), np.str_('768'), np.str_('781'), np.str_('783')]\n",
            "\n",
            "\n",
            "Before preprocessing X_train shape is:(37, 1, 3, 750)\n",
            "Before preprocessing X_val shape is:(10, 1, 3, 750)\n",
            "Lunghezza originale del segnale: (37, 1, 3, 750)\n",
            "Livello 1: coeffs_approx shape (37, 1, 3, 750), lo_d shape (12,), hi_d shape (12,)\n",
            "Livello 2: coeffs_approx shape (37, 1, 3, 750), lo_d shape (13,), hi_d shape (13,)\n",
            "Livello 3: coeffs_approx shape (37, 1, 3, 750), lo_d shape (14,), hi_d shape (14,)\n",
            "Livello 4: coeffs_approx shape (37, 1, 3, 750), lo_d shape (14,), hi_d shape (14,)\n",
            "Lunghezza del segnale ricostruito: (37, 1, 3, 750)\n",
            "Lunghezza originale del segnale: (10, 1, 3, 750)\n",
            "Livello 1: coeffs_approx shape (10, 1, 3, 750), lo_d shape (12,), hi_d shape (12,)\n",
            "Livello 2: coeffs_approx shape (10, 1, 3, 750), lo_d shape (13,), hi_d shape (13,)\n",
            "Livello 3: coeffs_approx shape (10, 1, 3, 750), lo_d shape (14,), hi_d shape (14,)\n",
            "Livello 4: coeffs_approx shape (10, 1, 3, 750), lo_d shape (14,), hi_d shape (14,)\n",
            "Lunghezza del segnale ricostruito: (10, 1, 3, 750)\n",
            "\n",
            "\n",
            "After preprocessing X_train shape is:(37, 1, 3, 750)\n",
            "After preprocessing X_val shape is:(10, 1, 3, 750)\n"
          ]
        },
        {
          "name": "stderr",
          "output_type": "stream",
          "text": [
            "2025-04-08 14:08:55.995471: I external/local_xla/xla/stream_executor/cuda/subprocess_compilation.cc:346] ptxas warning : Registers are spilled to local memory in function 'gemm_fusion_dot_94', 8 bytes spill stores, 8 bytes spill loads\n",
            "\n",
            "2025-04-08 14:09:18.591632: I external/local_xla/xla/stream_executor/cuda/subprocess_compilation.cc:346] ptxas warning : Registers are spilled to local memory in function 'input_reduce_transpose_fusion_23', 8 bytes spill stores, 8 bytes spill loads\n",
            "ptxas warning : Registers are spilled to local memory in function 'input_reduce_transpose_fusion_22', 8 bytes spill stores, 8 bytes spill loads\n",
            "ptxas warning : Registers are spilled to local memory in function 'input_reduce_transpose_fusion_21', 8 bytes spill stores, 8 bytes spill loads\n",
            "\n"
          ]
        },
        {
          "name": "stdout",
          "output_type": "stream",
          "text": [
            "\u001b[1m1/1\u001b[0m \u001b[32m━━━━━━━━━━━━━━━━━━━━\u001b[0m\u001b[37m\u001b[0m \u001b[1m3s\u001b[0m 3s/step\n",
            "Subject: 7   seed 1   time: 9.4 m   valid_acc: 0.9000   valid_loss: 0.142\n",
            "Plot Learning Curves ....... \n"
          ]
        },
        {
          "data": {
            "image/png": "[encoded data removed]",
            "text/plain": [
              "<Figure size 640x480 with 1 Axes>"
            ]
          },
          "metadata": {},
          "output_type": "display_data"
        },
        {
          "data": {
            "image/png": "[encoded data removed]",
            "text/plain": [
              "<Figure size 640x480 with 1 Axes>"
            ]
          },
          "metadata": {},
          "output_type": "display_data"
        },
        {
          "name": "stdout",
          "output_type": "stream",
          "text": [
            "\n",
            "Training on subject  8\n",
            "Extracting EDF parameters from /home/giuseppe_bonomo/DATASET/BCI2b_IV/dataset/B0801T.gdf...\n",
            "GDF file detected\n",
            "Setting channel info structure...\n",
            "Could not determine channel type of the following channels, they will be set as EEG:\n",
            "EEG:C3, EEG:Cz, EEG:C4, EOG:ch01, EOG:ch02, EOG:ch03\n",
            "Creating raw.info structure...\n",
            "Reading 0 ... 787728  =      0.000 ...  3150.912 secs...\n"
          ]
        },
        {
          "name": "stderr",
          "output_type": "stream",
          "text": [
            "/home/giuseppe_bonomo/DATASET/BCI2b_IV/preprocess.py:203: RuntimeWarning: Highpass cutoff frequency 100.0 is greater than lowpass cutoff frequency 0.5, setting values to 0 and Nyquist.\n",
            "  raw = mne.io.read_raw_gdf(gdf_file, preload=True)\n"
          ]
        },
        {
          "name": "stdout",
          "output_type": "stream",
          "text": [
            "Filtering raw data in 1 contiguous segment\n",
            "Setting up band-pass filter from 0.5 - 1e+02 Hz\n",
            "\n",
            "FIR filter parameters\n",
            "---------------------\n",
            "Designing a one-pass, zero-phase, non-causal bandpass filter:\n",
            "- Windowed time-domain design (firwin) method\n",
            "- Hamming window with 0.0194 passband ripple and 53 dB stopband attenuation\n",
            "- Lower passband edge: 0.50\n",
            "- Lower transition bandwidth: 0.50 Hz (-6 dB cutoff frequency: 0.25 Hz)\n",
            "- Upper passband edge: 100.00 Hz\n",
            "- Upper transition bandwidth: 25.00 Hz (-6 dB cutoff frequency: 112.50 Hz)\n",
            "- Filter length: 1651 samples (6.604 s)\n",
            "\n",
            "NOTE: pick_channels() is a legacy function. New code should use inst.pick(...).\n",
            "Used Annotations descriptions: [np.str_('1023'), np.str_('1077'), np.str_('1078'), np.str_('1079'), np.str_('1081'), np.str_('276'), np.str_('277'), np.str_('32766'), np.str_('768'), np.str_('769'), np.str_('770')]\n",
            "Extracting EDF parameters from /home/giuseppe_bonomo/DATASET/BCI2b_IV/dataset/B0802T.gdf...\n",
            "GDF file detected\n",
            "Setting channel info structure...\n",
            "Could not determine channel type of the following channels, they will be set as EEG:\n",
            "EEG:C3, EEG:Cz, EEG:C4, EOG:ch01, EOG:ch02, EOG:ch03\n",
            "Creating raw.info structure...\n",
            "Reading 0 ... 604802  =      0.000 ...  2419.208 secs...\n"
          ]
        },
        {
          "name": "stderr",
          "output_type": "stream",
          "text": [
            "/home/giuseppe_bonomo/DATASET/BCI2b_IV/preprocess.py:203: RuntimeWarning: Highpass cutoff frequency 100.0 is greater than lowpass cutoff frequency 0.5, setting values to 0 and Nyquist.\n",
            "  raw = mne.io.read_raw_gdf(gdf_file, preload=True)\n"
          ]
        },
        {
          "name": "stdout",
          "output_type": "stream",
          "text": [
            "Filtering raw data in 1 contiguous segment\n",
            "Setting up band-pass filter from 0.5 - 1e+02 Hz\n",
            "\n",
            "FIR filter parameters\n",
            "---------------------\n",
            "Designing a one-pass, zero-phase, non-causal bandpass filter:\n",
            "- Windowed time-domain design (firwin) method\n",
            "- Hamming window with 0.0194 passband ripple and 53 dB stopband attenuation\n",
            "- Lower passband edge: 0.50\n",
            "- Lower transition bandwidth: 0.50 Hz (-6 dB cutoff frequency: 0.25 Hz)\n",
            "- Upper passband edge: 100.00 Hz\n",
            "- Upper transition bandwidth: 25.00 Hz (-6 dB cutoff frequency: 112.50 Hz)\n",
            "- Filter length: 1651 samples (6.604 s)\n",
            "\n",
            "NOTE: pick_channels() is a legacy function. New code should use inst.pick(...).\n",
            "Used Annotations descriptions: [np.str_('1023'), np.str_('1077'), np.str_('1078'), np.str_('1079'), np.str_('1081'), np.str_('276'), np.str_('277'), np.str_('32766'), np.str_('768'), np.str_('769'), np.str_('770')]\n",
            "Extracting EDF parameters from /home/giuseppe_bonomo/DATASET/BCI2b_IV/dataset/B0803T.gdf...\n",
            "GDF file detected\n",
            "Setting channel info structure...\n",
            "Could not determine channel type of the following channels, they will be set as EEG:\n",
            "EEG:C3, EEG:Cz, EEG:C4, EOG:ch01, EOG:ch02, EOG:ch03\n",
            "Creating raw.info structure...\n",
            "Reading 0 ... 474834  =      0.000 ...  1899.336 secs...\n"
          ]
        },
        {
          "name": "stderr",
          "output_type": "stream",
          "text": [
            "/home/giuseppe_bonomo/DATASET/BCI2b_IV/preprocess.py:203: RuntimeWarning: Highpass cutoff frequency 100.0 is greater than lowpass cutoff frequency 0.5, setting values to 0 and Nyquist.\n",
            "  raw = mne.io.read_raw_gdf(gdf_file, preload=True)\n"
          ]
        },
        {
          "name": "stdout",
          "output_type": "stream",
          "text": [
            "Filtering raw data in 1 contiguous segment\n",
            "Setting up band-pass filter from 0.5 - 1e+02 Hz\n",
            "\n",
            "FIR filter parameters\n",
            "---------------------\n",
            "Designing a one-pass, zero-phase, non-causal bandpass filter:\n",
            "- Windowed time-domain design (firwin) method\n",
            "- Hamming window with 0.0194 passband ripple and 53 dB stopband attenuation\n",
            "- Lower passband edge: 0.50\n",
            "- Lower transition bandwidth: 0.50 Hz (-6 dB cutoff frequency: 0.25 Hz)\n",
            "- Upper passband edge: 100.00 Hz\n",
            "- Upper transition bandwidth: 25.00 Hz (-6 dB cutoff frequency: 112.50 Hz)\n",
            "- Filter length: 1651 samples (6.604 s)\n",
            "\n",
            "NOTE: pick_channels() is a legacy function. New code should use inst.pick(...).\n",
            "Used Annotations descriptions: [np.str_('1023'), np.str_('1077'), np.str_('1078'), np.str_('1079'), np.str_('1081'), np.str_('276'), np.str_('277'), np.str_('32766'), np.str_('768'), np.str_('769'), np.str_('770'), np.str_('781')]\n",
            "Extracting EDF parameters from /home/giuseppe_bonomo/DATASET/BCI2b_IV/dataset/B0804E.gdf...\n",
            "GDF file detected\n",
            "Setting channel info structure...\n",
            "Could not determine channel type of the following channels, they will be set as EEG:\n",
            "EEG:C3, EEG:Cz, EEG:C4, EOG:ch01, EOG:ch02, EOG:ch03\n",
            "Creating raw.info structure...\n",
            "Reading 0 ... 474834  =      0.000 ...  1899.336 secs...\n"
          ]
        },
        {
          "name": "stderr",
          "output_type": "stream",
          "text": [
            "/home/giuseppe_bonomo/DATASET/BCI2b_IV/preprocess.py:203: RuntimeWarning: Highpass cutoff frequency 100.0 is greater than lowpass cutoff frequency 0.5, setting values to 0 and Nyquist.\n",
            "  raw = mne.io.read_raw_gdf(gdf_file, preload=True)\n"
          ]
        },
        {
          "name": "stdout",
          "output_type": "stream",
          "text": [
            "Filtering raw data in 1 contiguous segment\n",
            "Setting up band-pass filter from 0.5 - 1e+02 Hz\n",
            "\n",
            "FIR filter parameters\n",
            "---------------------\n",
            "Designing a one-pass, zero-phase, non-causal bandpass filter:\n",
            "- Windowed time-domain design (firwin) method\n",
            "- Hamming window with 0.0194 passband ripple and 53 dB stopband attenuation\n",
            "- Lower passband edge: 0.50\n",
            "- Lower transition bandwidth: 0.50 Hz (-6 dB cutoff frequency: 0.25 Hz)\n",
            "- Upper passband edge: 100.00 Hz\n",
            "- Upper transition bandwidth: 25.00 Hz (-6 dB cutoff frequency: 112.50 Hz)\n",
            "- Filter length: 1651 samples (6.604 s)\n",
            "\n",
            "NOTE: pick_channels() is a legacy function. New code should use inst.pick(...).\n",
            "Used Annotations descriptions: [np.str_('1023'), np.str_('1077'), np.str_('1078'), np.str_('1079'), np.str_('1081'), np.str_('276'), np.str_('277'), np.str_('32766'), np.str_('768'), np.str_('781'), np.str_('783')]\n",
            "Extracting EDF parameters from /home/giuseppe_bonomo/DATASET/BCI2b_IV/dataset/B0805E.gdf...\n",
            "GDF file detected\n",
            "Setting channel info structure...\n",
            "Could not determine channel type of the following channels, they will be set as EEG:\n",
            "EEG:C3, EEG:Cz, EEG:C4, EOG:ch01, EOG:ch02, EOG:ch03\n",
            "Creating raw.info structure...\n",
            "Reading 0 ... 464306  =      0.000 ...  1857.224 secs...\n"
          ]
        },
        {
          "name": "stderr",
          "output_type": "stream",
          "text": [
            "/home/giuseppe_bonomo/DATASET/BCI2b_IV/preprocess.py:203: RuntimeWarning: Highpass cutoff frequency 100.0 is greater than lowpass cutoff frequency 0.5, setting values to 0 and Nyquist.\n",
            "  raw = mne.io.read_raw_gdf(gdf_file, preload=True)\n"
          ]
        },
        {
          "name": "stdout",
          "output_type": "stream",
          "text": [
            "Filtering raw data in 1 contiguous segment\n",
            "Setting up band-pass filter from 0.5 - 1e+02 Hz\n",
            "\n",
            "FIR filter parameters\n",
            "---------------------\n",
            "Designing a one-pass, zero-phase, non-causal bandpass filter:\n",
            "- Windowed time-domain design (firwin) method\n",
            "- Hamming window with 0.0194 passband ripple and 53 dB stopband attenuation\n",
            "- Lower passband edge: 0.50\n",
            "- Lower transition bandwidth: 0.50 Hz (-6 dB cutoff frequency: 0.25 Hz)\n",
            "- Upper passband edge: 100.00 Hz\n",
            "- Upper transition bandwidth: 25.00 Hz (-6 dB cutoff frequency: 112.50 Hz)\n",
            "- Filter length: 1651 samples (6.604 s)\n",
            "\n",
            "NOTE: pick_channels() is a legacy function. New code should use inst.pick(...).\n",
            "Used Annotations descriptions: [np.str_('1023'), np.str_('1077'), np.str_('1078'), np.str_('1079'), np.str_('1081'), np.str_('276'), np.str_('277'), np.str_('32766'), np.str_('768'), np.str_('781'), np.str_('783')]\n",
            "\n",
            "\n",
            "Before preprocessing X_train shape is:(92, 1, 3, 750)\n",
            "Before preprocessing X_val shape is:(23, 1, 3, 750)\n",
            "Lunghezza originale del segnale: (92, 1, 3, 750)\n",
            "Livello 1: coeffs_approx shape (92, 1, 3, 750), lo_d shape (12,), hi_d shape (12,)\n",
            "Livello 2: coeffs_approx shape (92, 1, 3, 750), lo_d shape (13,), hi_d shape (13,)\n",
            "Livello 3: coeffs_approx shape (92, 1, 3, 750), lo_d shape (14,), hi_d shape (14,)\n",
            "Livello 4: coeffs_approx shape (92, 1, 3, 750), lo_d shape (14,), hi_d shape (14,)\n",
            "Lunghezza del segnale ricostruito: (92, 1, 3, 750)\n",
            "Lunghezza originale del segnale: (23, 1, 3, 750)\n",
            "Livello 1: coeffs_approx shape (23, 1, 3, 750), lo_d shape (12,), hi_d shape (12,)\n",
            "Livello 2: coeffs_approx shape (23, 1, 3, 750), lo_d shape (13,), hi_d shape (13,)\n",
            "Livello 3: coeffs_approx shape (23, 1, 3, 750), lo_d shape (14,), hi_d shape (14,)\n",
            "Livello 4: coeffs_approx shape (23, 1, 3, 750), lo_d shape (14,), hi_d shape (14,)\n",
            "Lunghezza del segnale ricostruito: (23, 1, 3, 750)\n",
            "\n",
            "\n",
            "After preprocessing X_train shape is:(92, 1, 3, 750)\n",
            "After preprocessing X_val shape is:(23, 1, 3, 750)\n"
          ]
        },
        {
          "name": "stderr",
          "output_type": "stream",
          "text": [
            "2025-04-08 14:18:39.058189: I external/local_xla/xla/stream_executor/cuda/subprocess_compilation.cc:346] ptxas warning : Registers are spilled to local memory in function 'input_reduce_transpose_fusion_23', 8 bytes spill stores, 8 bytes spill loads\n",
            "ptxas warning : Registers are spilled to local memory in function 'input_reduce_transpose_fusion_22', 8 bytes spill stores, 8 bytes spill loads\n",
            "ptxas warning : Registers are spilled to local memory in function 'input_reduce_transpose_fusion_21', 8 bytes spill stores, 8 bytes spill loads\n",
            "\n",
            "2025-04-08 14:18:49.950968: I external/local_xla/xla/stream_executor/cuda/subprocess_compilation.cc:346] ptxas warning : Registers are spilled to local memory in function 'gemm_fusion_dot_94', 8 bytes spill stores, 8 bytes spill loads\n",
            "\n",
            "2025-04-08 14:19:12.858907: I external/local_xla/xla/stream_executor/cuda/subprocess_compilation.cc:346] ptxas warning : Registers are spilled to local memory in function 'input_reduce_transpose_fusion_23', 8 bytes spill stores, 8 bytes spill loads\n",
            "ptxas warning : Registers are spilled to local memory in function 'input_reduce_transpose_fusion_22', 8 bytes spill stores, 8 bytes spill loads\n",
            "ptxas warning : Registers are spilled to local memory in function 'input_reduce_transpose_fusion_21', 8 bytes spill stores, 8 bytes spill loads\n",
            "\n",
            "2025-04-08 14:19:16.402773: I external/local_xla/xla/stream_executor/cuda/subprocess_compilation.cc:346] ptxas warning : Registers are spilled to local memory in function 'gemm_fusion_dot_26', 8 bytes spill stores, 8 bytes spill loads\n",
            "\n"
          ]
        },
        {
          "name": "stdout",
          "output_type": "stream",
          "text": [
            "\u001b[1m1/1\u001b[0m \u001b[32m━━━━━━━━━━━━━━━━━━━━\u001b[0m\u001b[37m\u001b[0m \u001b[1m3s\u001b[0m 3s/step\n",
            "Subject: 8   seed 1   time: 12.5 m   valid_acc: 1.0000   valid_loss: 0.007\n",
            "Plot Learning Curves ....... \n"
          ]
        },
        {
          "name": "stderr",
          "output_type": "stream",
          "text": [
            "/home/giuseppe_bonomo/miniconda3/envs/tensorflow/lib/python3.10/site-packages/sklearn/metrics/_classification.py:407: UserWarning: A single label was found in 'y_true' and 'y_pred'. For the confusion matrix to have the correct shape, use the 'labels' parameter to pass all known labels.\n",
            "  warnings.warn(\n",
            "/home/giuseppe_bonomo/miniconda3/envs/tensorflow/lib/python3.10/site-packages/sklearn/metrics/_classification.py:758: RuntimeWarning: invalid value encountered in scalar divide\n",
            "  k = np.sum(w_mat * confusion) / np.sum(w_mat * expected)\n"
          ]
        },
        {
          "data": {
            "image/png": "[encoded data removed]",
            "text/plain": [
              "<Figure size 640x480 with 1 Axes>"
            ]
          },
          "metadata": {},
          "output_type": "display_data"
        },
        {
          "data": {
            "image/png": "[encoded data removed]",
            "text/plain": [
              "<Figure size 640x480 with 1 Axes>"
            ]
          },
          "metadata": {},
          "output_type": "display_data"
        },
        {
          "name": "stdout",
          "output_type": "stream",
          "text": [
            "\n",
            "Training on subject  9\n",
            "Extracting EDF parameters from /home/giuseppe_bonomo/DATASET/BCI2b_IV/dataset/B0901T.gdf...\n",
            "GDF file detected\n",
            "Setting channel info structure...\n",
            "Could not determine channel type of the following channels, they will be set as EEG:\n",
            "EEG:C3, EEG:Cz, EEG:C4, EOG:ch01, EOG:ch02, EOG:ch03\n",
            "Creating raw.info structure...\n",
            "Reading 0 ... 604802  =      0.000 ...  2419.208 secs...\n"
          ]
        },
        {
          "name": "stderr",
          "output_type": "stream",
          "text": [
            "/home/giuseppe_bonomo/DATASET/BCI2b_IV/preprocess.py:203: RuntimeWarning: Highpass cutoff frequency 100.0 is greater than lowpass cutoff frequency 0.5, setting values to 0 and Nyquist.\n",
            "  raw = mne.io.read_raw_gdf(gdf_file, preload=True)\n"
          ]
        },
        {
          "name": "stdout",
          "output_type": "stream",
          "text": [
            "Filtering raw data in 1 contiguous segment\n",
            "Setting up band-pass filter from 0.5 - 1e+02 Hz\n",
            "\n",
            "FIR filter parameters\n",
            "---------------------\n",
            "Designing a one-pass, zero-phase, non-causal bandpass filter:\n",
            "- Windowed time-domain design (firwin) method\n",
            "- Hamming window with 0.0194 passband ripple and 53 dB stopband attenuation\n",
            "- Lower passband edge: 0.50\n",
            "- Lower transition bandwidth: 0.50 Hz (-6 dB cutoff frequency: 0.25 Hz)\n",
            "- Upper passband edge: 100.00 Hz\n",
            "- Upper transition bandwidth: 25.00 Hz (-6 dB cutoff frequency: 112.50 Hz)\n",
            "- Filter length: 1651 samples (6.604 s)\n",
            "\n",
            "NOTE: pick_channels() is a legacy function. New code should use inst.pick(...).\n",
            "Used Annotations descriptions: [np.str_('1023'), np.str_('1077'), np.str_('1078'), np.str_('1079'), np.str_('1081'), np.str_('276'), np.str_('277'), np.str_('32766'), np.str_('768'), np.str_('769'), np.str_('770')]\n",
            "Extracting EDF parameters from /home/giuseppe_bonomo/DATASET/BCI2b_IV/dataset/B0902T.gdf...\n",
            "GDF file detected\n",
            "Setting channel info structure...\n",
            "Could not determine channel type of the following channels, they will be set as EEG:\n",
            "EEG:C3, EEG:Cz, EEG:C4, EOG:ch01, EOG:ch02, EOG:ch03\n",
            "Creating raw.info structure...\n",
            "Reading 0 ... 604802  =      0.000 ...  2419.208 secs...\n"
          ]
        },
        {
          "name": "stderr",
          "output_type": "stream",
          "text": [
            "/home/giuseppe_bonomo/DATASET/BCI2b_IV/preprocess.py:203: RuntimeWarning: Highpass cutoff frequency 100.0 is greater than lowpass cutoff frequency 0.5, setting values to 0 and Nyquist.\n",
            "  raw = mne.io.read_raw_gdf(gdf_file, preload=True)\n"
          ]
        },
        {
          "name": "stdout",
          "output_type": "stream",
          "text": [
            "Filtering raw data in 1 contiguous segment\n",
            "Setting up band-pass filter from 0.5 - 1e+02 Hz\n",
            "\n",
            "FIR filter parameters\n",
            "---------------------\n",
            "Designing a one-pass, zero-phase, non-causal bandpass filter:\n",
            "- Windowed time-domain design (firwin) method\n",
            "- Hamming window with 0.0194 passband ripple and 53 dB stopband attenuation\n",
            "- Lower passband edge: 0.50\n",
            "- Lower transition bandwidth: 0.50 Hz (-6 dB cutoff frequency: 0.25 Hz)\n",
            "- Upper passband edge: 100.00 Hz\n",
            "- Upper transition bandwidth: 25.00 Hz (-6 dB cutoff frequency: 112.50 Hz)\n",
            "- Filter length: 1651 samples (6.604 s)\n",
            "\n",
            "NOTE: pick_channels() is a legacy function. New code should use inst.pick(...).\n",
            "Used Annotations descriptions: [np.str_('1023'), np.str_('1077'), np.str_('1078'), np.str_('1079'), np.str_('1081'), np.str_('276'), np.str_('277'), np.str_('32766'), np.str_('768'), np.str_('769'), np.str_('770')]\n",
            "Extracting EDF parameters from /home/giuseppe_bonomo/DATASET/BCI2b_IV/dataset/B0903T.gdf...\n",
            "GDF file detected\n",
            "Setting channel info structure...\n",
            "Could not determine channel type of the following channels, they will be set as EEG:\n",
            "EEG:C3, EEG:Cz, EEG:C4, EOG:ch01, EOG:ch02, EOG:ch03\n",
            "Creating raw.info structure...\n",
            "Reading 0 ... 460730  =      0.000 ...  1842.920 secs...\n"
          ]
        },
        {
          "name": "stderr",
          "output_type": "stream",
          "text": [
            "/home/giuseppe_bonomo/DATASET/BCI2b_IV/preprocess.py:203: RuntimeWarning: Highpass cutoff frequency 100.0 is greater than lowpass cutoff frequency 0.5, setting values to 0 and Nyquist.\n",
            "  raw = mne.io.read_raw_gdf(gdf_file, preload=True)\n"
          ]
        },
        {
          "name": "stdout",
          "output_type": "stream",
          "text": [
            "Filtering raw data in 1 contiguous segment\n",
            "Setting up band-pass filter from 0.5 - 1e+02 Hz\n",
            "\n",
            "FIR filter parameters\n",
            "---------------------\n",
            "Designing a one-pass, zero-phase, non-causal bandpass filter:\n",
            "- Windowed time-domain design (firwin) method\n",
            "- Hamming window with 0.0194 passband ripple and 53 dB stopband attenuation\n",
            "- Lower passband edge: 0.50\n",
            "- Lower transition bandwidth: 0.50 Hz (-6 dB cutoff frequency: 0.25 Hz)\n",
            "- Upper passband edge: 100.00 Hz\n",
            "- Upper transition bandwidth: 25.00 Hz (-6 dB cutoff frequency: 112.50 Hz)\n",
            "- Filter length: 1651 samples (6.604 s)\n",
            "\n",
            "NOTE: pick_channels() is a legacy function. New code should use inst.pick(...).\n",
            "Used Annotations descriptions: [np.str_('1023'), np.str_('1077'), np.str_('1078'), np.str_('1079'), np.str_('1081'), np.str_('276'), np.str_('277'), np.str_('32766'), np.str_('768'), np.str_('769'), np.str_('770'), np.str_('781')]\n",
            "Extracting EDF parameters from /home/giuseppe_bonomo/DATASET/BCI2b_IV/dataset/B0904E.gdf...\n",
            "GDF file detected\n",
            "Setting channel info structure...\n",
            "Could not determine channel type of the following channels, they will be set as EEG:\n",
            "EEG:C3, EEG:Cz, EEG:C4, EOG:ch01, EOG:ch02, EOG:ch03\n",
            "Creating raw.info structure...\n",
            "Reading 0 ... 466802  =      0.000 ...  1867.208 secs...\n"
          ]
        },
        {
          "name": "stderr",
          "output_type": "stream",
          "text": [
            "/home/giuseppe_bonomo/DATASET/BCI2b_IV/preprocess.py:203: RuntimeWarning: Highpass cutoff frequency 100.0 is greater than lowpass cutoff frequency 0.5, setting values to 0 and Nyquist.\n",
            "  raw = mne.io.read_raw_gdf(gdf_file, preload=True)\n"
          ]
        },
        {
          "name": "stdout",
          "output_type": "stream",
          "text": [
            "Filtering raw data in 1 contiguous segment\n",
            "Setting up band-pass filter from 0.5 - 1e+02 Hz\n",
            "\n",
            "FIR filter parameters\n",
            "---------------------\n",
            "Designing a one-pass, zero-phase, non-causal bandpass filter:\n",
            "- Windowed time-domain design (firwin) method\n",
            "- Hamming window with 0.0194 passband ripple and 53 dB stopband attenuation\n",
            "- Lower passband edge: 0.50\n",
            "- Lower transition bandwidth: 0.50 Hz (-6 dB cutoff frequency: 0.25 Hz)\n",
            "- Upper passband edge: 100.00 Hz\n",
            "- Upper transition bandwidth: 25.00 Hz (-6 dB cutoff frequency: 112.50 Hz)\n",
            "- Filter length: 1651 samples (6.604 s)\n",
            "\n",
            "NOTE: pick_channels() is a legacy function. New code should use inst.pick(...).\n",
            "Used Annotations descriptions: [np.str_('1023'), np.str_('1077'), np.str_('1078'), np.str_('1079'), np.str_('1081'), np.str_('276'), np.str_('277'), np.str_('32766'), np.str_('768'), np.str_('781'), np.str_('783')]\n",
            "Extracting EDF parameters from /home/giuseppe_bonomo/DATASET/BCI2b_IV/dataset/B0905E.gdf...\n",
            "GDF file detected\n",
            "Setting channel info structure...\n",
            "Could not determine channel type of the following channels, they will be set as EEG:\n",
            "EEG:C3, EEG:Cz, EEG:C4, EOG:ch01, EOG:ch02, EOG:ch03\n",
            "Creating raw.info structure...\n",
            "Reading 0 ... 458570  =      0.000 ...  1834.280 secs...\n"
          ]
        },
        {
          "name": "stderr",
          "output_type": "stream",
          "text": [
            "/home/giuseppe_bonomo/DATASET/BCI2b_IV/preprocess.py:203: RuntimeWarning: Highpass cutoff frequency 100.0 is greater than lowpass cutoff frequency 0.5, setting values to 0 and Nyquist.\n",
            "  raw = mne.io.read_raw_gdf(gdf_file, preload=True)\n"
          ]
        },
        {
          "name": "stdout",
          "output_type": "stream",
          "text": [
            "Filtering raw data in 1 contiguous segment\n",
            "Setting up band-pass filter from 0.5 - 1e+02 Hz\n",
            "\n",
            "FIR filter parameters\n",
            "---------------------\n",
            "Designing a one-pass, zero-phase, non-causal bandpass filter:\n",
            "- Windowed time-domain design (firwin) method\n",
            "- Hamming window with 0.0194 passband ripple and 53 dB stopband attenuation\n",
            "- Lower passband edge: 0.50\n",
            "- Lower transition bandwidth: 0.50 Hz (-6 dB cutoff frequency: 0.25 Hz)\n",
            "- Upper passband edge: 100.00 Hz\n",
            "- Upper transition bandwidth: 25.00 Hz (-6 dB cutoff frequency: 112.50 Hz)\n",
            "- Filter length: 1651 samples (6.604 s)\n",
            "\n",
            "NOTE: pick_channels() is a legacy function. New code should use inst.pick(...).\n",
            "Used Annotations descriptions: [np.str_('1023'), np.str_('1077'), np.str_('1078'), np.str_('1079'), np.str_('1081'), np.str_('276'), np.str_('277'), np.str_('32766'), np.str_('768'), np.str_('781'), np.str_('783')]\n",
            "\n",
            "\n",
            "Before preprocessing X_train shape is:(68, 1, 3, 750)\n",
            "Before preprocessing X_val shape is:(18, 1, 3, 750)\n",
            "Lunghezza originale del segnale: (68, 1, 3, 750)\n",
            "Livello 1: coeffs_approx shape (68, 1, 3, 750), lo_d shape (12,), hi_d shape (12,)\n",
            "Livello 2: coeffs_approx shape (68, 1, 3, 750), lo_d shape (13,), hi_d shape (13,)\n",
            "Livello 3: coeffs_approx shape (68, 1, 3, 750), lo_d shape (14,), hi_d shape (14,)\n",
            "Livello 4: coeffs_approx shape (68, 1, 3, 750), lo_d shape (14,), hi_d shape (14,)\n",
            "Lunghezza del segnale ricostruito: (68, 1, 3, 750)\n",
            "Lunghezza originale del segnale: (18, 1, 3, 750)\n",
            "Livello 1: coeffs_approx shape (18, 1, 3, 750), lo_d shape (12,), hi_d shape (12,)\n",
            "Livello 2: coeffs_approx shape (18, 1, 3, 750), lo_d shape (13,), hi_d shape (13,)\n",
            "Livello 3: coeffs_approx shape (18, 1, 3, 750), lo_d shape (14,), hi_d shape (14,)\n",
            "Livello 4: coeffs_approx shape (18, 1, 3, 750), lo_d shape (14,), hi_d shape (14,)\n",
            "Lunghezza del segnale ricostruito: (18, 1, 3, 750)\n",
            "\n",
            "\n",
            "After preprocessing X_train shape is:(68, 1, 3, 750)\n",
            "After preprocessing X_val shape is:(18, 1, 3, 750)\n"
          ]
        },
        {
          "name": "stderr",
          "output_type": "stream",
          "text": [
            "2025-04-08 14:31:10.486368: I external/local_xla/xla/stream_executor/cuda/subprocess_compilation.cc:346] ptxas warning : Registers are spilled to local memory in function 'input_reduce_transpose_fusion_23', 8 bytes spill stores, 8 bytes spill loads\n",
            "ptxas warning : Registers are spilled to local memory in function 'input_reduce_transpose_fusion_22', 8 bytes spill stores, 8 bytes spill loads\n",
            "ptxas warning : Registers are spilled to local memory in function 'input_reduce_transpose_fusion_21', 8 bytes spill stores, 8 bytes spill loads\n",
            "\n",
            "2025-04-08 14:31:45.848425: I external/local_xla/xla/stream_executor/cuda/subprocess_compilation.cc:346] ptxas warning : Registers are spilled to local memory in function 'gemm_fusion_dot_26', 8 bytes spill stores, 8 bytes spill loads\n",
            "\n"
          ]
        },
        {
          "name": "stdout",
          "output_type": "stream",
          "text": [
            "\u001b[1m1/1\u001b[0m \u001b[32m━━━━━━━━━━━━━━━━━━━━\u001b[0m\u001b[37m\u001b[0m \u001b[1m3s\u001b[0m 3s/step\n",
            "Subject: 9   seed 1   time: 11.4 m   valid_acc: 1.0000   valid_loss: 0.021\n",
            "Plot Learning Curves ....... \n"
          ]
        },
        {
          "name": "stderr",
          "output_type": "stream",
          "text": [
            "/home/giuseppe_bonomo/miniconda3/envs/tensorflow/lib/python3.10/site-packages/sklearn/metrics/_classification.py:407: UserWarning: A single label was found in 'y_true' and 'y_pred'. For the confusion matrix to have the correct shape, use the 'labels' parameter to pass all known labels.\n",
            "  warnings.warn(\n",
            "/home/giuseppe_bonomo/miniconda3/envs/tensorflow/lib/python3.10/site-packages/sklearn/metrics/_classification.py:758: RuntimeWarning: invalid value encountered in scalar divide\n",
            "  k = np.sum(w_mat * confusion) / np.sum(w_mat * expected)\n"
          ]
        },
        {
          "data": {
            "image/png": "[encoded data removed]",
            "text/plain": [
              "<Figure size 640x480 with 1 Axes>"
            ]
          },
          "metadata": {},
          "output_type": "display_data"
        },
        {
          "data": {
            "image/png": "[encoded data removed]",
            "text/plain": [
              "<Figure size 640x480 with 1 Axes>"
            ]
          },
          "metadata": {},
          "output_type": "display_data"
        },
        {
          "name": "stdout",
          "output_type": "stream",
          "text": [
            "\n",
            "---------------------------------\n",
            "Validation performance (acc %):\n",
            "---------------------------------\n",
            "         sub_1   sub_2   sub_3   sub_4   sub_5   sub_6   sub_7   sub_8   sub_9     average\n",
            "         -----   -----   -----   -----   -----   -----   -----   -----   -----     -------\n",
            "Seed 1:  100.00   100.00   100.00   100.00   100.00   95.45   90.00   100.00   100.00     98.38   \n",
            "---------------------------------\n",
            "Average acc - all seeds: 98.38 %\n",
            "\n",
            "Train Time  - all seeds: 96.2 min\n",
            "---------------------------------\n",
            "\n",
            "Training completed!\n",
            "Extracting EDF parameters from /home/giuseppe_bonomo/DATASET/BCI2b_IV/dataset/B0101T.gdf...\n",
            "GDF file detected\n",
            "Setting channel info structure...\n",
            "Could not determine channel type of the following channels, they will be set as EEG:\n",
            "EEG:C3, EEG:Cz, EEG:C4, EOG:ch01, EOG:ch02, EOG:ch03\n",
            "Creating raw.info structure...\n",
            "Reading 0 ... 604802  =      0.000 ...  2419.208 secs...\n"
          ]
        },
        {
          "name": "stderr",
          "output_type": "stream",
          "text": [
            "/home/giuseppe_bonomo/DATASET/BCI2b_IV/preprocess.py:203: RuntimeWarning: Highpass cutoff frequency 100.0 is greater than lowpass cutoff frequency 0.5, setting values to 0 and Nyquist.\n",
            "  raw = mne.io.read_raw_gdf(gdf_file, preload=True)\n"
          ]
        },
        {
          "name": "stdout",
          "output_type": "stream",
          "text": [
            "Filtering raw data in 1 contiguous segment\n",
            "Setting up band-pass filter from 0.5 - 1e+02 Hz\n",
            "\n",
            "FIR filter parameters\n",
            "---------------------\n",
            "Designing a one-pass, zero-phase, non-causal bandpass filter:\n",
            "- Windowed time-domain design (firwin) method\n",
            "- Hamming window with 0.0194 passband ripple and 53 dB stopband attenuation\n",
            "- Lower passband edge: 0.50\n",
            "- Lower transition bandwidth: 0.50 Hz (-6 dB cutoff frequency: 0.25 Hz)\n",
            "- Upper passband edge: 100.00 Hz\n",
            "- Upper transition bandwidth: 25.00 Hz (-6 dB cutoff frequency: 112.50 Hz)\n",
            "- Filter length: 1651 samples (6.604 s)\n",
            "\n",
            "NOTE: pick_channels() is a legacy function. New code should use inst.pick(...).\n",
            "Used Annotations descriptions: [np.str_('1023'), np.str_('1077'), np.str_('1078'), np.str_('1079'), np.str_('1081'), np.str_('276'), np.str_('277'), np.str_('32766'), np.str_('768'), np.str_('769'), np.str_('770')]\n",
            "Extracting EDF parameters from /home/giuseppe_bonomo/DATASET/BCI2b_IV/dataset/B0102T.gdf...\n",
            "GDF file detected\n",
            "Setting channel info structure...\n",
            "Could not determine channel type of the following channels, they will be set as EEG:\n",
            "EEG:C3, EEG:Cz, EEG:C4, EOG:ch01, EOG:ch02, EOG:ch03\n",
            "Creating raw.info structure...\n",
            "Reading 0 ... 552451  =      0.000 ...  2209.804 secs...\n"
          ]
        },
        {
          "name": "stderr",
          "output_type": "stream",
          "text": [
            "/home/giuseppe_bonomo/DATASET/BCI2b_IV/preprocess.py:203: RuntimeWarning: Highpass cutoff frequency 100.0 is greater than lowpass cutoff frequency 0.5, setting values to 0 and Nyquist.\n",
            "  raw = mne.io.read_raw_gdf(gdf_file, preload=True)\n"
          ]
        },
        {
          "name": "stdout",
          "output_type": "stream",
          "text": [
            "Filtering raw data in 1 contiguous segment\n",
            "Setting up band-pass filter from 0.5 - 1e+02 Hz\n",
            "\n",
            "FIR filter parameters\n",
            "---------------------\n",
            "Designing a one-pass, zero-phase, non-causal bandpass filter:\n",
            "- Windowed time-domain design (firwin) method\n",
            "- Hamming window with 0.0194 passband ripple and 53 dB stopband attenuation\n",
            "- Lower passband edge: 0.50\n",
            "- Lower transition bandwidth: 0.50 Hz (-6 dB cutoff frequency: 0.25 Hz)\n",
            "- Upper passband edge: 100.00 Hz\n",
            "- Upper transition bandwidth: 25.00 Hz (-6 dB cutoff frequency: 112.50 Hz)\n",
            "- Filter length: 1651 samples (6.604 s)\n",
            "\n",
            "NOTE: pick_channels() is a legacy function. New code should use inst.pick(...).\n",
            "Used Annotations descriptions: [np.str_('1023'), np.str_('32766'), np.str_('768'), np.str_('769'), np.str_('770')]\n",
            "Extracting EDF parameters from /home/giuseppe_bonomo/DATASET/BCI2b_IV/dataset/B0103T.gdf...\n",
            "GDF file detected\n",
            "Setting channel info structure...\n",
            "Could not determine channel type of the following channels, they will be set as EEG:\n",
            "EEG:C3, EEG:Cz, EEG:C4, EOG:ch01, EOG:ch02, EOG:ch03\n",
            "Creating raw.info structure...\n",
            "Reading 0 ... 469010  =      0.000 ...  1876.040 secs...\n"
          ]
        },
        {
          "name": "stderr",
          "output_type": "stream",
          "text": [
            "/home/giuseppe_bonomo/DATASET/BCI2b_IV/preprocess.py:203: RuntimeWarning: Highpass cutoff frequency 100.0 is greater than lowpass cutoff frequency 0.5, setting values to 0 and Nyquist.\n",
            "  raw = mne.io.read_raw_gdf(gdf_file, preload=True)\n"
          ]
        },
        {
          "name": "stdout",
          "output_type": "stream",
          "text": [
            "Filtering raw data in 1 contiguous segment\n",
            "Setting up band-pass filter from 0.5 - 1e+02 Hz\n",
            "\n",
            "FIR filter parameters\n",
            "---------------------\n",
            "Designing a one-pass, zero-phase, non-causal bandpass filter:\n",
            "- Windowed time-domain design (firwin) method\n",
            "- Hamming window with 0.0194 passband ripple and 53 dB stopband attenuation\n",
            "- Lower passband edge: 0.50\n",
            "- Lower transition bandwidth: 0.50 Hz (-6 dB cutoff frequency: 0.25 Hz)\n",
            "- Upper passband edge: 100.00 Hz\n",
            "- Upper transition bandwidth: 25.00 Hz (-6 dB cutoff frequency: 112.50 Hz)\n",
            "- Filter length: 1651 samples (6.604 s)\n",
            "\n",
            "NOTE: pick_channels() is a legacy function. New code should use inst.pick(...).\n",
            "Used Annotations descriptions: [np.str_('1023'), np.str_('1077'), np.str_('1078'), np.str_('1079'), np.str_('1081'), np.str_('276'), np.str_('277'), np.str_('32766'), np.str_('768'), np.str_('769'), np.str_('770'), np.str_('781')]\n",
            "Extracting EDF parameters from /home/giuseppe_bonomo/DATASET/BCI2b_IV/dataset/B0104E.gdf...\n",
            "GDF file detected\n",
            "Setting channel info structure...\n",
            "Could not determine channel type of the following channels, they will be set as EEG:\n",
            "EEG:C3, EEG:Cz, EEG:C4, EOG:ch01, EOG:ch02, EOG:ch03\n",
            "Creating raw.info structure...\n",
            "Reading 0 ... 466313  =      0.000 ...  1865.252 secs...\n"
          ]
        },
        {
          "name": "stderr",
          "output_type": "stream",
          "text": [
            "/home/giuseppe_bonomo/DATASET/BCI2b_IV/preprocess.py:203: RuntimeWarning: Highpass cutoff frequency 100.0 is greater than lowpass cutoff frequency 0.5, setting values to 0 and Nyquist.\n",
            "  raw = mne.io.read_raw_gdf(gdf_file, preload=True)\n"
          ]
        },
        {
          "name": "stdout",
          "output_type": "stream",
          "text": [
            "Filtering raw data in 1 contiguous segment\n",
            "Setting up band-pass filter from 0.5 - 1e+02 Hz\n",
            "\n",
            "FIR filter parameters\n",
            "---------------------\n",
            "Designing a one-pass, zero-phase, non-causal bandpass filter:\n",
            "- Windowed time-domain design (firwin) method\n",
            "- Hamming window with 0.0194 passband ripple and 53 dB stopband attenuation\n",
            "- Lower passband edge: 0.50\n",
            "- Lower transition bandwidth: 0.50 Hz (-6 dB cutoff frequency: 0.25 Hz)\n",
            "- Upper passband edge: 100.00 Hz\n",
            "- Upper transition bandwidth: 25.00 Hz (-6 dB cutoff frequency: 112.50 Hz)\n",
            "- Filter length: 1651 samples (6.604 s)\n",
            "\n",
            "NOTE: pick_channels() is a legacy function. New code should use inst.pick(...).\n",
            "Used Annotations descriptions: [np.str_('1023'), np.str_('1077'), np.str_('1078'), np.str_('1079'), np.str_('1081'), np.str_('276'), np.str_('277'), np.str_('32766'), np.str_('768'), np.str_('781'), np.str_('783')]\n",
            "Extracting EDF parameters from /home/giuseppe_bonomo/DATASET/BCI2b_IV/dataset/B0105E.gdf...\n",
            "GDF file detected\n",
            "Setting channel info structure...\n",
            "Could not determine channel type of the following channels, they will be set as EEG:\n",
            "EEG:C3, EEG:Cz, EEG:C4, EOG:ch01, EOG:ch02, EOG:ch03\n",
            "Creating raw.info structure...\n",
            "Reading 0 ... 474362  =      0.000 ...  1897.448 secs...\n"
          ]
        },
        {
          "name": "stderr",
          "output_type": "stream",
          "text": [
            "/home/giuseppe_bonomo/DATASET/BCI2b_IV/preprocess.py:203: RuntimeWarning: Highpass cutoff frequency 100.0 is greater than lowpass cutoff frequency 0.5, setting values to 0 and Nyquist.\n",
            "  raw = mne.io.read_raw_gdf(gdf_file, preload=True)\n"
          ]
        },
        {
          "name": "stdout",
          "output_type": "stream",
          "text": [
            "Filtering raw data in 1 contiguous segment\n",
            "Setting up band-pass filter from 0.5 - 1e+02 Hz\n",
            "\n",
            "FIR filter parameters\n",
            "---------------------\n",
            "Designing a one-pass, zero-phase, non-causal bandpass filter:\n",
            "- Windowed time-domain design (firwin) method\n",
            "- Hamming window with 0.0194 passband ripple and 53 dB stopband attenuation\n",
            "- Lower passband edge: 0.50\n",
            "- Lower transition bandwidth: 0.50 Hz (-6 dB cutoff frequency: 0.25 Hz)\n",
            "- Upper passband edge: 100.00 Hz\n",
            "- Upper transition bandwidth: 25.00 Hz (-6 dB cutoff frequency: 112.50 Hz)\n",
            "- Filter length: 1651 samples (6.604 s)\n",
            "\n",
            "NOTE: pick_channels() is a legacy function. New code should use inst.pick(...).\n",
            "Used Annotations descriptions: [np.str_('1023'), np.str_('1077'), np.str_('1078'), np.str_('1079'), np.str_('1081'), np.str_('276'), np.str_('277'), np.str_('32766'), np.str_('768'), np.str_('781'), np.str_('783')]\n",
            "Lunghezza originale del segnale: (94, 1, 3, 750)\n",
            "Livello 1: coeffs_approx shape (94, 1, 3, 750), lo_d shape (12,), hi_d shape (12,)\n",
            "Livello 2: coeffs_approx shape (94, 1, 3, 750), lo_d shape (13,), hi_d shape (13,)\n",
            "Livello 3: coeffs_approx shape (94, 1, 3, 750), lo_d shape (14,), hi_d shape (14,)\n",
            "Livello 4: coeffs_approx shape (94, 1, 3, 750), lo_d shape (14,), hi_d shape (14,)\n",
            "Lunghezza del segnale ricostruito: (94, 1, 3, 750)\n",
            "\u001b[1m1/3\u001b[0m \u001b[32m━━━━━━\u001b[0m\u001b[37m━━━━━━━━━━━━━━\u001b[0m \u001b[1m5s\u001b[0m 3s/step"
          ]
        },
        {
          "name": "stderr",
          "output_type": "stream",
          "text": [
            "2025-04-08 14:41:52.165444: I external/local_xla/xla/stream_executor/cuda/subprocess_compilation.cc:346] ptxas warning : Registers are spilled to local memory in function 'gemm_fusion_dot_26', 8 bytes spill stores, 8 bytes spill loads\n",
            "\n"
          ]
        },
        {
          "name": "stdout",
          "output_type": "stream",
          "text": [
            "\u001b[1m3/3\u001b[0m \u001b[32m━━━━━━━━━━━━━━━━━━━━\u001b[0m\u001b[37m\u001b[0m \u001b[1m6s\u001b[0m 2s/step\n",
            "Extracting EDF parameters from /home/giuseppe_bonomo/DATASET/BCI2b_IV/dataset/B0201T.gdf...\n",
            "GDF file detected\n",
            "Setting channel info structure...\n",
            "Could not determine channel type of the following channels, they will be set as EEG:\n",
            "EEG:C3, EEG:Cz, EEG:C4, EOG:ch01, EOG:ch02, EOG:ch03\n",
            "Creating raw.info structure...\n",
            "Reading 0 ... 604802  =      0.000 ...  2419.208 secs...\n"
          ]
        },
        {
          "name": "stderr",
          "output_type": "stream",
          "text": [
            "/home/giuseppe_bonomo/DATASET/BCI2b_IV/preprocess.py:203: RuntimeWarning: Highpass cutoff frequency 100.0 is greater than lowpass cutoff frequency 0.5, setting values to 0 and Nyquist.\n",
            "  raw = mne.io.read_raw_gdf(gdf_file, preload=True)\n"
          ]
        },
        {
          "name": "stdout",
          "output_type": "stream",
          "text": [
            "Filtering raw data in 1 contiguous segment\n",
            "Setting up band-pass filter from 0.5 - 1e+02 Hz\n",
            "\n",
            "FIR filter parameters\n",
            "---------------------\n",
            "Designing a one-pass, zero-phase, non-causal bandpass filter:\n",
            "- Windowed time-domain design (firwin) method\n",
            "- Hamming window with 0.0194 passband ripple and 53 dB stopband attenuation\n",
            "- Lower passband edge: 0.50\n",
            "- Lower transition bandwidth: 0.50 Hz (-6 dB cutoff frequency: 0.25 Hz)\n",
            "- Upper passband edge: 100.00 Hz\n",
            "- Upper transition bandwidth: 25.00 Hz (-6 dB cutoff frequency: 112.50 Hz)\n",
            "- Filter length: 1651 samples (6.604 s)\n",
            "\n",
            "NOTE: pick_channels() is a legacy function. New code should use inst.pick(...).\n",
            "Used Annotations descriptions: [np.str_('1023'), np.str_('1077'), np.str_('1078'), np.str_('1079'), np.str_('1081'), np.str_('276'), np.str_('277'), np.str_('32766'), np.str_('768'), np.str_('769'), np.str_('770')]\n",
            "Extracting EDF parameters from /home/giuseppe_bonomo/DATASET/BCI2b_IV/dataset/B0202T.gdf...\n",
            "GDF file detected\n",
            "Setting channel info structure...\n",
            "Could not determine channel type of the following channels, they will be set as EEG:\n",
            "EEG:C3, EEG:Cz, EEG:C4, EOG:ch01, EOG:ch02, EOG:ch03\n",
            "Creating raw.info structure...\n",
            "Reading 0 ... 604802  =      0.000 ...  2419.208 secs...\n"
          ]
        },
        {
          "name": "stderr",
          "output_type": "stream",
          "text": [
            "/home/giuseppe_bonomo/DATASET/BCI2b_IV/preprocess.py:203: RuntimeWarning: Highpass cutoff frequency 100.0 is greater than lowpass cutoff frequency 0.5, setting values to 0 and Nyquist.\n",
            "  raw = mne.io.read_raw_gdf(gdf_file, preload=True)\n"
          ]
        },
        {
          "name": "stdout",
          "output_type": "stream",
          "text": [
            "Filtering raw data in 1 contiguous segment\n",
            "Setting up band-pass filter from 0.5 - 1e+02 Hz\n",
            "\n",
            "FIR filter parameters\n",
            "---------------------\n",
            "Designing a one-pass, zero-phase, non-causal bandpass filter:\n",
            "- Windowed time-domain design (firwin) method\n",
            "- Hamming window with 0.0194 passband ripple and 53 dB stopband attenuation\n",
            "- Lower passband edge: 0.50\n",
            "- Lower transition bandwidth: 0.50 Hz (-6 dB cutoff frequency: 0.25 Hz)\n",
            "- Upper passband edge: 100.00 Hz\n",
            "- Upper transition bandwidth: 25.00 Hz (-6 dB cutoff frequency: 112.50 Hz)\n",
            "- Filter length: 1651 samples (6.604 s)\n",
            "\n",
            "NOTE: pick_channels() is a legacy function. New code should use inst.pick(...).\n",
            "Used Annotations descriptions: [np.str_('1023'), np.str_('1077'), np.str_('1078'), np.str_('1079'), np.str_('1081'), np.str_('276'), np.str_('277'), np.str_('32766'), np.str_('768'), np.str_('769'), np.str_('770')]\n",
            "Extracting EDF parameters from /home/giuseppe_bonomo/DATASET/BCI2b_IV/dataset/B0203T.gdf...\n",
            "GDF file detected\n",
            "Setting channel info structure...\n",
            "Could not determine channel type of the following channels, they will be set as EEG:\n",
            "EEG:C3, EEG:Cz, EEG:C4, EOG:ch01, EOG:ch02, EOG:ch03\n",
            "Creating raw.info structure...\n",
            "Reading 0 ... 464154  =      0.000 ...  1856.616 secs...\n"
          ]
        },
        {
          "name": "stderr",
          "output_type": "stream",
          "text": [
            "/home/giuseppe_bonomo/DATASET/BCI2b_IV/preprocess.py:203: RuntimeWarning: Highpass cutoff frequency 100.0 is greater than lowpass cutoff frequency 0.5, setting values to 0 and Nyquist.\n",
            "  raw = mne.io.read_raw_gdf(gdf_file, preload=True)\n"
          ]
        },
        {
          "name": "stdout",
          "output_type": "stream",
          "text": [
            "Filtering raw data in 1 contiguous segment\n",
            "Setting up band-pass filter from 0.5 - 1e+02 Hz\n",
            "\n",
            "FIR filter parameters\n",
            "---------------------\n",
            "Designing a one-pass, zero-phase, non-causal bandpass filter:\n",
            "- Windowed time-domain design (firwin) method\n",
            "- Hamming window with 0.0194 passband ripple and 53 dB stopband attenuation\n",
            "- Lower passband edge: 0.50\n",
            "- Lower transition bandwidth: 0.50 Hz (-6 dB cutoff frequency: 0.25 Hz)\n",
            "- Upper passband edge: 100.00 Hz\n",
            "- Upper transition bandwidth: 25.00 Hz (-6 dB cutoff frequency: 112.50 Hz)\n",
            "- Filter length: 1651 samples (6.604 s)\n",
            "\n",
            "NOTE: pick_channels() is a legacy function. New code should use inst.pick(...).\n",
            "Used Annotations descriptions: [np.str_('1023'), np.str_('1077'), np.str_('1078'), np.str_('1079'), np.str_('1081'), np.str_('276'), np.str_('277'), np.str_('32766'), np.str_('768'), np.str_('769'), np.str_('770'), np.str_('781')]\n",
            "Extracting EDF parameters from /home/giuseppe_bonomo/DATASET/BCI2b_IV/dataset/B0204E.gdf...\n",
            "GDF file detected\n",
            "Setting channel info structure...\n",
            "Could not determine channel type of the following channels, they will be set as EEG:\n",
            "EEG:C3, EEG:Cz, EEG:C4, EOG:ch01, EOG:ch02, EOG:ch03\n",
            "Creating raw.info structure...\n",
            "Reading 0 ... 361829  =      0.000 ...  1447.316 secs...\n"
          ]
        },
        {
          "name": "stderr",
          "output_type": "stream",
          "text": [
            "/home/giuseppe_bonomo/DATASET/BCI2b_IV/preprocess.py:203: RuntimeWarning: Highpass cutoff frequency 100.0 is greater than lowpass cutoff frequency 0.5, setting values to 0 and Nyquist.\n",
            "  raw = mne.io.read_raw_gdf(gdf_file, preload=True)\n"
          ]
        },
        {
          "name": "stdout",
          "output_type": "stream",
          "text": [
            "Filtering raw data in 1 contiguous segment\n",
            "Setting up band-pass filter from 0.5 - 1e+02 Hz\n",
            "\n",
            "FIR filter parameters\n",
            "---------------------\n",
            "Designing a one-pass, zero-phase, non-causal bandpass filter:\n",
            "- Windowed time-domain design (firwin) method\n",
            "- Hamming window with 0.0194 passband ripple and 53 dB stopband attenuation\n",
            "- Lower passband edge: 0.50\n",
            "- Lower transition bandwidth: 0.50 Hz (-6 dB cutoff frequency: 0.25 Hz)\n",
            "- Upper passband edge: 100.00 Hz\n",
            "- Upper transition bandwidth: 25.00 Hz (-6 dB cutoff frequency: 112.50 Hz)\n",
            "- Filter length: 1651 samples (6.604 s)\n",
            "\n",
            "NOTE: pick_channels() is a legacy function. New code should use inst.pick(...).\n",
            "Used Annotations descriptions: [np.str_('1023'), np.str_('1077'), np.str_('1078'), np.str_('1079'), np.str_('1081'), np.str_('276'), np.str_('277'), np.str_('32766'), np.str_('768'), np.str_('781'), np.str_('783')]\n",
            "Extracting EDF parameters from /home/giuseppe_bonomo/DATASET/BCI2b_IV/dataset/B0205E.gdf...\n",
            "GDF file detected\n",
            "Setting channel info structure...\n",
            "Could not determine channel type of the following channels, they will be set as EEG:\n",
            "EEG:C3, EEG:Cz, EEG:C4, EOG:ch01, EOG:ch02, EOG:ch03\n",
            "Creating raw.info structure...\n",
            "Reading 0 ... 473686  =      0.000 ...  1894.744 secs...\n"
          ]
        },
        {
          "name": "stderr",
          "output_type": "stream",
          "text": [
            "/home/giuseppe_bonomo/DATASET/BCI2b_IV/preprocess.py:203: RuntimeWarning: Highpass cutoff frequency 100.0 is greater than lowpass cutoff frequency 0.5, setting values to 0 and Nyquist.\n",
            "  raw = mne.io.read_raw_gdf(gdf_file, preload=True)\n"
          ]
        },
        {
          "name": "stdout",
          "output_type": "stream",
          "text": [
            "Filtering raw data in 1 contiguous segment\n",
            "Setting up band-pass filter from 0.5 - 1e+02 Hz\n",
            "\n",
            "FIR filter parameters\n",
            "---------------------\n",
            "Designing a one-pass, zero-phase, non-causal bandpass filter:\n",
            "- Windowed time-domain design (firwin) method\n",
            "- Hamming window with 0.0194 passband ripple and 53 dB stopband attenuation\n",
            "- Lower passband edge: 0.50\n",
            "- Lower transition bandwidth: 0.50 Hz (-6 dB cutoff frequency: 0.25 Hz)\n",
            "- Upper passband edge: 100.00 Hz\n",
            "- Upper transition bandwidth: 25.00 Hz (-6 dB cutoff frequency: 112.50 Hz)\n",
            "- Filter length: 1651 samples (6.604 s)\n",
            "\n",
            "NOTE: pick_channels() is a legacy function. New code should use inst.pick(...).\n",
            "Used Annotations descriptions: [np.str_('1023'), np.str_('1077'), np.str_('1078'), np.str_('1079'), np.str_('1081'), np.str_('276'), np.str_('277'), np.str_('32766'), np.str_('768'), np.str_('781'), np.str_('783')]\n",
            "Lunghezza originale del segnale: (37, 1, 3, 750)\n",
            "Livello 1: coeffs_approx shape (37, 1, 3, 750), lo_d shape (12,), hi_d shape (12,)\n",
            "Livello 2: coeffs_approx shape (37, 1, 3, 750), lo_d shape (13,), hi_d shape (13,)\n",
            "Livello 3: coeffs_approx shape (37, 1, 3, 750), lo_d shape (14,), hi_d shape (14,)\n",
            "Livello 4: coeffs_approx shape (37, 1, 3, 750), lo_d shape (14,), hi_d shape (14,)\n",
            "Lunghezza del segnale ricostruito: (37, 1, 3, 750)\n",
            "\u001b[1m2/2\u001b[0m \u001b[32m━━━━━━━━━━━━━━━━━━━━\u001b[0m\u001b[37m\u001b[0m \u001b[1m2s\u001b[0m 2s/step \n",
            "Extracting EDF parameters from /home/giuseppe_bonomo/DATASET/BCI2b_IV/dataset/B0301T.gdf...\n",
            "GDF file detected\n",
            "Setting channel info structure...\n",
            "Could not determine channel type of the following channels, they will be set as EEG:\n",
            "EEG:C3, EEG:Cz, EEG:C4, EOG:ch01, EOG:ch02, EOG:ch03\n",
            "Creating raw.info structure...\n",
            "Reading 0 ... 604802  =      0.000 ...  2419.208 secs...\n"
          ]
        },
        {
          "name": "stderr",
          "output_type": "stream",
          "text": [
            "/home/giuseppe_bonomo/DATASET/BCI2b_IV/preprocess.py:203: RuntimeWarning: Highpass cutoff frequency 100.0 is greater than lowpass cutoff frequency 0.5, setting values to 0 and Nyquist.\n",
            "  raw = mne.io.read_raw_gdf(gdf_file, preload=True)\n"
          ]
        },
        {
          "name": "stdout",
          "output_type": "stream",
          "text": [
            "Filtering raw data in 1 contiguous segment\n",
            "Setting up band-pass filter from 0.5 - 1e+02 Hz\n",
            "\n",
            "FIR filter parameters\n",
            "---------------------\n",
            "Designing a one-pass, zero-phase, non-causal bandpass filter:\n",
            "- Windowed time-domain design (firwin) method\n",
            "- Hamming window with 0.0194 passband ripple and 53 dB stopband attenuation\n",
            "- Lower passband edge: 0.50\n",
            "- Lower transition bandwidth: 0.50 Hz (-6 dB cutoff frequency: 0.25 Hz)\n",
            "- Upper passband edge: 100.00 Hz\n",
            "- Upper transition bandwidth: 25.00 Hz (-6 dB cutoff frequency: 112.50 Hz)\n",
            "- Filter length: 1651 samples (6.604 s)\n",
            "\n",
            "NOTE: pick_channels() is a legacy function. New code should use inst.pick(...).\n",
            "Used Annotations descriptions: [np.str_('1023'), np.str_('1077'), np.str_('1078'), np.str_('1079'), np.str_('1081'), np.str_('276'), np.str_('277'), np.str_('32766'), np.str_('768'), np.str_('769'), np.str_('770')]\n",
            "Extracting EDF parameters from /home/giuseppe_bonomo/DATASET/BCI2b_IV/dataset/B0302T.gdf...\n",
            "GDF file detected\n",
            "Setting channel info structure...\n",
            "Could not determine channel type of the following channels, they will be set as EEG:\n",
            "EEG:C3, EEG:Cz, EEG:C4, EOG:ch01, EOG:ch02, EOG:ch03\n",
            "Creating raw.info structure...\n",
            "Reading 0 ... 604802  =      0.000 ...  2419.208 secs...\n"
          ]
        },
        {
          "name": "stderr",
          "output_type": "stream",
          "text": [
            "/home/giuseppe_bonomo/DATASET/BCI2b_IV/preprocess.py:203: RuntimeWarning: Highpass cutoff frequency 100.0 is greater than lowpass cutoff frequency 0.5, setting values to 0 and Nyquist.\n",
            "  raw = mne.io.read_raw_gdf(gdf_file, preload=True)\n"
          ]
        },
        {
          "name": "stdout",
          "output_type": "stream",
          "text": [
            "Filtering raw data in 1 contiguous segment\n",
            "Setting up band-pass filter from 0.5 - 1e+02 Hz\n",
            "\n",
            "FIR filter parameters\n",
            "---------------------\n",
            "Designing a one-pass, zero-phase, non-causal bandpass filter:\n",
            "- Windowed time-domain design (firwin) method\n",
            "- Hamming window with 0.0194 passband ripple and 53 dB stopband attenuation\n",
            "- Lower passband edge: 0.50\n",
            "- Lower transition bandwidth: 0.50 Hz (-6 dB cutoff frequency: 0.25 Hz)\n",
            "- Upper passband edge: 100.00 Hz\n",
            "- Upper transition bandwidth: 25.00 Hz (-6 dB cutoff frequency: 112.50 Hz)\n",
            "- Filter length: 1651 samples (6.604 s)\n",
            "\n",
            "NOTE: pick_channels() is a legacy function. New code should use inst.pick(...).\n",
            "Used Annotations descriptions: [np.str_('1023'), np.str_('1077'), np.str_('1078'), np.str_('1079'), np.str_('1081'), np.str_('276'), np.str_('277'), np.str_('32766'), np.str_('768'), np.str_('769'), np.str_('770')]\n",
            "Extracting EDF parameters from /home/giuseppe_bonomo/DATASET/BCI2b_IV/dataset/B0303T.gdf...\n",
            "GDF file detected\n",
            "Setting channel info structure...\n",
            "Could not determine channel type of the following channels, they will be set as EEG:\n",
            "EEG:C3, EEG:Cz, EEG:C4, EOG:ch01, EOG:ch02, EOG:ch03\n",
            "Creating raw.info structure...\n",
            "Reading 0 ... 464674  =      0.000 ...  1858.696 secs...\n"
          ]
        },
        {
          "name": "stderr",
          "output_type": "stream",
          "text": [
            "/home/giuseppe_bonomo/DATASET/BCI2b_IV/preprocess.py:203: RuntimeWarning: Highpass cutoff frequency 100.0 is greater than lowpass cutoff frequency 0.5, setting values to 0 and Nyquist.\n",
            "  raw = mne.io.read_raw_gdf(gdf_file, preload=True)\n"
          ]
        },
        {
          "name": "stdout",
          "output_type": "stream",
          "text": [
            "Filtering raw data in 1 contiguous segment\n",
            "Setting up band-pass filter from 0.5 - 1e+02 Hz\n",
            "\n",
            "FIR filter parameters\n",
            "---------------------\n",
            "Designing a one-pass, zero-phase, non-causal bandpass filter:\n",
            "- Windowed time-domain design (firwin) method\n",
            "- Hamming window with 0.0194 passband ripple and 53 dB stopband attenuation\n",
            "- Lower passband edge: 0.50\n",
            "- Lower transition bandwidth: 0.50 Hz (-6 dB cutoff frequency: 0.25 Hz)\n",
            "- Upper passband edge: 100.00 Hz\n",
            "- Upper transition bandwidth: 25.00 Hz (-6 dB cutoff frequency: 112.50 Hz)\n",
            "- Filter length: 1651 samples (6.604 s)\n",
            "\n",
            "NOTE: pick_channels() is a legacy function. New code should use inst.pick(...).\n",
            "Used Annotations descriptions: [np.str_('1023'), np.str_('1077'), np.str_('1078'), np.str_('1079'), np.str_('1081'), np.str_('276'), np.str_('277'), np.str_('32766'), np.str_('768'), np.str_('769'), np.str_('770'), np.str_('781')]\n",
            "Extracting EDF parameters from /home/giuseppe_bonomo/DATASET/BCI2b_IV/dataset/B0304E.gdf...\n",
            "GDF file detected\n",
            "Setting channel info structure...\n",
            "Could not determine channel type of the following channels, they will be set as EEG:\n",
            "EEG:C3, EEG:Cz, EEG:C4, EOG:ch01, EOG:ch02, EOG:ch03\n",
            "Creating raw.info structure...\n",
            "Reading 0 ... 464674  =      0.000 ...  1858.696 secs...\n"
          ]
        },
        {
          "name": "stderr",
          "output_type": "stream",
          "text": [
            "/home/giuseppe_bonomo/DATASET/BCI2b_IV/preprocess.py:203: RuntimeWarning: Highpass cutoff frequency 100.0 is greater than lowpass cutoff frequency 0.5, setting values to 0 and Nyquist.\n",
            "  raw = mne.io.read_raw_gdf(gdf_file, preload=True)\n"
          ]
        },
        {
          "name": "stdout",
          "output_type": "stream",
          "text": [
            "Filtering raw data in 1 contiguous segment\n",
            "Setting up band-pass filter from 0.5 - 1e+02 Hz\n",
            "\n",
            "FIR filter parameters\n",
            "---------------------\n",
            "Designing a one-pass, zero-phase, non-causal bandpass filter:\n",
            "- Windowed time-domain design (firwin) method\n",
            "- Hamming window with 0.0194 passband ripple and 53 dB stopband attenuation\n",
            "- Lower passband edge: 0.50\n",
            "- Lower transition bandwidth: 0.50 Hz (-6 dB cutoff frequency: 0.25 Hz)\n",
            "- Upper passband edge: 100.00 Hz\n",
            "- Upper transition bandwidth: 25.00 Hz (-6 dB cutoff frequency: 112.50 Hz)\n",
            "- Filter length: 1651 samples (6.604 s)\n",
            "\n",
            "NOTE: pick_channels() is a legacy function. New code should use inst.pick(...).\n",
            "Used Annotations descriptions: [np.str_('1023'), np.str_('1077'), np.str_('1078'), np.str_('1079'), np.str_('1081'), np.str_('276'), np.str_('277'), np.str_('32766'), np.str_('768'), np.str_('781'), np.str_('783')]\n",
            "Extracting EDF parameters from /home/giuseppe_bonomo/DATASET/BCI2b_IV/dataset/B0305E.gdf...\n",
            "GDF file detected\n",
            "Setting channel info structure...\n",
            "Could not determine channel type of the following channels, they will be set as EEG:\n",
            "EEG:C3, EEG:Cz, EEG:C4, EOG:ch01, EOG:ch02, EOG:ch03\n",
            "Creating raw.info structure...\n",
            "Reading 0 ... 463618  =      0.000 ...  1854.472 secs...\n"
          ]
        },
        {
          "name": "stderr",
          "output_type": "stream",
          "text": [
            "/home/giuseppe_bonomo/DATASET/BCI2b_IV/preprocess.py:203: RuntimeWarning: Highpass cutoff frequency 100.0 is greater than lowpass cutoff frequency 0.5, setting values to 0 and Nyquist.\n",
            "  raw = mne.io.read_raw_gdf(gdf_file, preload=True)\n"
          ]
        },
        {
          "name": "stdout",
          "output_type": "stream",
          "text": [
            "Filtering raw data in 1 contiguous segment\n",
            "Setting up band-pass filter from 0.5 - 1e+02 Hz\n",
            "\n",
            "FIR filter parameters\n",
            "---------------------\n",
            "Designing a one-pass, zero-phase, non-causal bandpass filter:\n",
            "- Windowed time-domain design (firwin) method\n",
            "- Hamming window with 0.0194 passband ripple and 53 dB stopband attenuation\n",
            "- Lower passband edge: 0.50\n",
            "- Lower transition bandwidth: 0.50 Hz (-6 dB cutoff frequency: 0.25 Hz)\n",
            "- Upper passband edge: 100.00 Hz\n",
            "- Upper transition bandwidth: 25.00 Hz (-6 dB cutoff frequency: 112.50 Hz)\n",
            "- Filter length: 1651 samples (6.604 s)\n",
            "\n",
            "NOTE: pick_channels() is a legacy function. New code should use inst.pick(...).\n",
            "Used Annotations descriptions: [np.str_('1023'), np.str_('1077'), np.str_('1078'), np.str_('1079'), np.str_('1081'), np.str_('276'), np.str_('277'), np.str_('32766'), np.str_('768'), np.str_('781'), np.str_('783')]\n",
            "Lunghezza originale del segnale: (92, 1, 3, 750)\n",
            "Livello 1: coeffs_approx shape (92, 1, 3, 750), lo_d shape (12,), hi_d shape (12,)\n",
            "Livello 2: coeffs_approx shape (92, 1, 3, 750), lo_d shape (13,), hi_d shape (13,)\n",
            "Livello 3: coeffs_approx shape (92, 1, 3, 750), lo_d shape (14,), hi_d shape (14,)\n",
            "Livello 4: coeffs_approx shape (92, 1, 3, 750), lo_d shape (14,), hi_d shape (14,)\n",
            "Lunghezza del segnale ricostruito: (92, 1, 3, 750)\n",
            "\u001b[1m3/3\u001b[0m \u001b[32m━━━━━━━━━━━━━━━━━━━━\u001b[0m\u001b[37m\u001b[0m \u001b[1m2s\u001b[0m 840ms/step\n",
            "Extracting EDF parameters from /home/giuseppe_bonomo/DATASET/BCI2b_IV/dataset/B0401T.gdf...\n",
            "GDF file detected\n",
            "Setting channel info structure...\n",
            "Could not determine channel type of the following channels, they will be set as EEG:\n",
            "EEG:C3, EEG:Cz, EEG:C4, EOG:ch01, EOG:ch02, EOG:ch03\n",
            "Creating raw.info structure...\n",
            "Reading 0 ... 604802  =      0.000 ...  2419.208 secs...\n"
          ]
        },
        {
          "name": "stderr",
          "output_type": "stream",
          "text": [
            "/home/giuseppe_bonomo/DATASET/BCI2b_IV/preprocess.py:203: RuntimeWarning: Highpass cutoff frequency 100.0 is greater than lowpass cutoff frequency 0.5, setting values to 0 and Nyquist.\n",
            "  raw = mne.io.read_raw_gdf(gdf_file, preload=True)\n"
          ]
        },
        {
          "name": "stdout",
          "output_type": "stream",
          "text": [
            "Filtering raw data in 1 contiguous segment\n",
            "Setting up band-pass filter from 0.5 - 1e+02 Hz\n",
            "\n",
            "FIR filter parameters\n",
            "---------------------\n",
            "Designing a one-pass, zero-phase, non-causal bandpass filter:\n",
            "- Windowed time-domain design (firwin) method\n",
            "- Hamming window with 0.0194 passband ripple and 53 dB stopband attenuation\n",
            "- Lower passband edge: 0.50\n",
            "- Lower transition bandwidth: 0.50 Hz (-6 dB cutoff frequency: 0.25 Hz)\n",
            "- Upper passband edge: 100.00 Hz\n",
            "- Upper transition bandwidth: 25.00 Hz (-6 dB cutoff frequency: 112.50 Hz)\n",
            "- Filter length: 1651 samples (6.604 s)\n",
            "\n",
            "NOTE: pick_channels() is a legacy function. New code should use inst.pick(...).\n",
            "Used Annotations descriptions: [np.str_('1023'), np.str_('1077'), np.str_('1078'), np.str_('1079'), np.str_('1081'), np.str_('276'), np.str_('277'), np.str_('32766'), np.str_('768'), np.str_('769'), np.str_('770')]\n",
            "Extracting EDF parameters from /home/giuseppe_bonomo/DATASET/BCI2b_IV/dataset/B0402T.gdf...\n",
            "GDF file detected\n",
            "Setting channel info structure...\n",
            "Could not determine channel type of the following channels, they will be set as EEG:\n",
            "EEG:C3, EEG:Cz, EEG:C4, EOG:ch01, EOG:ch02, EOG:ch03\n",
            "Creating raw.info structure...\n",
            "Reading 0 ... 696265  =      0.000 ...  2785.060 secs...\n"
          ]
        },
        {
          "name": "stderr",
          "output_type": "stream",
          "text": [
            "/home/giuseppe_bonomo/DATASET/BCI2b_IV/preprocess.py:203: RuntimeWarning: Highpass cutoff frequency 100.0 is greater than lowpass cutoff frequency 0.5, setting values to 0 and Nyquist.\n",
            "  raw = mne.io.read_raw_gdf(gdf_file, preload=True)\n"
          ]
        },
        {
          "name": "stdout",
          "output_type": "stream",
          "text": [
            "Filtering raw data in 1 contiguous segment\n",
            "Setting up band-pass filter from 0.5 - 1e+02 Hz\n",
            "\n",
            "FIR filter parameters\n",
            "---------------------\n",
            "Designing a one-pass, zero-phase, non-causal bandpass filter:\n",
            "- Windowed time-domain design (firwin) method\n",
            "- Hamming window with 0.0194 passband ripple and 53 dB stopband attenuation\n",
            "- Lower passband edge: 0.50\n",
            "- Lower transition bandwidth: 0.50 Hz (-6 dB cutoff frequency: 0.25 Hz)\n",
            "- Upper passband edge: 100.00 Hz\n",
            "- Upper transition bandwidth: 25.00 Hz (-6 dB cutoff frequency: 112.50 Hz)\n",
            "- Filter length: 1651 samples (6.604 s)\n",
            "\n",
            "NOTE: pick_channels() is a legacy function. New code should use inst.pick(...).\n",
            "Used Annotations descriptions: [np.str_('1023'), np.str_('1077'), np.str_('1078'), np.str_('1079'), np.str_('1081'), np.str_('276'), np.str_('277'), np.str_('32766'), np.str_('768'), np.str_('769'), np.str_('770')]\n",
            "Extracting EDF parameters from /home/giuseppe_bonomo/DATASET/BCI2b_IV/dataset/B0403T.gdf...\n",
            "GDF file detected\n",
            "Setting channel info structure...\n",
            "Could not determine channel type of the following channels, they will be set as EEG:\n",
            "EEG:C3, EEG:Cz, EEG:C4, EOG:ch01, EOG:ch02, EOG:ch03\n",
            "Creating raw.info structure...\n",
            "Reading 0 ... 468558  =      0.000 ...  1874.232 secs...\n"
          ]
        },
        {
          "name": "stderr",
          "output_type": "stream",
          "text": [
            "/home/giuseppe_bonomo/DATASET/BCI2b_IV/preprocess.py:203: RuntimeWarning: Highpass cutoff frequency 100.0 is greater than lowpass cutoff frequency 0.5, setting values to 0 and Nyquist.\n",
            "  raw = mne.io.read_raw_gdf(gdf_file, preload=True)\n"
          ]
        },
        {
          "name": "stdout",
          "output_type": "stream",
          "text": [
            "Filtering raw data in 1 contiguous segment\n",
            "Setting up band-pass filter from 0.5 - 1e+02 Hz\n",
            "\n",
            "FIR filter parameters\n",
            "---------------------\n",
            "Designing a one-pass, zero-phase, non-causal bandpass filter:\n",
            "- Windowed time-domain design (firwin) method\n",
            "- Hamming window with 0.0194 passband ripple and 53 dB stopband attenuation\n",
            "- Lower passband edge: 0.50\n",
            "- Lower transition bandwidth: 0.50 Hz (-6 dB cutoff frequency: 0.25 Hz)\n",
            "- Upper passband edge: 100.00 Hz\n",
            "- Upper transition bandwidth: 25.00 Hz (-6 dB cutoff frequency: 112.50 Hz)\n",
            "- Filter length: 1651 samples (6.604 s)\n",
            "\n",
            "NOTE: pick_channels() is a legacy function. New code should use inst.pick(...).\n",
            "Used Annotations descriptions: [np.str_('1023'), np.str_('1077'), np.str_('1078'), np.str_('1079'), np.str_('1081'), np.str_('276'), np.str_('277'), np.str_('32766'), np.str_('768'), np.str_('769'), np.str_('770'), np.str_('781')]\n",
            "Extracting EDF parameters from /home/giuseppe_bonomo/DATASET/BCI2b_IV/dataset/B0404E.gdf...\n",
            "GDF file detected\n",
            "Setting channel info structure...\n",
            "Could not determine channel type of the following channels, they will be set as EEG:\n",
            "EEG:C3, EEG:Cz, EEG:C4, EOG:ch01, EOG:ch02, EOG:ch03\n",
            "Creating raw.info structure...\n",
            "Reading 0 ... 467478  =      0.000 ...  1869.912 secs...\n"
          ]
        },
        {
          "name": "stderr",
          "output_type": "stream",
          "text": [
            "/home/giuseppe_bonomo/DATASET/BCI2b_IV/preprocess.py:203: RuntimeWarning: Highpass cutoff frequency 100.0 is greater than lowpass cutoff frequency 0.5, setting values to 0 and Nyquist.\n",
            "  raw = mne.io.read_raw_gdf(gdf_file, preload=True)\n"
          ]
        },
        {
          "name": "stdout",
          "output_type": "stream",
          "text": [
            "Filtering raw data in 1 contiguous segment\n",
            "Setting up band-pass filter from 0.5 - 1e+02 Hz\n",
            "\n",
            "FIR filter parameters\n",
            "---------------------\n",
            "Designing a one-pass, zero-phase, non-causal bandpass filter:\n",
            "- Windowed time-domain design (firwin) method\n",
            "- Hamming window with 0.0194 passband ripple and 53 dB stopband attenuation\n",
            "- Lower passband edge: 0.50\n",
            "- Lower transition bandwidth: 0.50 Hz (-6 dB cutoff frequency: 0.25 Hz)\n",
            "- Upper passband edge: 100.00 Hz\n",
            "- Upper transition bandwidth: 25.00 Hz (-6 dB cutoff frequency: 112.50 Hz)\n",
            "- Filter length: 1651 samples (6.604 s)\n",
            "\n",
            "NOTE: pick_channels() is a legacy function. New code should use inst.pick(...).\n",
            "Used Annotations descriptions: [np.str_('1023'), np.str_('1077'), np.str_('1078'), np.str_('1079'), np.str_('1081'), np.str_('276'), np.str_('277'), np.str_('32766'), np.str_('768'), np.str_('781'), np.str_('783')]\n",
            "Extracting EDF parameters from /home/giuseppe_bonomo/DATASET/BCI2b_IV/dataset/B0405E.gdf...\n",
            "GDF file detected\n",
            "Setting channel info structure...\n",
            "Could not determine channel type of the following channels, they will be set as EEG:\n",
            "EEG:C3, EEG:Cz, EEG:C4, EOG:ch01, EOG:ch02, EOG:ch03\n",
            "Creating raw.info structure...\n",
            "Reading 0 ... 466050  =      0.000 ...  1864.200 secs...\n"
          ]
        },
        {
          "name": "stderr",
          "output_type": "stream",
          "text": [
            "/home/giuseppe_bonomo/DATASET/BCI2b_IV/preprocess.py:203: RuntimeWarning: Highpass cutoff frequency 100.0 is greater than lowpass cutoff frequency 0.5, setting values to 0 and Nyquist.\n",
            "  raw = mne.io.read_raw_gdf(gdf_file, preload=True)\n"
          ]
        },
        {
          "name": "stdout",
          "output_type": "stream",
          "text": [
            "Filtering raw data in 1 contiguous segment\n",
            "Setting up band-pass filter from 0.5 - 1e+02 Hz\n",
            "\n",
            "FIR filter parameters\n",
            "---------------------\n",
            "Designing a one-pass, zero-phase, non-causal bandpass filter:\n",
            "- Windowed time-domain design (firwin) method\n",
            "- Hamming window with 0.0194 passband ripple and 53 dB stopband attenuation\n",
            "- Lower passband edge: 0.50\n",
            "- Lower transition bandwidth: 0.50 Hz (-6 dB cutoff frequency: 0.25 Hz)\n",
            "- Upper passband edge: 100.00 Hz\n",
            "- Upper transition bandwidth: 25.00 Hz (-6 dB cutoff frequency: 112.50 Hz)\n",
            "- Filter length: 1651 samples (6.604 s)\n",
            "\n",
            "NOTE: pick_channels() is a legacy function. New code should use inst.pick(...).\n",
            "Used Annotations descriptions: [np.str_('1023'), np.str_('1077'), np.str_('1078'), np.str_('1079'), np.str_('1081'), np.str_('276'), np.str_('277'), np.str_('32766'), np.str_('768'), np.str_('781'), np.str_('783')]\n",
            "Lunghezza originale del segnale: (15, 1, 3, 750)\n",
            "Livello 1: coeffs_approx shape (15, 1, 3, 750), lo_d shape (12,), hi_d shape (12,)\n",
            "Livello 2: coeffs_approx shape (15, 1, 3, 750), lo_d shape (13,), hi_d shape (13,)\n",
            "Livello 3: coeffs_approx shape (15, 1, 3, 750), lo_d shape (14,), hi_d shape (14,)\n",
            "Livello 4: coeffs_approx shape (15, 1, 3, 750), lo_d shape (14,), hi_d shape (14,)\n",
            "Lunghezza del segnale ricostruito: (15, 1, 3, 750)\n",
            "\u001b[1m1/1\u001b[0m \u001b[32m━━━━━━━━━━━━━━━━━━━━\u001b[0m\u001b[37m\u001b[0m \u001b[1m1s\u001b[0m 1s/step\n",
            "Extracting EDF parameters from /home/giuseppe_bonomo/DATASET/BCI2b_IV/dataset/B0501T.gdf...\n",
            "GDF file detected\n",
            "Setting channel info structure...\n",
            "Could not determine channel type of the following channels, they will be set as EEG:\n",
            "EEG:C3, EEG:Cz, EEG:C4, EOG:ch01, EOG:ch02, EOG:ch03\n",
            "Creating raw.info structure...\n",
            "Reading 0 ... 604802  =      0.000 ...  2419.208 secs...\n"
          ]
        },
        {
          "name": "stderr",
          "output_type": "stream",
          "text": [
            "/home/giuseppe_bonomo/DATASET/BCI2b_IV/preprocess.py:203: RuntimeWarning: Highpass cutoff frequency 100.0 is greater than lowpass cutoff frequency 0.5, setting values to 0 and Nyquist.\n",
            "  raw = mne.io.read_raw_gdf(gdf_file, preload=True)\n"
          ]
        },
        {
          "name": "stdout",
          "output_type": "stream",
          "text": [
            "Filtering raw data in 1 contiguous segment\n",
            "Setting up band-pass filter from 0.5 - 1e+02 Hz\n",
            "\n",
            "FIR filter parameters\n",
            "---------------------\n",
            "Designing a one-pass, zero-phase, non-causal bandpass filter:\n",
            "- Windowed time-domain design (firwin) method\n",
            "- Hamming window with 0.0194 passband ripple and 53 dB stopband attenuation\n",
            "- Lower passband edge: 0.50\n",
            "- Lower transition bandwidth: 0.50 Hz (-6 dB cutoff frequency: 0.25 Hz)\n",
            "- Upper passband edge: 100.00 Hz\n",
            "- Upper transition bandwidth: 25.00 Hz (-6 dB cutoff frequency: 112.50 Hz)\n",
            "- Filter length: 1651 samples (6.604 s)\n",
            "\n",
            "NOTE: pick_channels() is a legacy function. New code should use inst.pick(...).\n",
            "Used Annotations descriptions: [np.str_('1023'), np.str_('1077'), np.str_('1078'), np.str_('1079'), np.str_('1081'), np.str_('276'), np.str_('277'), np.str_('32766'), np.str_('768'), np.str_('769'), np.str_('770')]\n",
            "Extracting EDF parameters from /home/giuseppe_bonomo/DATASET/BCI2b_IV/dataset/B0502T.gdf...\n",
            "GDF file detected\n",
            "Setting channel info structure...\n",
            "Could not determine channel type of the following channels, they will be set as EEG:\n",
            "EEG:C3, EEG:Cz, EEG:C4, EOG:ch01, EOG:ch02, EOG:ch03\n",
            "Creating raw.info structure...\n",
            "Reading 0 ... 696265  =      0.000 ...  2785.060 secs...\n"
          ]
        },
        {
          "name": "stderr",
          "output_type": "stream",
          "text": [
            "/home/giuseppe_bonomo/DATASET/BCI2b_IV/preprocess.py:203: RuntimeWarning: Highpass cutoff frequency 100.0 is greater than lowpass cutoff frequency 0.5, setting values to 0 and Nyquist.\n",
            "  raw = mne.io.read_raw_gdf(gdf_file, preload=True)\n"
          ]
        },
        {
          "name": "stdout",
          "output_type": "stream",
          "text": [
            "Filtering raw data in 1 contiguous segment\n",
            "Setting up band-pass filter from 0.5 - 1e+02 Hz\n",
            "\n",
            "FIR filter parameters\n",
            "---------------------\n",
            "Designing a one-pass, zero-phase, non-causal bandpass filter:\n",
            "- Windowed time-domain design (firwin) method\n",
            "- Hamming window with 0.0194 passband ripple and 53 dB stopband attenuation\n",
            "- Lower passband edge: 0.50\n",
            "- Lower transition bandwidth: 0.50 Hz (-6 dB cutoff frequency: 0.25 Hz)\n",
            "- Upper passband edge: 100.00 Hz\n",
            "- Upper transition bandwidth: 25.00 Hz (-6 dB cutoff frequency: 112.50 Hz)\n",
            "- Filter length: 1651 samples (6.604 s)\n",
            "\n",
            "NOTE: pick_channels() is a legacy function. New code should use inst.pick(...).\n",
            "Used Annotations descriptions: [np.str_('1023'), np.str_('1077'), np.str_('1078'), np.str_('1079'), np.str_('1081'), np.str_('276'), np.str_('277'), np.str_('32766'), np.str_('768'), np.str_('769'), np.str_('770')]\n",
            "Extracting EDF parameters from /home/giuseppe_bonomo/DATASET/BCI2b_IV/dataset/B0503T.gdf...\n",
            "GDF file detected\n",
            "Setting channel info structure...\n",
            "Could not determine channel type of the following channels, they will be set as EEG:\n",
            "EEG:C3, EEG:Cz, EEG:C4, EOG:ch01, EOG:ch02, EOG:ch03\n",
            "Creating raw.info structure...\n",
            "Reading 0 ... 461874  =      0.000 ...  1847.496 secs...\n"
          ]
        },
        {
          "name": "stderr",
          "output_type": "stream",
          "text": [
            "/home/giuseppe_bonomo/DATASET/BCI2b_IV/preprocess.py:203: RuntimeWarning: Highpass cutoff frequency 100.0 is greater than lowpass cutoff frequency 0.5, setting values to 0 and Nyquist.\n",
            "  raw = mne.io.read_raw_gdf(gdf_file, preload=True)\n"
          ]
        },
        {
          "name": "stdout",
          "output_type": "stream",
          "text": [
            "Filtering raw data in 1 contiguous segment\n",
            "Setting up band-pass filter from 0.5 - 1e+02 Hz\n",
            "\n",
            "FIR filter parameters\n",
            "---------------------\n",
            "Designing a one-pass, zero-phase, non-causal bandpass filter:\n",
            "- Windowed time-domain design (firwin) method\n",
            "- Hamming window with 0.0194 passband ripple and 53 dB stopband attenuation\n",
            "- Lower passband edge: 0.50\n",
            "- Lower transition bandwidth: 0.50 Hz (-6 dB cutoff frequency: 0.25 Hz)\n",
            "- Upper passband edge: 100.00 Hz\n",
            "- Upper transition bandwidth: 25.00 Hz (-6 dB cutoff frequency: 112.50 Hz)\n",
            "- Filter length: 1651 samples (6.604 s)\n",
            "\n",
            "NOTE: pick_channels() is a legacy function. New code should use inst.pick(...).\n",
            "Used Annotations descriptions: [np.str_('1023'), np.str_('1077'), np.str_('1078'), np.str_('1079'), np.str_('1081'), np.str_('276'), np.str_('277'), np.str_('32766'), np.str_('768'), np.str_('769'), np.str_('770'), np.str_('781')]\n",
            "Extracting EDF parameters from /home/giuseppe_bonomo/DATASET/BCI2b_IV/dataset/B0504E.gdf...\n",
            "GDF file detected\n",
            "Setting channel info structure...\n",
            "Could not determine channel type of the following channels, they will be set as EEG:\n",
            "EEG:C3, EEG:Cz, EEG:C4, EOG:ch01, EOG:ch02, EOG:ch03\n",
            "Creating raw.info structure...\n",
            "Reading 0 ... 417019  =      0.000 ...  1668.076 secs...\n"
          ]
        },
        {
          "name": "stderr",
          "output_type": "stream",
          "text": [
            "/home/giuseppe_bonomo/DATASET/BCI2b_IV/preprocess.py:203: RuntimeWarning: Highpass cutoff frequency 100.0 is greater than lowpass cutoff frequency 0.5, setting values to 0 and Nyquist.\n",
            "  raw = mne.io.read_raw_gdf(gdf_file, preload=True)\n"
          ]
        },
        {
          "name": "stdout",
          "output_type": "stream",
          "text": [
            "Filtering raw data in 1 contiguous segment\n",
            "Setting up band-pass filter from 0.5 - 1e+02 Hz\n",
            "\n",
            "FIR filter parameters\n",
            "---------------------\n",
            "Designing a one-pass, zero-phase, non-causal bandpass filter:\n",
            "- Windowed time-domain design (firwin) method\n",
            "- Hamming window with 0.0194 passband ripple and 53 dB stopband attenuation\n",
            "- Lower passband edge: 0.50\n",
            "- Lower transition bandwidth: 0.50 Hz (-6 dB cutoff frequency: 0.25 Hz)\n",
            "- Upper passband edge: 100.00 Hz\n",
            "- Upper transition bandwidth: 25.00 Hz (-6 dB cutoff frequency: 112.50 Hz)\n",
            "- Filter length: 1651 samples (6.604 s)\n",
            "\n",
            "NOTE: pick_channels() is a legacy function. New code should use inst.pick(...).\n",
            "Used Annotations descriptions: [np.str_('1023'), np.str_('32766'), np.str_('768'), np.str_('781'), np.str_('783')]\n",
            "Extracting EDF parameters from /home/giuseppe_bonomo/DATASET/BCI2b_IV/dataset/B0505E.gdf...\n",
            "GDF file detected\n",
            "Setting channel info structure...\n",
            "Could not determine channel type of the following channels, they will be set as EEG:\n",
            "EEG:C3, EEG:Cz, EEG:C4, EOG:ch01, EOG:ch02, EOG:ch03\n",
            "Creating raw.info structure...\n",
            "Reading 0 ... 464958  =      0.000 ...  1859.832 secs...\n"
          ]
        },
        {
          "name": "stderr",
          "output_type": "stream",
          "text": [
            "/home/giuseppe_bonomo/DATASET/BCI2b_IV/preprocess.py:203: RuntimeWarning: Highpass cutoff frequency 100.0 is greater than lowpass cutoff frequency 0.5, setting values to 0 and Nyquist.\n",
            "  raw = mne.io.read_raw_gdf(gdf_file, preload=True)\n"
          ]
        },
        {
          "name": "stdout",
          "output_type": "stream",
          "text": [
            "Filtering raw data in 1 contiguous segment\n",
            "Setting up band-pass filter from 0.5 - 1e+02 Hz\n",
            "\n",
            "FIR filter parameters\n",
            "---------------------\n",
            "Designing a one-pass, zero-phase, non-causal bandpass filter:\n",
            "- Windowed time-domain design (firwin) method\n",
            "- Hamming window with 0.0194 passband ripple and 53 dB stopband attenuation\n",
            "- Lower passband edge: 0.50\n",
            "- Lower transition bandwidth: 0.50 Hz (-6 dB cutoff frequency: 0.25 Hz)\n",
            "- Upper passband edge: 100.00 Hz\n",
            "- Upper transition bandwidth: 25.00 Hz (-6 dB cutoff frequency: 112.50 Hz)\n",
            "- Filter length: 1651 samples (6.604 s)\n",
            "\n",
            "NOTE: pick_channels() is a legacy function. New code should use inst.pick(...).\n",
            "Used Annotations descriptions: [np.str_('1023'), np.str_('1077'), np.str_('1078'), np.str_('1079'), np.str_('1081'), np.str_('276'), np.str_('277'), np.str_('32766'), np.str_('768'), np.str_('781'), np.str_('783')]\n",
            "Lunghezza originale del segnale: (52, 1, 3, 750)\n",
            "Livello 1: coeffs_approx shape (52, 1, 3, 750), lo_d shape (12,), hi_d shape (12,)\n",
            "Livello 2: coeffs_approx shape (52, 1, 3, 750), lo_d shape (13,), hi_d shape (13,)\n",
            "Livello 3: coeffs_approx shape (52, 1, 3, 750), lo_d shape (14,), hi_d shape (14,)\n",
            "Livello 4: coeffs_approx shape (52, 1, 3, 750), lo_d shape (14,), hi_d shape (14,)\n",
            "Lunghezza del segnale ricostruito: (52, 1, 3, 750)\n",
            "\u001b[1m1/2\u001b[0m \u001b[32m━━━━━━━━━━\u001b[0m\u001b[37m━━━━━━━━━━\u001b[0m \u001b[1m0s\u001b[0m 21ms/step"
          ]
        },
        {
          "name": "stderr",
          "output_type": "stream",
          "text": [
            "2025-04-08 14:42:08.143084: I external/local_xla/xla/stream_executor/cuda/subprocess_compilation.cc:346] ptxas warning : Registers are spilled to local memory in function 'gemm_fusion_dot_26', 8 bytes spill stores, 8 bytes spill loads\n",
            "\n"
          ]
        },
        {
          "name": "stdout",
          "output_type": "stream",
          "text": [
            "\u001b[1m2/2\u001b[0m \u001b[32m━━━━━━━━━━━━━━━━━━━━\u001b[0m\u001b[37m\u001b[0m \u001b[1m2s\u001b[0m 2s/step \n",
            "Extracting EDF parameters from /home/giuseppe_bonomo/DATASET/BCI2b_IV/dataset/B0601T.gdf...\n",
            "GDF file detected\n",
            "Setting channel info structure...\n",
            "Could not determine channel type of the following channels, they will be set as EEG:\n",
            "EEG:C3, EEG:Cz, EEG:C4, EOG:ch01, EOG:ch02, EOG:ch03\n",
            "Creating raw.info structure...\n",
            "Reading 0 ... 604802  =      0.000 ...  2419.208 secs...\n"
          ]
        },
        {
          "name": "stderr",
          "output_type": "stream",
          "text": [
            "/home/giuseppe_bonomo/DATASET/BCI2b_IV/preprocess.py:203: RuntimeWarning: Highpass cutoff frequency 100.0 is greater than lowpass cutoff frequency 0.5, setting values to 0 and Nyquist.\n",
            "  raw = mne.io.read_raw_gdf(gdf_file, preload=True)\n"
          ]
        },
        {
          "name": "stdout",
          "output_type": "stream",
          "text": [
            "Filtering raw data in 1 contiguous segment\n",
            "Setting up band-pass filter from 0.5 - 1e+02 Hz\n",
            "\n",
            "FIR filter parameters\n",
            "---------------------\n",
            "Designing a one-pass, zero-phase, non-causal bandpass filter:\n",
            "- Windowed time-domain design (firwin) method\n",
            "- Hamming window with 0.0194 passband ripple and 53 dB stopband attenuation\n",
            "- Lower passband edge: 0.50\n",
            "- Lower transition bandwidth: 0.50 Hz (-6 dB cutoff frequency: 0.25 Hz)\n",
            "- Upper passband edge: 100.00 Hz\n",
            "- Upper transition bandwidth: 25.00 Hz (-6 dB cutoff frequency: 112.50 Hz)\n",
            "- Filter length: 1651 samples (6.604 s)\n",
            "\n",
            "NOTE: pick_channels() is a legacy function. New code should use inst.pick(...).\n",
            "Used Annotations descriptions: [np.str_('1023'), np.str_('1077'), np.str_('1078'), np.str_('1079'), np.str_('1081'), np.str_('276'), np.str_('277'), np.str_('32766'), np.str_('768'), np.str_('769'), np.str_('770')]\n",
            "Extracting EDF parameters from /home/giuseppe_bonomo/DATASET/BCI2b_IV/dataset/B0602T.gdf...\n",
            "GDF file detected\n",
            "Setting channel info structure...\n",
            "Could not determine channel type of the following channels, they will be set as EEG:\n",
            "EEG:C3, EEG:Cz, EEG:C4, EOG:ch01, EOG:ch02, EOG:ch03\n",
            "Creating raw.info structure...\n",
            "Reading 0 ... 604802  =      0.000 ...  2419.208 secs...\n"
          ]
        },
        {
          "name": "stderr",
          "output_type": "stream",
          "text": [
            "/home/giuseppe_bonomo/DATASET/BCI2b_IV/preprocess.py:203: RuntimeWarning: Highpass cutoff frequency 100.0 is greater than lowpass cutoff frequency 0.5, setting values to 0 and Nyquist.\n",
            "  raw = mne.io.read_raw_gdf(gdf_file, preload=True)\n"
          ]
        },
        {
          "name": "stdout",
          "output_type": "stream",
          "text": [
            "Filtering raw data in 1 contiguous segment\n",
            "Setting up band-pass filter from 0.5 - 1e+02 Hz\n",
            "\n",
            "FIR filter parameters\n",
            "---------------------\n",
            "Designing a one-pass, zero-phase, non-causal bandpass filter:\n",
            "- Windowed time-domain design (firwin) method\n",
            "- Hamming window with 0.0194 passband ripple and 53 dB stopband attenuation\n",
            "- Lower passband edge: 0.50\n",
            "- Lower transition bandwidth: 0.50 Hz (-6 dB cutoff frequency: 0.25 Hz)\n",
            "- Upper passband edge: 100.00 Hz\n",
            "- Upper transition bandwidth: 25.00 Hz (-6 dB cutoff frequency: 112.50 Hz)\n",
            "- Filter length: 1651 samples (6.604 s)\n",
            "\n",
            "NOTE: pick_channels() is a legacy function. New code should use inst.pick(...).\n",
            "Used Annotations descriptions: [np.str_('1023'), np.str_('1077'), np.str_('1078'), np.str_('1079'), np.str_('1081'), np.str_('276'), np.str_('277'), np.str_('32766'), np.str_('768'), np.str_('769'), np.str_('770')]\n",
            "Extracting EDF parameters from /home/giuseppe_bonomo/DATASET/BCI2b_IV/dataset/B0603T.gdf...\n",
            "GDF file detected\n",
            "Setting channel info structure...\n",
            "Could not determine channel type of the following channels, they will be set as EEG:\n",
            "EEG:C3, EEG:Cz, EEG:C4, EOG:ch01, EOG:ch02, EOG:ch03\n",
            "Creating raw.info structure...\n",
            "Reading 0 ... 470390  =      0.000 ...  1881.560 secs...\n"
          ]
        },
        {
          "name": "stderr",
          "output_type": "stream",
          "text": [
            "/home/giuseppe_bonomo/DATASET/BCI2b_IV/preprocess.py:203: RuntimeWarning: Highpass cutoff frequency 100.0 is greater than lowpass cutoff frequency 0.5, setting values to 0 and Nyquist.\n",
            "  raw = mne.io.read_raw_gdf(gdf_file, preload=True)\n"
          ]
        },
        {
          "name": "stdout",
          "output_type": "stream",
          "text": [
            "Filtering raw data in 1 contiguous segment\n",
            "Setting up band-pass filter from 0.5 - 1e+02 Hz\n",
            "\n",
            "FIR filter parameters\n",
            "---------------------\n",
            "Designing a one-pass, zero-phase, non-causal bandpass filter:\n",
            "- Windowed time-domain design (firwin) method\n",
            "- Hamming window with 0.0194 passband ripple and 53 dB stopband attenuation\n",
            "- Lower passband edge: 0.50\n",
            "- Lower transition bandwidth: 0.50 Hz (-6 dB cutoff frequency: 0.25 Hz)\n",
            "- Upper passband edge: 100.00 Hz\n",
            "- Upper transition bandwidth: 25.00 Hz (-6 dB cutoff frequency: 112.50 Hz)\n",
            "- Filter length: 1651 samples (6.604 s)\n",
            "\n",
            "NOTE: pick_channels() is a legacy function. New code should use inst.pick(...).\n",
            "Used Annotations descriptions: [np.str_('1023'), np.str_('1077'), np.str_('1078'), np.str_('1079'), np.str_('1081'), np.str_('276'), np.str_('277'), np.str_('32766'), np.str_('768'), np.str_('769'), np.str_('770'), np.str_('781')]\n",
            "Extracting EDF parameters from /home/giuseppe_bonomo/DATASET/BCI2b_IV/dataset/B0604E.gdf...\n",
            "GDF file detected\n",
            "Setting channel info structure...\n",
            "Could not determine channel type of the following channels, they will be set as EEG:\n",
            "EEG:C3, EEG:Cz, EEG:C4, EOG:ch01, EOG:ch02, EOG:ch03\n",
            "Creating raw.info structure...\n",
            "Reading 0 ... 469990  =      0.000 ...  1879.960 secs...\n"
          ]
        },
        {
          "name": "stderr",
          "output_type": "stream",
          "text": [
            "/home/giuseppe_bonomo/DATASET/BCI2b_IV/preprocess.py:203: RuntimeWarning: Highpass cutoff frequency 100.0 is greater than lowpass cutoff frequency 0.5, setting values to 0 and Nyquist.\n",
            "  raw = mne.io.read_raw_gdf(gdf_file, preload=True)\n"
          ]
        },
        {
          "name": "stdout",
          "output_type": "stream",
          "text": [
            "Filtering raw data in 1 contiguous segment\n",
            "Setting up band-pass filter from 0.5 - 1e+02 Hz\n",
            "\n",
            "FIR filter parameters\n",
            "---------------------\n",
            "Designing a one-pass, zero-phase, non-causal bandpass filter:\n",
            "- Windowed time-domain design (firwin) method\n",
            "- Hamming window with 0.0194 passband ripple and 53 dB stopband attenuation\n",
            "- Lower passband edge: 0.50\n",
            "- Lower transition bandwidth: 0.50 Hz (-6 dB cutoff frequency: 0.25 Hz)\n",
            "- Upper passband edge: 100.00 Hz\n",
            "- Upper transition bandwidth: 25.00 Hz (-6 dB cutoff frequency: 112.50 Hz)\n",
            "- Filter length: 1651 samples (6.604 s)\n",
            "\n",
            "NOTE: pick_channels() is a legacy function. New code should use inst.pick(...).\n",
            "Used Annotations descriptions: [np.str_('1023'), np.str_('1077'), np.str_('1078'), np.str_('1079'), np.str_('1081'), np.str_('276'), np.str_('277'), np.str_('32766'), np.str_('768'), np.str_('781'), np.str_('783')]\n",
            "Extracting EDF parameters from /home/giuseppe_bonomo/DATASET/BCI2b_IV/dataset/B0605E.gdf...\n",
            "GDF file detected\n",
            "Setting channel info structure...\n",
            "Could not determine channel type of the following channels, they will be set as EEG:\n",
            "EEG:C3, EEG:Cz, EEG:C4, EOG:ch01, EOG:ch02, EOG:ch03\n",
            "Creating raw.info structure...\n",
            "Reading 0 ... 460902  =      0.000 ...  1843.608 secs...\n"
          ]
        },
        {
          "name": "stderr",
          "output_type": "stream",
          "text": [
            "/home/giuseppe_bonomo/DATASET/BCI2b_IV/preprocess.py:203: RuntimeWarning: Highpass cutoff frequency 100.0 is greater than lowpass cutoff frequency 0.5, setting values to 0 and Nyquist.\n",
            "  raw = mne.io.read_raw_gdf(gdf_file, preload=True)\n"
          ]
        },
        {
          "name": "stdout",
          "output_type": "stream",
          "text": [
            "Filtering raw data in 1 contiguous segment\n",
            "Setting up band-pass filter from 0.5 - 1e+02 Hz\n",
            "\n",
            "FIR filter parameters\n",
            "---------------------\n",
            "Designing a one-pass, zero-phase, non-causal bandpass filter:\n",
            "- Windowed time-domain design (firwin) method\n",
            "- Hamming window with 0.0194 passband ripple and 53 dB stopband attenuation\n",
            "- Lower passband edge: 0.50\n",
            "- Lower transition bandwidth: 0.50 Hz (-6 dB cutoff frequency: 0.25 Hz)\n",
            "- Upper passband edge: 100.00 Hz\n",
            "- Upper transition bandwidth: 25.00 Hz (-6 dB cutoff frequency: 112.50 Hz)\n",
            "- Filter length: 1651 samples (6.604 s)\n",
            "\n",
            "NOTE: pick_channels() is a legacy function. New code should use inst.pick(...).\n",
            "Used Annotations descriptions: [np.str_('1023'), np.str_('1077'), np.str_('1078'), np.str_('1079'), np.str_('1081'), np.str_('276'), np.str_('277'), np.str_('32766'), np.str_('768'), np.str_('781'), np.str_('783')]\n",
            "Lunghezza originale del segnale: (71, 1, 3, 750)\n",
            "Livello 1: coeffs_approx shape (71, 1, 3, 750), lo_d shape (12,), hi_d shape (12,)\n",
            "Livello 2: coeffs_approx shape (71, 1, 3, 750), lo_d shape (13,), hi_d shape (13,)\n",
            "Livello 3: coeffs_approx shape (71, 1, 3, 750), lo_d shape (14,), hi_d shape (14,)\n",
            "Livello 4: coeffs_approx shape (71, 1, 3, 750), lo_d shape (14,), hi_d shape (14,)\n",
            "Lunghezza del segnale ricostruito: (71, 1, 3, 750)\n",
            "\u001b[1m3/3\u001b[0m \u001b[32m━━━━━━━━━━━━━━━━━━━━\u001b[0m\u001b[37m\u001b[0m \u001b[1m2s\u001b[0m 1s/step \n",
            "Extracting EDF parameters from /home/giuseppe_bonomo/DATASET/BCI2b_IV/dataset/B0701T.gdf...\n",
            "GDF file detected\n",
            "Setting channel info structure...\n",
            "Could not determine channel type of the following channels, they will be set as EEG:\n",
            "EEG:C3, EEG:Cz, EEG:C4, EOG:ch01, EOG:ch02, EOG:ch03\n",
            "Creating raw.info structure...\n",
            "Reading 0 ... 604802  =      0.000 ...  2419.208 secs...\n"
          ]
        },
        {
          "name": "stderr",
          "output_type": "stream",
          "text": [
            "/home/giuseppe_bonomo/DATASET/BCI2b_IV/preprocess.py:203: RuntimeWarning: Highpass cutoff frequency 100.0 is greater than lowpass cutoff frequency 0.5, setting values to 0 and Nyquist.\n",
            "  raw = mne.io.read_raw_gdf(gdf_file, preload=True)\n"
          ]
        },
        {
          "name": "stdout",
          "output_type": "stream",
          "text": [
            "Filtering raw data in 1 contiguous segment\n",
            "Setting up band-pass filter from 0.5 - 1e+02 Hz\n",
            "\n",
            "FIR filter parameters\n",
            "---------------------\n",
            "Designing a one-pass, zero-phase, non-causal bandpass filter:\n",
            "- Windowed time-domain design (firwin) method\n",
            "- Hamming window with 0.0194 passband ripple and 53 dB stopband attenuation\n",
            "- Lower passband edge: 0.50\n",
            "- Lower transition bandwidth: 0.50 Hz (-6 dB cutoff frequency: 0.25 Hz)\n",
            "- Upper passband edge: 100.00 Hz\n",
            "- Upper transition bandwidth: 25.00 Hz (-6 dB cutoff frequency: 112.50 Hz)\n",
            "- Filter length: 1651 samples (6.604 s)\n",
            "\n",
            "NOTE: pick_channels() is a legacy function. New code should use inst.pick(...).\n",
            "Used Annotations descriptions: [np.str_('1023'), np.str_('1077'), np.str_('1078'), np.str_('1079'), np.str_('1081'), np.str_('276'), np.str_('277'), np.str_('32766'), np.str_('768'), np.str_('769'), np.str_('770')]\n",
            "Extracting EDF parameters from /home/giuseppe_bonomo/DATASET/BCI2b_IV/dataset/B0702T.gdf...\n",
            "GDF file detected\n",
            "Setting channel info structure...\n",
            "Could not determine channel type of the following channels, they will be set as EEG:\n",
            "EEG:C3, EEG:Cz, EEG:C4, EOG:ch01, EOG:ch02, EOG:ch03\n",
            "Creating raw.info structure...\n",
            "Reading 0 ... 604802  =      0.000 ...  2419.208 secs...\n"
          ]
        },
        {
          "name": "stderr",
          "output_type": "stream",
          "text": [
            "/home/giuseppe_bonomo/DATASET/BCI2b_IV/preprocess.py:203: RuntimeWarning: Highpass cutoff frequency 100.0 is greater than lowpass cutoff frequency 0.5, setting values to 0 and Nyquist.\n",
            "  raw = mne.io.read_raw_gdf(gdf_file, preload=True)\n"
          ]
        },
        {
          "name": "stdout",
          "output_type": "stream",
          "text": [
            "Filtering raw data in 1 contiguous segment\n",
            "Setting up band-pass filter from 0.5 - 1e+02 Hz\n",
            "\n",
            "FIR filter parameters\n",
            "---------------------\n",
            "Designing a one-pass, zero-phase, non-causal bandpass filter:\n",
            "- Windowed time-domain design (firwin) method\n",
            "- Hamming window with 0.0194 passband ripple and 53 dB stopband attenuation\n",
            "- Lower passband edge: 0.50\n",
            "- Lower transition bandwidth: 0.50 Hz (-6 dB cutoff frequency: 0.25 Hz)\n",
            "- Upper passband edge: 100.00 Hz\n",
            "- Upper transition bandwidth: 25.00 Hz (-6 dB cutoff frequency: 112.50 Hz)\n",
            "- Filter length: 1651 samples (6.604 s)\n",
            "\n",
            "NOTE: pick_channels() is a legacy function. New code should use inst.pick(...).\n",
            "Used Annotations descriptions: [np.str_('1023'), np.str_('1077'), np.str_('1078'), np.str_('1079'), np.str_('1081'), np.str_('276'), np.str_('277'), np.str_('32766'), np.str_('768'), np.str_('769'), np.str_('770')]\n",
            "Extracting EDF parameters from /home/giuseppe_bonomo/DATASET/BCI2b_IV/dataset/B0703T.gdf...\n",
            "GDF file detected\n",
            "Setting channel info structure...\n",
            "Could not determine channel type of the following channels, they will be set as EEG:\n",
            "EEG:C3, EEG:Cz, EEG:C4, EOG:ch01, EOG:ch02, EOG:ch03\n",
            "Creating raw.info structure...\n",
            "Reading 0 ... 466726  =      0.000 ...  1866.904 secs...\n"
          ]
        },
        {
          "name": "stderr",
          "output_type": "stream",
          "text": [
            "/home/giuseppe_bonomo/DATASET/BCI2b_IV/preprocess.py:203: RuntimeWarning: Highpass cutoff frequency 100.0 is greater than lowpass cutoff frequency 0.5, setting values to 0 and Nyquist.\n",
            "  raw = mne.io.read_raw_gdf(gdf_file, preload=True)\n"
          ]
        },
        {
          "name": "stdout",
          "output_type": "stream",
          "text": [
            "Filtering raw data in 1 contiguous segment\n",
            "Setting up band-pass filter from 0.5 - 1e+02 Hz\n",
            "\n",
            "FIR filter parameters\n",
            "---------------------\n",
            "Designing a one-pass, zero-phase, non-causal bandpass filter:\n",
            "- Windowed time-domain design (firwin) method\n",
            "- Hamming window with 0.0194 passband ripple and 53 dB stopband attenuation\n",
            "- Lower passband edge: 0.50\n",
            "- Lower transition bandwidth: 0.50 Hz (-6 dB cutoff frequency: 0.25 Hz)\n",
            "- Upper passband edge: 100.00 Hz\n",
            "- Upper transition bandwidth: 25.00 Hz (-6 dB cutoff frequency: 112.50 Hz)\n",
            "- Filter length: 1651 samples (6.604 s)\n",
            "\n",
            "NOTE: pick_channels() is a legacy function. New code should use inst.pick(...).\n",
            "Used Annotations descriptions: [np.str_('1023'), np.str_('1077'), np.str_('1078'), np.str_('1079'), np.str_('1081'), np.str_('276'), np.str_('277'), np.str_('32766'), np.str_('768'), np.str_('769'), np.str_('770'), np.str_('781')]\n",
            "Extracting EDF parameters from /home/giuseppe_bonomo/DATASET/BCI2b_IV/dataset/B0704E.gdf...\n",
            "GDF file detected\n",
            "Setting channel info structure...\n",
            "Could not determine channel type of the following channels, they will be set as EEG:\n",
            "EEG:C3, EEG:Cz, EEG:C4, EOG:ch01, EOG:ch02, EOG:ch03\n",
            "Creating raw.info structure...\n",
            "Reading 0 ... 470343  =      0.000 ...  1881.372 secs...\n"
          ]
        },
        {
          "name": "stderr",
          "output_type": "stream",
          "text": [
            "/home/giuseppe_bonomo/DATASET/BCI2b_IV/preprocess.py:203: RuntimeWarning: Highpass cutoff frequency 100.0 is greater than lowpass cutoff frequency 0.5, setting values to 0 and Nyquist.\n",
            "  raw = mne.io.read_raw_gdf(gdf_file, preload=True)\n"
          ]
        },
        {
          "name": "stdout",
          "output_type": "stream",
          "text": [
            "Filtering raw data in 1 contiguous segment\n",
            "Setting up band-pass filter from 0.5 - 1e+02 Hz\n",
            "\n",
            "FIR filter parameters\n",
            "---------------------\n",
            "Designing a one-pass, zero-phase, non-causal bandpass filter:\n",
            "- Windowed time-domain design (firwin) method\n",
            "- Hamming window with 0.0194 passband ripple and 53 dB stopband attenuation\n",
            "- Lower passband edge: 0.50\n",
            "- Lower transition bandwidth: 0.50 Hz (-6 dB cutoff frequency: 0.25 Hz)\n",
            "- Upper passband edge: 100.00 Hz\n",
            "- Upper transition bandwidth: 25.00 Hz (-6 dB cutoff frequency: 112.50 Hz)\n",
            "- Filter length: 1651 samples (6.604 s)\n",
            "\n",
            "NOTE: pick_channels() is a legacy function. New code should use inst.pick(...).\n",
            "Used Annotations descriptions: [np.str_('1023'), np.str_('1077'), np.str_('1078'), np.str_('1079'), np.str_('1081'), np.str_('276'), np.str_('277'), np.str_('32766'), np.str_('768'), np.str_('781'), np.str_('783')]\n",
            "Extracting EDF parameters from /home/giuseppe_bonomo/DATASET/BCI2b_IV/dataset/B0705E.gdf...\n",
            "GDF file detected\n",
            "Setting channel info structure...\n",
            "Could not determine channel type of the following channels, they will be set as EEG:\n",
            "EEG:C3, EEG:Cz, EEG:C4, EOG:ch01, EOG:ch02, EOG:ch03\n",
            "Creating raw.info structure...\n",
            "Reading 0 ... 460894  =      0.000 ...  1843.576 secs...\n"
          ]
        },
        {
          "name": "stderr",
          "output_type": "stream",
          "text": [
            "/home/giuseppe_bonomo/DATASET/BCI2b_IV/preprocess.py:203: RuntimeWarning: Highpass cutoff frequency 100.0 is greater than lowpass cutoff frequency 0.5, setting values to 0 and Nyquist.\n",
            "  raw = mne.io.read_raw_gdf(gdf_file, preload=True)\n"
          ]
        },
        {
          "name": "stdout",
          "output_type": "stream",
          "text": [
            "Filtering raw data in 1 contiguous segment\n",
            "Setting up band-pass filter from 0.5 - 1e+02 Hz\n",
            "\n",
            "FIR filter parameters\n",
            "---------------------\n",
            "Designing a one-pass, zero-phase, non-causal bandpass filter:\n",
            "- Windowed time-domain design (firwin) method\n",
            "- Hamming window with 0.0194 passband ripple and 53 dB stopband attenuation\n",
            "- Lower passband edge: 0.50\n",
            "- Lower transition bandwidth: 0.50 Hz (-6 dB cutoff frequency: 0.25 Hz)\n",
            "- Upper passband edge: 100.00 Hz\n",
            "- Upper transition bandwidth: 25.00 Hz (-6 dB cutoff frequency: 112.50 Hz)\n",
            "- Filter length: 1651 samples (6.604 s)\n",
            "\n",
            "NOTE: pick_channels() is a legacy function. New code should use inst.pick(...).\n",
            "Used Annotations descriptions: [np.str_('1023'), np.str_('1077'), np.str_('1078'), np.str_('1079'), np.str_('1081'), np.str_('276'), np.str_('277'), np.str_('32766'), np.str_('768'), np.str_('781'), np.str_('783')]\n",
            "Lunghezza originale del segnale: (90, 1, 3, 750)\n",
            "Livello 1: coeffs_approx shape (90, 1, 3, 750), lo_d shape (12,), hi_d shape (12,)\n",
            "Livello 2: coeffs_approx shape (90, 1, 3, 750), lo_d shape (13,), hi_d shape (13,)\n",
            "Livello 3: coeffs_approx shape (90, 1, 3, 750), lo_d shape (14,), hi_d shape (14,)\n",
            "Livello 4: coeffs_approx shape (90, 1, 3, 750), lo_d shape (14,), hi_d shape (14,)\n",
            "Lunghezza del segnale ricostruito: (90, 1, 3, 750)\n",
            "\u001b[1m1/3\u001b[0m \u001b[32m━━━━━━\u001b[0m\u001b[37m━━━━━━━━━━━━━━\u001b[0m \u001b[1m0s\u001b[0m 21ms/step"
          ]
        },
        {
          "name": "stderr",
          "output_type": "stream",
          "text": [
            "2025-04-08 14:42:17.374418: I external/local_xla/xla/stream_executor/cuda/subprocess_compilation.cc:346] ptxas warning : Registers are spilled to local memory in function 'gemm_fusion_dot_26', 8 bytes spill stores, 8 bytes spill loads\n",
            "\n"
          ]
        },
        {
          "name": "stdout",
          "output_type": "stream",
          "text": [
            "\u001b[1m3/3\u001b[0m \u001b[32m━━━━━━━━━━━━━━━━━━━━\u001b[0m\u001b[37m\u001b[0m \u001b[1m2s\u001b[0m 1s/step \n",
            "Extracting EDF parameters from /home/giuseppe_bonomo/DATASET/BCI2b_IV/dataset/B0801T.gdf...\n",
            "GDF file detected\n",
            "Setting channel info structure...\n",
            "Could not determine channel type of the following channels, they will be set as EEG:\n",
            "EEG:C3, EEG:Cz, EEG:C4, EOG:ch01, EOG:ch02, EOG:ch03\n",
            "Creating raw.info structure...\n",
            "Reading 0 ... 787728  =      0.000 ...  3150.912 secs...\n"
          ]
        },
        {
          "name": "stderr",
          "output_type": "stream",
          "text": [
            "/home/giuseppe_bonomo/DATASET/BCI2b_IV/preprocess.py:203: RuntimeWarning: Highpass cutoff frequency 100.0 is greater than lowpass cutoff frequency 0.5, setting values to 0 and Nyquist.\n",
            "  raw = mne.io.read_raw_gdf(gdf_file, preload=True)\n"
          ]
        },
        {
          "name": "stdout",
          "output_type": "stream",
          "text": [
            "Filtering raw data in 1 contiguous segment\n",
            "Setting up band-pass filter from 0.5 - 1e+02 Hz\n",
            "\n",
            "FIR filter parameters\n",
            "---------------------\n",
            "Designing a one-pass, zero-phase, non-causal bandpass filter:\n",
            "- Windowed time-domain design (firwin) method\n",
            "- Hamming window with 0.0194 passband ripple and 53 dB stopband attenuation\n",
            "- Lower passband edge: 0.50\n",
            "- Lower transition bandwidth: 0.50 Hz (-6 dB cutoff frequency: 0.25 Hz)\n",
            "- Upper passband edge: 100.00 Hz\n",
            "- Upper transition bandwidth: 25.00 Hz (-6 dB cutoff frequency: 112.50 Hz)\n",
            "- Filter length: 1651 samples (6.604 s)\n",
            "\n",
            "NOTE: pick_channels() is a legacy function. New code should use inst.pick(...).\n",
            "Used Annotations descriptions: [np.str_('1023'), np.str_('1077'), np.str_('1078'), np.str_('1079'), np.str_('1081'), np.str_('276'), np.str_('277'), np.str_('32766'), np.str_('768'), np.str_('769'), np.str_('770')]\n",
            "Extracting EDF parameters from /home/giuseppe_bonomo/DATASET/BCI2b_IV/dataset/B0802T.gdf...\n",
            "GDF file detected\n",
            "Setting channel info structure...\n",
            "Could not determine channel type of the following channels, they will be set as EEG:\n",
            "EEG:C3, EEG:Cz, EEG:C4, EOG:ch01, EOG:ch02, EOG:ch03\n",
            "Creating raw.info structure...\n",
            "Reading 0 ... 604802  =      0.000 ...  2419.208 secs...\n"
          ]
        },
        {
          "name": "stderr",
          "output_type": "stream",
          "text": [
            "/home/giuseppe_bonomo/DATASET/BCI2b_IV/preprocess.py:203: RuntimeWarning: Highpass cutoff frequency 100.0 is greater than lowpass cutoff frequency 0.5, setting values to 0 and Nyquist.\n",
            "  raw = mne.io.read_raw_gdf(gdf_file, preload=True)\n"
          ]
        },
        {
          "name": "stdout",
          "output_type": "stream",
          "text": [
            "Filtering raw data in 1 contiguous segment\n",
            "Setting up band-pass filter from 0.5 - 1e+02 Hz\n",
            "\n",
            "FIR filter parameters\n",
            "---------------------\n",
            "Designing a one-pass, zero-phase, non-causal bandpass filter:\n",
            "- Windowed time-domain design (firwin) method\n",
            "- Hamming window with 0.0194 passband ripple and 53 dB stopband attenuation\n",
            "- Lower passband edge: 0.50\n",
            "- Lower transition bandwidth: 0.50 Hz (-6 dB cutoff frequency: 0.25 Hz)\n",
            "- Upper passband edge: 100.00 Hz\n",
            "- Upper transition bandwidth: 25.00 Hz (-6 dB cutoff frequency: 112.50 Hz)\n",
            "- Filter length: 1651 samples (6.604 s)\n",
            "\n",
            "NOTE: pick_channels() is a legacy function. New code should use inst.pick(...).\n",
            "Used Annotations descriptions: [np.str_('1023'), np.str_('1077'), np.str_('1078'), np.str_('1079'), np.str_('1081'), np.str_('276'), np.str_('277'), np.str_('32766'), np.str_('768'), np.str_('769'), np.str_('770')]\n",
            "Extracting EDF parameters from /home/giuseppe_bonomo/DATASET/BCI2b_IV/dataset/B0803T.gdf...\n",
            "GDF file detected\n",
            "Setting channel info structure...\n",
            "Could not determine channel type of the following channels, they will be set as EEG:\n",
            "EEG:C3, EEG:Cz, EEG:C4, EOG:ch01, EOG:ch02, EOG:ch03\n",
            "Creating raw.info structure...\n",
            "Reading 0 ... 474834  =      0.000 ...  1899.336 secs...\n"
          ]
        },
        {
          "name": "stderr",
          "output_type": "stream",
          "text": [
            "/home/giuseppe_bonomo/DATASET/BCI2b_IV/preprocess.py:203: RuntimeWarning: Highpass cutoff frequency 100.0 is greater than lowpass cutoff frequency 0.5, setting values to 0 and Nyquist.\n",
            "  raw = mne.io.read_raw_gdf(gdf_file, preload=True)\n"
          ]
        },
        {
          "name": "stdout",
          "output_type": "stream",
          "text": [
            "Filtering raw data in 1 contiguous segment\n",
            "Setting up band-pass filter from 0.5 - 1e+02 Hz\n",
            "\n",
            "FIR filter parameters\n",
            "---------------------\n",
            "Designing a one-pass, zero-phase, non-causal bandpass filter:\n",
            "- Windowed time-domain design (firwin) method\n",
            "- Hamming window with 0.0194 passband ripple and 53 dB stopband attenuation\n",
            "- Lower passband edge: 0.50\n",
            "- Lower transition bandwidth: 0.50 Hz (-6 dB cutoff frequency: 0.25 Hz)\n",
            "- Upper passband edge: 100.00 Hz\n",
            "- Upper transition bandwidth: 25.00 Hz (-6 dB cutoff frequency: 112.50 Hz)\n",
            "- Filter length: 1651 samples (6.604 s)\n",
            "\n",
            "NOTE: pick_channels() is a legacy function. New code should use inst.pick(...).\n",
            "Used Annotations descriptions: [np.str_('1023'), np.str_('1077'), np.str_('1078'), np.str_('1079'), np.str_('1081'), np.str_('276'), np.str_('277'), np.str_('32766'), np.str_('768'), np.str_('769'), np.str_('770'), np.str_('781')]\n",
            "Extracting EDF parameters from /home/giuseppe_bonomo/DATASET/BCI2b_IV/dataset/B0804E.gdf...\n",
            "GDF file detected\n",
            "Setting channel info structure...\n",
            "Could not determine channel type of the following channels, they will be set as EEG:\n",
            "EEG:C3, EEG:Cz, EEG:C4, EOG:ch01, EOG:ch02, EOG:ch03\n",
            "Creating raw.info structure...\n",
            "Reading 0 ... 474834  =      0.000 ...  1899.336 secs...\n"
          ]
        },
        {
          "name": "stderr",
          "output_type": "stream",
          "text": [
            "/home/giuseppe_bonomo/DATASET/BCI2b_IV/preprocess.py:203: RuntimeWarning: Highpass cutoff frequency 100.0 is greater than lowpass cutoff frequency 0.5, setting values to 0 and Nyquist.\n",
            "  raw = mne.io.read_raw_gdf(gdf_file, preload=True)\n"
          ]
        },
        {
          "name": "stdout",
          "output_type": "stream",
          "text": [
            "Filtering raw data in 1 contiguous segment\n",
            "Setting up band-pass filter from 0.5 - 1e+02 Hz\n",
            "\n",
            "FIR filter parameters\n",
            "---------------------\n",
            "Designing a one-pass, zero-phase, non-causal bandpass filter:\n",
            "- Windowed time-domain design (firwin) method\n",
            "- Hamming window with 0.0194 passband ripple and 53 dB stopband attenuation\n",
            "- Lower passband edge: 0.50\n",
            "- Lower transition bandwidth: 0.50 Hz (-6 dB cutoff frequency: 0.25 Hz)\n",
            "- Upper passband edge: 100.00 Hz\n",
            "- Upper transition bandwidth: 25.00 Hz (-6 dB cutoff frequency: 112.50 Hz)\n",
            "- Filter length: 1651 samples (6.604 s)\n",
            "\n",
            "NOTE: pick_channels() is a legacy function. New code should use inst.pick(...).\n",
            "Used Annotations descriptions: [np.str_('1023'), np.str_('1077'), np.str_('1078'), np.str_('1079'), np.str_('1081'), np.str_('276'), np.str_('277'), np.str_('32766'), np.str_('768'), np.str_('781'), np.str_('783')]\n",
            "Extracting EDF parameters from /home/giuseppe_bonomo/DATASET/BCI2b_IV/dataset/B0805E.gdf...\n",
            "GDF file detected\n",
            "Setting channel info structure...\n",
            "Could not determine channel type of the following channels, they will be set as EEG:\n",
            "EEG:C3, EEG:Cz, EEG:C4, EOG:ch01, EOG:ch02, EOG:ch03\n",
            "Creating raw.info structure...\n",
            "Reading 0 ... 464306  =      0.000 ...  1857.224 secs...\n"
          ]
        },
        {
          "name": "stderr",
          "output_type": "stream",
          "text": [
            "/home/giuseppe_bonomo/DATASET/BCI2b_IV/preprocess.py:203: RuntimeWarning: Highpass cutoff frequency 100.0 is greater than lowpass cutoff frequency 0.5, setting values to 0 and Nyquist.\n",
            "  raw = mne.io.read_raw_gdf(gdf_file, preload=True)\n"
          ]
        },
        {
          "name": "stdout",
          "output_type": "stream",
          "text": [
            "Filtering raw data in 1 contiguous segment\n",
            "Setting up band-pass filter from 0.5 - 1e+02 Hz\n",
            "\n",
            "FIR filter parameters\n",
            "---------------------\n",
            "Designing a one-pass, zero-phase, non-causal bandpass filter:\n",
            "- Windowed time-domain design (firwin) method\n",
            "- Hamming window with 0.0194 passband ripple and 53 dB stopband attenuation\n",
            "- Lower passband edge: 0.50\n",
            "- Lower transition bandwidth: 0.50 Hz (-6 dB cutoff frequency: 0.25 Hz)\n",
            "- Upper passband edge: 100.00 Hz\n",
            "- Upper transition bandwidth: 25.00 Hz (-6 dB cutoff frequency: 112.50 Hz)\n",
            "- Filter length: 1651 samples (6.604 s)\n",
            "\n",
            "NOTE: pick_channels() is a legacy function. New code should use inst.pick(...).\n",
            "Used Annotations descriptions: [np.str_('1023'), np.str_('1077'), np.str_('1078'), np.str_('1079'), np.str_('1081'), np.str_('276'), np.str_('277'), np.str_('32766'), np.str_('768'), np.str_('781'), np.str_('783')]\n",
            "Lunghezza originale del segnale: (92, 1, 3, 750)\n",
            "Livello 1: coeffs_approx shape (92, 1, 3, 750), lo_d shape (12,), hi_d shape (12,)\n",
            "Livello 2: coeffs_approx shape (92, 1, 3, 750), lo_d shape (13,), hi_d shape (13,)\n",
            "Livello 3: coeffs_approx shape (92, 1, 3, 750), lo_d shape (14,), hi_d shape (14,)\n",
            "Livello 4: coeffs_approx shape (92, 1, 3, 750), lo_d shape (14,), hi_d shape (14,)\n",
            "Lunghezza del segnale ricostruito: (92, 1, 3, 750)\n",
            "\u001b[1m3/3\u001b[0m \u001b[32m━━━━━━━━━━━━━━━━━━━━\u001b[0m\u001b[37m\u001b[0m \u001b[1m0s\u001b[0m 12ms/step\n",
            "Extracting EDF parameters from /home/giuseppe_bonomo/DATASET/BCI2b_IV/dataset/B0901T.gdf...\n",
            "GDF file detected\n",
            "Setting channel info structure...\n",
            "Could not determine channel type of the following channels, they will be set as EEG:\n",
            "EEG:C3, EEG:Cz, EEG:C4, EOG:ch01, EOG:ch02, EOG:ch03\n",
            "Creating raw.info structure...\n",
            "Reading 0 ... 604802  =      0.000 ...  2419.208 secs...\n"
          ]
        },
        {
          "name": "stderr",
          "output_type": "stream",
          "text": [
            "/home/giuseppe_bonomo/DATASET/BCI2b_IV/preprocess.py:203: RuntimeWarning: Highpass cutoff frequency 100.0 is greater than lowpass cutoff frequency 0.5, setting values to 0 and Nyquist.\n",
            "  raw = mne.io.read_raw_gdf(gdf_file, preload=True)\n"
          ]
        },
        {
          "name": "stdout",
          "output_type": "stream",
          "text": [
            "Filtering raw data in 1 contiguous segment\n",
            "Setting up band-pass filter from 0.5 - 1e+02 Hz\n",
            "\n",
            "FIR filter parameters\n",
            "---------------------\n",
            "Designing a one-pass, zero-phase, non-causal bandpass filter:\n",
            "- Windowed time-domain design (firwin) method\n",
            "- Hamming window with 0.0194 passband ripple and 53 dB stopband attenuation\n",
            "- Lower passband edge: 0.50\n",
            "- Lower transition bandwidth: 0.50 Hz (-6 dB cutoff frequency: 0.25 Hz)\n",
            "- Upper passband edge: 100.00 Hz\n",
            "- Upper transition bandwidth: 25.00 Hz (-6 dB cutoff frequency: 112.50 Hz)\n",
            "- Filter length: 1651 samples (6.604 s)\n",
            "\n",
            "NOTE: pick_channels() is a legacy function. New code should use inst.pick(...).\n",
            "Used Annotations descriptions: [np.str_('1023'), np.str_('1077'), np.str_('1078'), np.str_('1079'), np.str_('1081'), np.str_('276'), np.str_('277'), np.str_('32766'), np.str_('768'), np.str_('769'), np.str_('770')]\n",
            "Extracting EDF parameters from /home/giuseppe_bonomo/DATASET/BCI2b_IV/dataset/B0902T.gdf...\n",
            "GDF file detected\n",
            "Setting channel info structure...\n",
            "Could not determine channel type of the following channels, they will be set as EEG:\n",
            "EEG:C3, EEG:Cz, EEG:C4, EOG:ch01, EOG:ch02, EOG:ch03\n",
            "Creating raw.info structure...\n",
            "Reading 0 ... 604802  =      0.000 ...  2419.208 secs...\n"
          ]
        },
        {
          "name": "stderr",
          "output_type": "stream",
          "text": [
            "/home/giuseppe_bonomo/DATASET/BCI2b_IV/preprocess.py:203: RuntimeWarning: Highpass cutoff frequency 100.0 is greater than lowpass cutoff frequency 0.5, setting values to 0 and Nyquist.\n",
            "  raw = mne.io.read_raw_gdf(gdf_file, preload=True)\n"
          ]
        },
        {
          "name": "stdout",
          "output_type": "stream",
          "text": [
            "Filtering raw data in 1 contiguous segment\n",
            "Setting up band-pass filter from 0.5 - 1e+02 Hz\n",
            "\n",
            "FIR filter parameters\n",
            "---------------------\n",
            "Designing a one-pass, zero-phase, non-causal bandpass filter:\n",
            "- Windowed time-domain design (firwin) method\n",
            "- Hamming window with 0.0194 passband ripple and 53 dB stopband attenuation\n",
            "- Lower passband edge: 0.50\n",
            "- Lower transition bandwidth: 0.50 Hz (-6 dB cutoff frequency: 0.25 Hz)\n",
            "- Upper passband edge: 100.00 Hz\n",
            "- Upper transition bandwidth: 25.00 Hz (-6 dB cutoff frequency: 112.50 Hz)\n",
            "- Filter length: 1651 samples (6.604 s)\n",
            "\n",
            "NOTE: pick_channels() is a legacy function. New code should use inst.pick(...).\n",
            "Used Annotations descriptions: [np.str_('1023'), np.str_('1077'), np.str_('1078'), np.str_('1079'), np.str_('1081'), np.str_('276'), np.str_('277'), np.str_('32766'), np.str_('768'), np.str_('769'), np.str_('770')]\n",
            "Extracting EDF parameters from /home/giuseppe_bonomo/DATASET/BCI2b_IV/dataset/B0903T.gdf...\n",
            "GDF file detected\n",
            "Setting channel info structure...\n",
            "Could not determine channel type of the following channels, they will be set as EEG:\n",
            "EEG:C3, EEG:Cz, EEG:C4, EOG:ch01, EOG:ch02, EOG:ch03\n",
            "Creating raw.info structure...\n",
            "Reading 0 ... 460730  =      0.000 ...  1842.920 secs...\n"
          ]
        },
        {
          "name": "stderr",
          "output_type": "stream",
          "text": [
            "/home/giuseppe_bonomo/DATASET/BCI2b_IV/preprocess.py:203: RuntimeWarning: Highpass cutoff frequency 100.0 is greater than lowpass cutoff frequency 0.5, setting values to 0 and Nyquist.\n",
            "  raw = mne.io.read_raw_gdf(gdf_file, preload=True)\n"
          ]
        },
        {
          "name": "stdout",
          "output_type": "stream",
          "text": [
            "Filtering raw data in 1 contiguous segment\n",
            "Setting up band-pass filter from 0.5 - 1e+02 Hz\n",
            "\n",
            "FIR filter parameters\n",
            "---------------------\n",
            "Designing a one-pass, zero-phase, non-causal bandpass filter:\n",
            "- Windowed time-domain design (firwin) method\n",
            "- Hamming window with 0.0194 passband ripple and 53 dB stopband attenuation\n",
            "- Lower passband edge: 0.50\n",
            "- Lower transition bandwidth: 0.50 Hz (-6 dB cutoff frequency: 0.25 Hz)\n",
            "- Upper passband edge: 100.00 Hz\n",
            "- Upper transition bandwidth: 25.00 Hz (-6 dB cutoff frequency: 112.50 Hz)\n",
            "- Filter length: 1651 samples (6.604 s)\n",
            "\n",
            "NOTE: pick_channels() is a legacy function. New code should use inst.pick(...).\n",
            "Used Annotations descriptions: [np.str_('1023'), np.str_('1077'), np.str_('1078'), np.str_('1079'), np.str_('1081'), np.str_('276'), np.str_('277'), np.str_('32766'), np.str_('768'), np.str_('769'), np.str_('770'), np.str_('781')]\n",
            "Extracting EDF parameters from /home/giuseppe_bonomo/DATASET/BCI2b_IV/dataset/B0904E.gdf...\n",
            "GDF file detected\n",
            "Setting channel info structure...\n",
            "Could not determine channel type of the following channels, they will be set as EEG:\n",
            "EEG:C3, EEG:Cz, EEG:C4, EOG:ch01, EOG:ch02, EOG:ch03\n",
            "Creating raw.info structure...\n",
            "Reading 0 ... 466802  =      0.000 ...  1867.208 secs...\n"
          ]
        },
        {
          "name": "stderr",
          "output_type": "stream",
          "text": [
            "/home/giuseppe_bonomo/DATASET/BCI2b_IV/preprocess.py:203: RuntimeWarning: Highpass cutoff frequency 100.0 is greater than lowpass cutoff frequency 0.5, setting values to 0 and Nyquist.\n",
            "  raw = mne.io.read_raw_gdf(gdf_file, preload=True)\n"
          ]
        },
        {
          "name": "stdout",
          "output_type": "stream",
          "text": [
            "Filtering raw data in 1 contiguous segment\n",
            "Setting up band-pass filter from 0.5 - 1e+02 Hz\n",
            "\n",
            "FIR filter parameters\n",
            "---------------------\n",
            "Designing a one-pass, zero-phase, non-causal bandpass filter:\n",
            "- Windowed time-domain design (firwin) method\n",
            "- Hamming window with 0.0194 passband ripple and 53 dB stopband attenuation\n",
            "- Lower passband edge: 0.50\n",
            "- Lower transition bandwidth: 0.50 Hz (-6 dB cutoff frequency: 0.25 Hz)\n",
            "- Upper passband edge: 100.00 Hz\n",
            "- Upper transition bandwidth: 25.00 Hz (-6 dB cutoff frequency: 112.50 Hz)\n",
            "- Filter length: 1651 samples (6.604 s)\n",
            "\n",
            "NOTE: pick_channels() is a legacy function. New code should use inst.pick(...).\n",
            "Used Annotations descriptions: [np.str_('1023'), np.str_('1077'), np.str_('1078'), np.str_('1079'), np.str_('1081'), np.str_('276'), np.str_('277'), np.str_('32766'), np.str_('768'), np.str_('781'), np.str_('783')]\n",
            "Extracting EDF parameters from /home/giuseppe_bonomo/DATASET/BCI2b_IV/dataset/B0905E.gdf...\n",
            "GDF file detected\n",
            "Setting channel info structure...\n",
            "Could not determine channel type of the following channels, they will be set as EEG:\n",
            "EEG:C3, EEG:Cz, EEG:C4, EOG:ch01, EOG:ch02, EOG:ch03\n",
            "Creating raw.info structure...\n",
            "Reading 0 ... 458570  =      0.000 ...  1834.280 secs...\n"
          ]
        },
        {
          "name": "stderr",
          "output_type": "stream",
          "text": [
            "/home/giuseppe_bonomo/DATASET/BCI2b_IV/preprocess.py:203: RuntimeWarning: Highpass cutoff frequency 100.0 is greater than lowpass cutoff frequency 0.5, setting values to 0 and Nyquist.\n",
            "  raw = mne.io.read_raw_gdf(gdf_file, preload=True)\n"
          ]
        },
        {
          "name": "stdout",
          "output_type": "stream",
          "text": [
            "Filtering raw data in 1 contiguous segment\n",
            "Setting up band-pass filter from 0.5 - 1e+02 Hz\n",
            "\n",
            "FIR filter parameters\n",
            "---------------------\n",
            "Designing a one-pass, zero-phase, non-causal bandpass filter:\n",
            "- Windowed time-domain design (firwin) method\n",
            "- Hamming window with 0.0194 passband ripple and 53 dB stopband attenuation\n",
            "- Lower passband edge: 0.50\n",
            "- Lower transition bandwidth: 0.50 Hz (-6 dB cutoff frequency: 0.25 Hz)\n",
            "- Upper passband edge: 100.00 Hz\n",
            "- Upper transition bandwidth: 25.00 Hz (-6 dB cutoff frequency: 112.50 Hz)\n",
            "- Filter length: 1651 samples (6.604 s)\n",
            "\n",
            "NOTE: pick_channels() is a legacy function. New code should use inst.pick(...).\n",
            "Used Annotations descriptions: [np.str_('1023'), np.str_('1077'), np.str_('1078'), np.str_('1079'), np.str_('1081'), np.str_('276'), np.str_('277'), np.str_('32766'), np.str_('768'), np.str_('781'), np.str_('783')]\n",
            "Lunghezza originale del segnale: (77, 1, 3, 750)\n",
            "Livello 1: coeffs_approx shape (77, 1, 3, 750), lo_d shape (12,), hi_d shape (12,)\n",
            "Livello 2: coeffs_approx shape (77, 1, 3, 750), lo_d shape (13,), hi_d shape (13,)\n",
            "Livello 3: coeffs_approx shape (77, 1, 3, 750), lo_d shape (14,), hi_d shape (14,)\n",
            "Livello 4: coeffs_approx shape (77, 1, 3, 750), lo_d shape (14,), hi_d shape (14,)\n",
            "Lunghezza del segnale ricostruito: (77, 1, 3, 750)\n",
            "\u001b[1m3/3\u001b[0m \u001b[32m━━━━━━━━━━━━━━━━━━━━\u001b[0m\u001b[37m\u001b[0m \u001b[1m2s\u001b[0m 1s/step \n",
            "\n",
            "---------------------------------\n",
            "Test performance (acc & k-score):\n",
            "---------------------------------\n",
            "                  sub_1   sub_2   sub_3   sub_4   sub_5   sub_6   sub_7   sub_8   sub_9     average\n",
            "                  -----   -----   -----   -----   -----   -----   -----   -----   -----     -------\n",
            "Seed 1: (acc %)   97.87   100.00   96.74   86.67   96.15   97.18   98.89   97.83   100.00     96.81   \n",
            "        (k-sco)   0.489   1.000   0.384   0.000   0.731   0.000   0.795   0.489   1.000     0.543   \n",
            "----------------------------------\n",
            "Average - all seeds (acc %): 96.81\n",
            "                    (k-sco): 0.543\n",
            "\n",
            "Inference time: 31.47 ms per trial\n",
            "----------------------------------\n",
            "\n"
          ]
        },
        {
          "data": {
            "image/png": "[encoded data removed]",
            "text/plain": [
              "<Figure size 640x480 with 1 Axes>"
            ]
          },
          "metadata": {},
          "output_type": "display_data"
        },
        {
          "data": {
            "image/png": "[encoded data removed]",
            "text/plain": [
              "<Figure size 640x480 with 1 Axes>"
            ]
          },
          "metadata": {},
          "output_type": "display_data"
        },
        {
          "data": {
            "image/png": "[encoded data removed]",
            "text/plain": [
              "<Figure size 640x480 with 2 Axes>"
            ]
          },
          "metadata": {},
          "output_type": "display_data"
        }
      ],
      "source": [
        "run(\"rdwt\")"
      ]
    },
    {
      "cell_type": "markdown",
      "metadata": {
        "id": "hrsTupSKky9e"
      },
      "source": [
        "## RDWT Normalized"
      ]
    },
    {
      "cell_type": "code",
      "execution_count": null,
      "metadata": {
        "id": "2KLnWccFky9e"
      },
      "outputs": [],
      "source": [
        "run(\"rdwt_normalized\")"
      ]
    }
  ],
  "metadata": {
    "accelerator": "GPU",
    "colab": {
      "gpuType": "T4",
      "provenance": []
    },
    "kernelspec": {
      "display_name": "tensorflow",
      "language": "python",
      "name": "python3"
    },
    "language_info": {
      "codemirror_mode": {
        "name": "ipython",
        "version": 3
      },
      "file_extension": ".py",
      "mimetype": "text/x-python",
      "name": "python",
      "nbconvert_exporter": "python",
      "pygments_lexer": "ipython3",
      "version": "3.10.16"
    }
  },
  "nbformat": 4,
  "nbformat_minor": 0
}
